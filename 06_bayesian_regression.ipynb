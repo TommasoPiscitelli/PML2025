{
 "cells": [
  {
   "cell_type": "markdown",
   "id": "f36def74",
   "metadata": {},
   "source": [
    "<a href=\"https://colab.research.google.com/github/r-doz/PML2025/blob/main/./06_bayesian_regression.ipynb\" target=\"_parent\"><img src=\"https://colab.research.google.com/assets/colab-badge.svg\" alt=\"Open In Colab\"/></a>"
   ]
  },
  {
   "cell_type": "markdown",
   "metadata": {},
   "source": [
    "# Notebook 6: Bayesian Linear Regression & Classification\n",
    "\n",
    "Probabilistic Machine Learning -- Spring 2025, UniTS\n"
   ]
  },
  {
   "cell_type": "markdown",
   "metadata": {},
   "source": [
    "In this notebook, we explore linear regression and classification from a Bayesian point of view. In both cases, we start implementing the classical formulation and then we switch to the Bayesian version. We can then compare the methods on a simple example."
   ]
  },
  {
   "cell_type": "code",
   "execution_count": 11,
   "metadata": {},
   "outputs": [],
   "source": [
    "import pandas as pd\n",
    "import numpy as np\n",
    "import matplotlib.pyplot as plt"
   ]
  },
  {
   "cell_type": "markdown",
   "metadata": {},
   "source": [
    "## Linear Regression\n",
    "\n",
    "The first model that we implement is the well known linear regression model and we use the \"linear algebra view\" that we studied during the lessons.\n",
    "\n",
    "As a case study, we use the [Kaggle dataset](https://www.kaggle.com/datasets/budincsevity/szeged-weather/data) about Weather in Szeged (Hungary) between 2006 and 2016 and we try to predict the apparent temperature given some predictors.\n",
    "\n"
   ]
  },
  {
   "cell_type": "code",
   "execution_count": 12,
   "metadata": {},
   "outputs": [
    {
     "data": {
      "application/vnd.microsoft.datawrangler.viewer.v0+json": {
       "columns": [
        {
         "name": "index",
         "rawType": "int64",
         "type": "integer"
        },
        {
         "name": "Formatted Date",
         "rawType": "object",
         "type": "string"
        },
        {
         "name": "Summary",
         "rawType": "object",
         "type": "string"
        },
        {
         "name": "Precip Type",
         "rawType": "object",
         "type": "unknown"
        },
        {
         "name": "Temperature (C)",
         "rawType": "float64",
         "type": "float"
        },
        {
         "name": "Apparent Temperature (C)",
         "rawType": "float64",
         "type": "float"
        },
        {
         "name": "Humidity",
         "rawType": "float64",
         "type": "float"
        },
        {
         "name": "Wind Speed (km/h)",
         "rawType": "float64",
         "type": "float"
        },
        {
         "name": "Wind Bearing (degrees)",
         "rawType": "float64",
         "type": "float"
        },
        {
         "name": "Visibility (km)",
         "rawType": "float64",
         "type": "float"
        },
        {
         "name": "Loud Cover",
         "rawType": "float64",
         "type": "float"
        },
        {
         "name": "Pressure (millibars)",
         "rawType": "float64",
         "type": "float"
        },
        {
         "name": "Daily Summary",
         "rawType": "object",
         "type": "string"
        }
       ],
       "ref": "c3859dbd-b62e-49e1-8661-db4d22584ec8",
       "rows": [
        [
         "0",
         "2006-04-01 00:00:00.000 +0200",
         "Partly Cloudy",
         "rain",
         "9.47222222222222",
         "7.388888888888887",
         "0.89",
         "14.1197",
         "251.0",
         "15.826300000000002",
         "0.0",
         "1015.13",
         "Partly cloudy throughout the day."
        ],
        [
         "1",
         "2006-04-01 01:00:00.000 +0200",
         "Partly Cloudy",
         "rain",
         "9.355555555555558",
         "7.227777777777776",
         "0.86",
         "14.2646",
         "259.0",
         "15.826300000000002",
         "0.0",
         "1015.63",
         "Partly cloudy throughout the day."
        ],
        [
         "2",
         "2006-04-01 02:00:00.000 +0200",
         "Mostly Cloudy",
         "rain",
         "9.377777777777778",
         "9.377777777777778",
         "0.89",
         "3.9284",
         "204.0",
         "14.9569",
         "0.0",
         "1015.94",
         "Partly cloudy throughout the day."
        ],
        [
         "3",
         "2006-04-01 03:00:00.000 +0200",
         "Partly Cloudy",
         "rain",
         "8.28888888888889",
         "5.944444444444446",
         "0.83",
         "14.1036",
         "269.0",
         "15.826300000000002",
         "0.0",
         "1016.41",
         "Partly cloudy throughout the day."
        ],
        [
         "4",
         "2006-04-01 04:00:00.000 +0200",
         "Mostly Cloudy",
         "rain",
         "8.755555555555553",
         "6.977777777777779",
         "0.83",
         "11.0446",
         "259.0",
         "15.826300000000002",
         "0.0",
         "1016.51",
         "Partly cloudy throughout the day."
        ],
        [
         "5",
         "2006-04-01 05:00:00.000 +0200",
         "Partly Cloudy",
         "rain",
         "9.22222222222222",
         "7.11111111111111",
         "0.85",
         "13.9587",
         "258.0",
         "14.9569",
         "0.0",
         "1016.66",
         "Partly cloudy throughout the day."
        ],
        [
         "6",
         "2006-04-01 06:00:00.000 +0200",
         "Partly Cloudy",
         "rain",
         "7.733333333333334",
         "5.522222222222221",
         "0.95",
         "12.3648",
         "259.0",
         "9.982",
         "0.0",
         "1016.72",
         "Partly cloudy throughout the day."
        ],
        [
         "7",
         "2006-04-01 07:00:00.000 +0200",
         "Partly Cloudy",
         "rain",
         "8.77222222222222",
         "6.527777777777778",
         "0.89",
         "14.1519",
         "260.0",
         "9.982",
         "0.0",
         "1016.84",
         "Partly cloudy throughout the day."
        ],
        [
         "8",
         "2006-04-01 08:00:00.000 +0200",
         "Partly Cloudy",
         "rain",
         "10.82222222222222",
         "10.82222222222222",
         "0.82",
         "11.3183",
         "259.0",
         "9.982",
         "0.0",
         "1017.37",
         "Partly cloudy throughout the day."
        ],
        [
         "9",
         "2006-04-01 09:00:00.000 +0200",
         "Partly Cloudy",
         "rain",
         "13.77222222222222",
         "13.77222222222222",
         "0.72",
         "12.525800000000002",
         "279.0",
         "9.982",
         "0.0",
         "1017.22",
         "Partly cloudy throughout the day."
        ],
        [
         "10",
         "2006-04-01 10:00:00.000 +0200",
         "Partly Cloudy",
         "rain",
         "16.016666666666666",
         "16.016666666666666",
         "0.67",
         "17.5651",
         "290.0",
         "11.2056",
         "0.0",
         "1017.42",
         "Partly cloudy throughout the day."
        ],
        [
         "11",
         "2006-04-01 11:00:00.000 +0200",
         "Partly Cloudy",
         "rain",
         "17.144444444444446",
         "17.144444444444446",
         "0.54",
         "19.7869",
         "316.0",
         "11.4471",
         "0.0",
         "1017.74",
         "Partly cloudy throughout the day."
        ],
        [
         "12",
         "2006-04-01 12:00:00.000 +0200",
         "Partly Cloudy",
         "rain",
         "17.800000000000004",
         "17.800000000000004",
         "0.55",
         "21.9443",
         "281.0",
         "11.27",
         "0.0",
         "1017.59",
         "Partly cloudy throughout the day."
        ],
        [
         "13",
         "2006-04-01 13:00:00.000 +0200",
         "Partly Cloudy",
         "rain",
         "17.333333333333332",
         "17.333333333333332",
         "0.51",
         "20.6885",
         "289.0",
         "11.27",
         "0.0",
         "1017.48",
         "Partly cloudy throughout the day."
        ],
        [
         "14",
         "2006-04-01 14:00:00.000 +0200",
         "Partly Cloudy",
         "rain",
         "18.87777777777778",
         "18.87777777777778",
         "0.47",
         "15.375500000000002",
         "262.0",
         "11.4471",
         "0.0",
         "1017.17",
         "Partly cloudy throughout the day."
        ],
        [
         "15",
         "2006-04-01 15:00:00.000 +0200",
         "Partly Cloudy",
         "rain",
         "18.911111111111115",
         "18.911111111111115",
         "0.46",
         "10.4006",
         "288.0",
         "11.27",
         "0.0",
         "1016.47",
         "Partly cloudy throughout the day."
        ],
        [
         "16",
         "2006-04-01 16:00:00.000 +0200",
         "Partly Cloudy",
         "rain",
         "15.38888888888889",
         "15.38888888888889",
         "0.6",
         "14.4095",
         "251.0",
         "11.27",
         "0.0",
         "1016.15",
         "Partly cloudy throughout the day."
        ],
        [
         "17",
         "2006-04-01 17:00:00.000 +0200",
         "Mostly Cloudy",
         "rain",
         "15.550000000000002",
         "15.550000000000002",
         "0.63",
         "11.1573",
         "230.0",
         "11.4471",
         "0.0",
         "1016.17",
         "Partly cloudy throughout the day."
        ],
        [
         "18",
         "2006-04-01 18:00:00.000 +0200",
         "Mostly Cloudy",
         "rain",
         "14.255555555555553",
         "14.255555555555553",
         "0.69",
         "8.5169",
         "163.0",
         "11.2056",
         "0.0",
         "1015.82",
         "Partly cloudy throughout the day."
        ],
        [
         "19",
         "2006-04-01 19:00:00.000 +0200",
         "Mostly Cloudy",
         "rain",
         "13.144444444444442",
         "13.144444444444442",
         "0.7",
         "7.631400000000001",
         "139.0",
         "11.2056",
         "0.0",
         "1015.83",
         "Partly cloudy throughout the day."
        ],
        [
         "20",
         "2006-04-01 20:00:00.000 +0200",
         "Mostly Cloudy",
         "rain",
         "11.55",
         "11.55",
         "0.77",
         "7.3899",
         "147.0",
         "11.0285",
         "0.0",
         "1015.85",
         "Partly cloudy throughout the day."
        ],
        [
         "21",
         "2006-04-01 21:00:00.000 +0200",
         "Mostly Cloudy",
         "rain",
         "11.183333333333334",
         "11.183333333333334",
         "0.76",
         "4.9266000000000005",
         "160.0",
         "9.982",
         "0.0",
         "1015.77",
         "Partly cloudy throughout the day."
        ],
        [
         "22",
         "2006-04-01 22:00:00.000 +0200",
         "Partly Cloudy",
         "rain",
         "10.116666666666667",
         "10.116666666666667",
         "0.79",
         "6.6493",
         "163.0",
         "15.826300000000002",
         "0.0",
         "1015.4",
         "Partly cloudy throughout the day."
        ],
        [
         "23",
         "2006-04-01 23:00:00.000 +0200",
         "Mostly Cloudy",
         "rain",
         "10.2",
         "10.2",
         "0.77",
         "3.9284",
         "152.0",
         "14.9569",
         "0.0",
         "1015.51",
         "Partly cloudy throughout the day."
        ],
        [
         "24",
         "2006-04-10 00:00:00.000 +0200",
         "Partly Cloudy",
         "rain",
         "10.42222222222222",
         "10.42222222222222",
         "0.62",
         "16.985500000000002",
         "150.0",
         "15.826300000000002",
         "0.0",
         "1014.4",
         "Mostly cloudy throughout the day."
        ],
        [
         "25",
         "2006-04-10 01:00:00.000 +0200",
         "Partly Cloudy",
         "rain",
         "9.911111111111111",
         "7.566666666666666",
         "0.66",
         "17.2109",
         "149.0",
         "15.826300000000002",
         "0.0",
         "1014.2",
         "Mostly cloudy throughout the day."
        ],
        [
         "26",
         "2006-04-10 02:00:00.000 +0200",
         "Mostly Cloudy",
         "rain",
         "11.183333333333334",
         "11.183333333333334",
         "0.8",
         "10.8192",
         "163.0",
         "14.9569",
         "0.0",
         "1008.71",
         "Mostly cloudy throughout the day."
        ],
        [
         "27",
         "2006-04-10 03:00:00.000 +0200",
         "Partly Cloudy",
         "rain",
         "7.155555555555556",
         "5.044444444444443",
         "0.79",
         "11.0768",
         "180.0",
         "15.826300000000002",
         "0.0",
         "1014.47",
         "Mostly cloudy throughout the day."
        ],
        [
         "28",
         "2006-04-10 04:00:00.000 +0200",
         "Partly Cloudy",
         "rain",
         "6.111111111111111",
         "4.816666666666667",
         "0.82",
         "6.6493",
         "161.0",
         "15.826300000000002",
         "0.0",
         "1014.45",
         "Mostly cloudy throughout the day."
        ],
        [
         "29",
         "2006-04-10 05:00:00.000 +0200",
         "Partly Cloudy",
         "rain",
         "6.788888888888888",
         "4.272222222222221",
         "0.83",
         "13.0088",
         "135.0",
         "14.9569",
         "0.0",
         "1014.49",
         "Mostly cloudy throughout the day."
        ],
        [
         "30",
         "2006-04-10 06:00:00.000 +0200",
         "Mostly Cloudy",
         "rain",
         "7.26111111111111",
         "5.155555555555556",
         "0.85",
         "11.1734",
         "141.0",
         "6.1985",
         "0.0",
         "1014.52",
         "Mostly cloudy throughout the day."
        ],
        [
         "31",
         "2006-04-10 07:00:00.000 +0200",
         "Mostly Cloudy",
         "rain",
         "7.799999999999999",
         "5.52777777777778",
         "0.83",
         "12.8156",
         "150.0",
         "8.05",
         "0.0",
         "1014.16",
         "Mostly cloudy throughout the day."
        ],
        [
         "32",
         "2006-04-10 08:00:00.000 +0200",
         "Mostly Cloudy",
         "rain",
         "9.872222222222224",
         "7.933333333333334",
         "0.78",
         "13.7494",
         "160.0",
         "9.982",
         "0.0",
         "1014.24",
         "Mostly cloudy throughout the day."
        ],
        [
         "33",
         "2006-04-10 09:00:00.000 +0200",
         "Mostly Cloudy",
         "rain",
         "12.22222222222222",
         "12.22222222222222",
         "0.72",
         "15.633100000000002",
         "150.0",
         "9.982",
         "0.0",
         "1014.25",
         "Mostly cloudy throughout the day."
        ],
        [
         "34",
         "2006-04-10 10:00:00.000 +0200",
         "Mostly Cloudy",
         "rain",
         "15.094444444444449",
         "15.094444444444449",
         "0.61",
         "17.549000000000003",
         "151.0",
         "9.982",
         "0.0",
         "1013.96",
         "Mostly cloudy throughout the day."
        ],
        [
         "35",
         "2006-04-10 11:00:00.000 +0200",
         "Mostly Cloudy",
         "rain",
         "17.355555555555558",
         "17.355555555555558",
         "0.52",
         "22.7815",
         "169.0",
         "9.982",
         "0.0",
         "1013.85",
         "Mostly cloudy throughout the day."
        ],
        [
         "36",
         "2006-04-10 12:00:00.000 +0200",
         "Mostly Cloudy",
         "rain",
         "19.00555555555555",
         "19.00555555555555",
         "0.46",
         "23.8924",
         "169.0",
         "9.982",
         "0.0",
         "1013.04",
         "Mostly cloudy throughout the day."
        ],
        [
         "37",
         "2006-04-10 13:00:00.000 +0200",
         "Mostly Cloudy",
         "rain",
         "20.04444444444444",
         "20.04444444444444",
         "0.4",
         "28.3682",
         "170.0",
         "9.982",
         "0.0",
         "1012.22",
         "Mostly cloudy throughout the day."
        ],
        [
         "38",
         "2006-04-10 14:00:00.000 +0200",
         "Mostly Cloudy",
         "rain",
         "21.05",
         "21.05",
         "0.4",
         "26.9031",
         "187.0",
         "10.3523",
         "0.0",
         "1011.44",
         "Mostly cloudy throughout the day."
        ],
        [
         "39",
         "2006-04-10 15:00:00.000 +0200",
         "Mostly Cloudy",
         "rain",
         "21.18333333333333",
         "21.18333333333333",
         "0.37",
         "25.6956",
         "179.0",
         "9.982",
         "0.0",
         "1010.52",
         "Mostly cloudy throughout the day."
        ],
        [
         "40",
         "2006-04-10 16:00:00.000 +0200",
         "Mostly Cloudy",
         "rain",
         "20.11666666666666",
         "20.11666666666666",
         "0.4",
         "25.309200000000004",
         "162.0",
         "9.982",
         "0.0",
         "1009.83",
         "Mostly cloudy throughout the day."
        ],
        [
         "41",
         "2006-04-10 17:00:00.000 +0200",
         "Mostly Cloudy",
         "rain",
         "20.216666666666665",
         "20.216666666666665",
         "0.36",
         "18.1125",
         "161.0",
         "10.3523",
         "0.0",
         "1009.26",
         "Mostly cloudy throughout the day."
        ],
        [
         "42",
         "2006-04-10 18:00:00.000 +0200",
         "Mostly Cloudy",
         "rain",
         "20.0",
         "20.0",
         "0.43",
         "23.425500000000003",
         "160.0",
         "9.982",
         "0.0",
         "1008.76",
         "Mostly cloudy throughout the day."
        ],
        [
         "43",
         "2006-04-10 19:00:00.000 +0200",
         "Mostly Cloudy",
         "rain",
         "17.800000000000004",
         "17.800000000000004",
         "0.5",
         "20.0445",
         "150.0",
         "11.2056",
         "0.0",
         "1008.36",
         "Mostly cloudy throughout the day."
        ],
        [
         "44",
         "2006-04-10 20:00:00.000 +0200",
         "Mostly Cloudy",
         "rain",
         "16.06111111111111",
         "16.06111111111111",
         "0.53",
         "21.3969",
         "149.0",
         "9.982",
         "0.0",
         "1008.11",
         "Mostly cloudy throughout the day."
        ],
        [
         "45",
         "2006-04-10 21:00:00.000 +0200",
         "Mostly Cloudy",
         "rain",
         "15.02222222222222",
         "15.02222222222222",
         "0.55",
         "21.3808",
         "159.0",
         "9.982",
         "0.0",
         "1008.15",
         "Mostly cloudy throughout the day."
        ],
        [
         "46",
         "2006-04-10 22:00:00.000 +0200",
         "Overcast",
         "rain",
         "14.422222222222224",
         "14.422222222222224",
         "0.58",
         "20.0123",
         "159.0",
         "15.826300000000002",
         "0.0",
         "1007.85",
         "Mostly cloudy throughout the day."
        ],
        [
         "47",
         "2006-04-10 23:00:00.000 +0200",
         "Overcast",
         "rain",
         "14.255555555555553",
         "14.255555555555553",
         "0.59",
         "16.5025",
         "168.0",
         "14.9569",
         "0.0",
         "1007.89",
         "Mostly cloudy throughout the day."
        ],
        [
         "48",
         "2006-04-11 00:00:00.000 +0200",
         "Overcast",
         "rain",
         "13.77222222222222",
         "13.77222222222222",
         "0.6",
         "17.0982",
         "160.0",
         "15.826300000000002",
         "0.0",
         "1007.36",
         "Foggy in the evening."
        ],
        [
         "49",
         "2006-04-11 01:00:00.000 +0200",
         "Overcast",
         "rain",
         "13.283333333333331",
         "13.283333333333331",
         "0.63",
         "14.3612",
         "160.0",
         "15.826300000000002",
         "0.0",
         "1007.26",
         "Foggy in the evening."
        ]
       ],
       "shape": {
        "columns": 12,
        "rows": 96453
       }
      },
      "text/html": [
       "<div>\n",
       "<style scoped>\n",
       "    .dataframe tbody tr th:only-of-type {\n",
       "        vertical-align: middle;\n",
       "    }\n",
       "\n",
       "    .dataframe tbody tr th {\n",
       "        vertical-align: top;\n",
       "    }\n",
       "\n",
       "    .dataframe thead th {\n",
       "        text-align: right;\n",
       "    }\n",
       "</style>\n",
       "<table border=\"1\" class=\"dataframe\">\n",
       "  <thead>\n",
       "    <tr style=\"text-align: right;\">\n",
       "      <th></th>\n",
       "      <th>Formatted Date</th>\n",
       "      <th>Summary</th>\n",
       "      <th>Precip Type</th>\n",
       "      <th>Temperature (C)</th>\n",
       "      <th>Apparent Temperature (C)</th>\n",
       "      <th>Humidity</th>\n",
       "      <th>Wind Speed (km/h)</th>\n",
       "      <th>Wind Bearing (degrees)</th>\n",
       "      <th>Visibility (km)</th>\n",
       "      <th>Loud Cover</th>\n",
       "      <th>Pressure (millibars)</th>\n",
       "      <th>Daily Summary</th>\n",
       "    </tr>\n",
       "  </thead>\n",
       "  <tbody>\n",
       "    <tr>\n",
       "      <th>0</th>\n",
       "      <td>2006-04-01 00:00:00.000 +0200</td>\n",
       "      <td>Partly Cloudy</td>\n",
       "      <td>rain</td>\n",
       "      <td>9.472222</td>\n",
       "      <td>7.388889</td>\n",
       "      <td>0.89</td>\n",
       "      <td>14.1197</td>\n",
       "      <td>251.0</td>\n",
       "      <td>15.8263</td>\n",
       "      <td>0.0</td>\n",
       "      <td>1015.13</td>\n",
       "      <td>Partly cloudy throughout the day.</td>\n",
       "    </tr>\n",
       "    <tr>\n",
       "      <th>1</th>\n",
       "      <td>2006-04-01 01:00:00.000 +0200</td>\n",
       "      <td>Partly Cloudy</td>\n",
       "      <td>rain</td>\n",
       "      <td>9.355556</td>\n",
       "      <td>7.227778</td>\n",
       "      <td>0.86</td>\n",
       "      <td>14.2646</td>\n",
       "      <td>259.0</td>\n",
       "      <td>15.8263</td>\n",
       "      <td>0.0</td>\n",
       "      <td>1015.63</td>\n",
       "      <td>Partly cloudy throughout the day.</td>\n",
       "    </tr>\n",
       "    <tr>\n",
       "      <th>2</th>\n",
       "      <td>2006-04-01 02:00:00.000 +0200</td>\n",
       "      <td>Mostly Cloudy</td>\n",
       "      <td>rain</td>\n",
       "      <td>9.377778</td>\n",
       "      <td>9.377778</td>\n",
       "      <td>0.89</td>\n",
       "      <td>3.9284</td>\n",
       "      <td>204.0</td>\n",
       "      <td>14.9569</td>\n",
       "      <td>0.0</td>\n",
       "      <td>1015.94</td>\n",
       "      <td>Partly cloudy throughout the day.</td>\n",
       "    </tr>\n",
       "    <tr>\n",
       "      <th>3</th>\n",
       "      <td>2006-04-01 03:00:00.000 +0200</td>\n",
       "      <td>Partly Cloudy</td>\n",
       "      <td>rain</td>\n",
       "      <td>8.288889</td>\n",
       "      <td>5.944444</td>\n",
       "      <td>0.83</td>\n",
       "      <td>14.1036</td>\n",
       "      <td>269.0</td>\n",
       "      <td>15.8263</td>\n",
       "      <td>0.0</td>\n",
       "      <td>1016.41</td>\n",
       "      <td>Partly cloudy throughout the day.</td>\n",
       "    </tr>\n",
       "    <tr>\n",
       "      <th>4</th>\n",
       "      <td>2006-04-01 04:00:00.000 +0200</td>\n",
       "      <td>Mostly Cloudy</td>\n",
       "      <td>rain</td>\n",
       "      <td>8.755556</td>\n",
       "      <td>6.977778</td>\n",
       "      <td>0.83</td>\n",
       "      <td>11.0446</td>\n",
       "      <td>259.0</td>\n",
       "      <td>15.8263</td>\n",
       "      <td>0.0</td>\n",
       "      <td>1016.51</td>\n",
       "      <td>Partly cloudy throughout the day.</td>\n",
       "    </tr>\n",
       "    <tr>\n",
       "      <th>...</th>\n",
       "      <td>...</td>\n",
       "      <td>...</td>\n",
       "      <td>...</td>\n",
       "      <td>...</td>\n",
       "      <td>...</td>\n",
       "      <td>...</td>\n",
       "      <td>...</td>\n",
       "      <td>...</td>\n",
       "      <td>...</td>\n",
       "      <td>...</td>\n",
       "      <td>...</td>\n",
       "      <td>...</td>\n",
       "    </tr>\n",
       "    <tr>\n",
       "      <th>96448</th>\n",
       "      <td>2016-09-09 19:00:00.000 +0200</td>\n",
       "      <td>Partly Cloudy</td>\n",
       "      <td>rain</td>\n",
       "      <td>26.016667</td>\n",
       "      <td>26.016667</td>\n",
       "      <td>0.43</td>\n",
       "      <td>10.9963</td>\n",
       "      <td>31.0</td>\n",
       "      <td>16.1000</td>\n",
       "      <td>0.0</td>\n",
       "      <td>1014.36</td>\n",
       "      <td>Partly cloudy starting in the morning.</td>\n",
       "    </tr>\n",
       "    <tr>\n",
       "      <th>96449</th>\n",
       "      <td>2016-09-09 20:00:00.000 +0200</td>\n",
       "      <td>Partly Cloudy</td>\n",
       "      <td>rain</td>\n",
       "      <td>24.583333</td>\n",
       "      <td>24.583333</td>\n",
       "      <td>0.48</td>\n",
       "      <td>10.0947</td>\n",
       "      <td>20.0</td>\n",
       "      <td>15.5526</td>\n",
       "      <td>0.0</td>\n",
       "      <td>1015.16</td>\n",
       "      <td>Partly cloudy starting in the morning.</td>\n",
       "    </tr>\n",
       "    <tr>\n",
       "      <th>96450</th>\n",
       "      <td>2016-09-09 21:00:00.000 +0200</td>\n",
       "      <td>Partly Cloudy</td>\n",
       "      <td>rain</td>\n",
       "      <td>22.038889</td>\n",
       "      <td>22.038889</td>\n",
       "      <td>0.56</td>\n",
       "      <td>8.9838</td>\n",
       "      <td>30.0</td>\n",
       "      <td>16.1000</td>\n",
       "      <td>0.0</td>\n",
       "      <td>1015.66</td>\n",
       "      <td>Partly cloudy starting in the morning.</td>\n",
       "    </tr>\n",
       "    <tr>\n",
       "      <th>96451</th>\n",
       "      <td>2016-09-09 22:00:00.000 +0200</td>\n",
       "      <td>Partly Cloudy</td>\n",
       "      <td>rain</td>\n",
       "      <td>21.522222</td>\n",
       "      <td>21.522222</td>\n",
       "      <td>0.60</td>\n",
       "      <td>10.5294</td>\n",
       "      <td>20.0</td>\n",
       "      <td>16.1000</td>\n",
       "      <td>0.0</td>\n",
       "      <td>1015.95</td>\n",
       "      <td>Partly cloudy starting in the morning.</td>\n",
       "    </tr>\n",
       "    <tr>\n",
       "      <th>96452</th>\n",
       "      <td>2016-09-09 23:00:00.000 +0200</td>\n",
       "      <td>Partly Cloudy</td>\n",
       "      <td>rain</td>\n",
       "      <td>20.438889</td>\n",
       "      <td>20.438889</td>\n",
       "      <td>0.61</td>\n",
       "      <td>5.8765</td>\n",
       "      <td>39.0</td>\n",
       "      <td>15.5204</td>\n",
       "      <td>0.0</td>\n",
       "      <td>1016.16</td>\n",
       "      <td>Partly cloudy starting in the morning.</td>\n",
       "    </tr>\n",
       "  </tbody>\n",
       "</table>\n",
       "<p>96453 rows × 12 columns</p>\n",
       "</div>"
      ],
      "text/plain": [
       "                      Formatted Date        Summary Precip Type  \\\n",
       "0      2006-04-01 00:00:00.000 +0200  Partly Cloudy        rain   \n",
       "1      2006-04-01 01:00:00.000 +0200  Partly Cloudy        rain   \n",
       "2      2006-04-01 02:00:00.000 +0200  Mostly Cloudy        rain   \n",
       "3      2006-04-01 03:00:00.000 +0200  Partly Cloudy        rain   \n",
       "4      2006-04-01 04:00:00.000 +0200  Mostly Cloudy        rain   \n",
       "...                              ...            ...         ...   \n",
       "96448  2016-09-09 19:00:00.000 +0200  Partly Cloudy        rain   \n",
       "96449  2016-09-09 20:00:00.000 +0200  Partly Cloudy        rain   \n",
       "96450  2016-09-09 21:00:00.000 +0200  Partly Cloudy        rain   \n",
       "96451  2016-09-09 22:00:00.000 +0200  Partly Cloudy        rain   \n",
       "96452  2016-09-09 23:00:00.000 +0200  Partly Cloudy        rain   \n",
       "\n",
       "       Temperature (C)  Apparent Temperature (C)  Humidity  Wind Speed (km/h)  \\\n",
       "0             9.472222                  7.388889      0.89            14.1197   \n",
       "1             9.355556                  7.227778      0.86            14.2646   \n",
       "2             9.377778                  9.377778      0.89             3.9284   \n",
       "3             8.288889                  5.944444      0.83            14.1036   \n",
       "4             8.755556                  6.977778      0.83            11.0446   \n",
       "...                ...                       ...       ...                ...   \n",
       "96448        26.016667                 26.016667      0.43            10.9963   \n",
       "96449        24.583333                 24.583333      0.48            10.0947   \n",
       "96450        22.038889                 22.038889      0.56             8.9838   \n",
       "96451        21.522222                 21.522222      0.60            10.5294   \n",
       "96452        20.438889                 20.438889      0.61             5.8765   \n",
       "\n",
       "       Wind Bearing (degrees)  Visibility (km)  Loud Cover  \\\n",
       "0                       251.0          15.8263         0.0   \n",
       "1                       259.0          15.8263         0.0   \n",
       "2                       204.0          14.9569         0.0   \n",
       "3                       269.0          15.8263         0.0   \n",
       "4                       259.0          15.8263         0.0   \n",
       "...                       ...              ...         ...   \n",
       "96448                    31.0          16.1000         0.0   \n",
       "96449                    20.0          15.5526         0.0   \n",
       "96450                    30.0          16.1000         0.0   \n",
       "96451                    20.0          16.1000         0.0   \n",
       "96452                    39.0          15.5204         0.0   \n",
       "\n",
       "       Pressure (millibars)                           Daily Summary  \n",
       "0                   1015.13       Partly cloudy throughout the day.  \n",
       "1                   1015.63       Partly cloudy throughout the day.  \n",
       "2                   1015.94       Partly cloudy throughout the day.  \n",
       "3                   1016.41       Partly cloudy throughout the day.  \n",
       "4                   1016.51       Partly cloudy throughout the day.  \n",
       "...                     ...                                     ...  \n",
       "96448               1014.36  Partly cloudy starting in the morning.  \n",
       "96449               1015.16  Partly cloudy starting in the morning.  \n",
       "96450               1015.66  Partly cloudy starting in the morning.  \n",
       "96451               1015.95  Partly cloudy starting in the morning.  \n",
       "96452               1016.16  Partly cloudy starting in the morning.  \n",
       "\n",
       "[96453 rows x 12 columns]"
      ]
     },
     "execution_count": 12,
     "metadata": {},
     "output_type": "execute_result"
    }
   ],
   "source": [
    "weatherHistory = pd.read_csv('https://raw.githubusercontent.com/DavideScassola/PML2024/main/Notebooks/data/weatherHistory.csv')\n",
    "weatherHistory"
   ]
  },
  {
   "cell_type": "code",
   "execution_count": 13,
   "metadata": {},
   "outputs": [
    {
     "name": "stdout",
     "output_type": "stream",
     "text": [
      "<class 'pandas.core.frame.DataFrame'>\n",
      "RangeIndex: 96453 entries, 0 to 96452\n",
      "Data columns (total 12 columns):\n",
      " #   Column                    Non-Null Count  Dtype  \n",
      "---  ------                    --------------  -----  \n",
      " 0   Formatted Date            96453 non-null  object \n",
      " 1   Summary                   96453 non-null  object \n",
      " 2   Precip Type               95936 non-null  object \n",
      " 3   Temperature (C)           96453 non-null  float64\n",
      " 4   Apparent Temperature (C)  96453 non-null  float64\n",
      " 5   Humidity                  96453 non-null  float64\n",
      " 6   Wind Speed (km/h)         96453 non-null  float64\n",
      " 7   Wind Bearing (degrees)    96453 non-null  float64\n",
      " 8   Visibility (km)           96453 non-null  float64\n",
      " 9   Loud Cover                96453 non-null  float64\n",
      " 10  Pressure (millibars)      96453 non-null  float64\n",
      " 11  Daily Summary             96453 non-null  object \n",
      "dtypes: float64(8), object(4)\n",
      "memory usage: 8.8+ MB\n"
     ]
    }
   ],
   "source": [
    "weatherHistory.info()"
   ]
  },
  {
   "cell_type": "code",
   "execution_count": 14,
   "metadata": {},
   "outputs": [
    {
     "name": "stdout",
     "output_type": "stream",
     "text": [
      "<class 'pandas.core.frame.DataFrame'>\n",
      "RangeIndex: 30 entries, 0 to 29\n",
      "Data columns (total 12 columns):\n",
      " #   Column                    Non-Null Count  Dtype              \n",
      "---  ------                    --------------  -----              \n",
      " 0   Formatted Date            30 non-null     datetime64[ns, UTC]\n",
      " 1   Summary                   30 non-null     object             \n",
      " 2   Precip Type               30 non-null     object             \n",
      " 3   Temperature (C)           30 non-null     float64            \n",
      " 4   Apparent Temperature (C)  30 non-null     float64            \n",
      " 5   Humidity                  30 non-null     float64            \n",
      " 6   Wind Speed (km/h)         30 non-null     float64            \n",
      " 7   Wind Bearing (degrees)    30 non-null     float64            \n",
      " 8   Visibility (km)           30 non-null     float64            \n",
      " 9   Loud Cover                30 non-null     float64            \n",
      " 10  Pressure (millibars)      30 non-null     float64            \n",
      " 11  Daily Summary             30 non-null     object             \n",
      "dtypes: datetime64[ns, UTC](1), float64(8), object(3)\n",
      "memory usage: 2.9+ KB\n",
      "<class 'pandas.core.frame.DataFrame'>\n",
      "RangeIndex: 31 entries, 0 to 30\n",
      "Data columns (total 12 columns):\n",
      " #   Column                    Non-Null Count  Dtype              \n",
      "---  ------                    --------------  -----              \n",
      " 0   Formatted Date            31 non-null     datetime64[ns, UTC]\n",
      " 1   Summary                   31 non-null     object             \n",
      " 2   Precip Type               31 non-null     object             \n",
      " 3   Temperature (C)           31 non-null     float64            \n",
      " 4   Apparent Temperature (C)  31 non-null     float64            \n",
      " 5   Humidity                  31 non-null     float64            \n",
      " 6   Wind Speed (km/h)         31 non-null     float64            \n",
      " 7   Wind Bearing (degrees)    31 non-null     float64            \n",
      " 8   Visibility (km)           31 non-null     float64            \n",
      " 9   Loud Cover                31 non-null     float64            \n",
      " 10  Pressure (millibars)      31 non-null     float64            \n",
      " 11  Daily Summary             31 non-null     object             \n",
      "dtypes: datetime64[ns, UTC](1), float64(8), object(3)\n",
      "memory usage: 3.0+ KB\n"
     ]
    }
   ],
   "source": [
    "#Let's reduce the size of the dataset by considering one row for each day (corresponding to 16:00), only in 2015\n",
    "#Training: April, Test: May\n",
    "weatherHistory['Formatted Date'] = pd.to_datetime(weatherHistory['Formatted Date'], utc=True)\n",
    "data = weatherHistory[((weatherHistory['Formatted Date'].dt.hour == 16) & (weatherHistory['Formatted Date'].dt.year == 2014) & (weatherHistory['Formatted Date'].dt.month == 4))].reset_index(drop=True)\n",
    "data.info()\n",
    "data_test = weatherHistory[((weatherHistory['Formatted Date'].dt.hour == 16) & (weatherHistory['Formatted Date'].dt.year == 2014) & (weatherHistory['Formatted Date'].dt.month == 5))].reset_index(drop=True)\n",
    "data_test.info()"
   ]
  },
  {
   "cell_type": "code",
   "execution_count": 15,
   "metadata": {},
   "outputs": [
    {
     "data": {
      "text/plain": [
       "Text(0.5, 1.0, 'Humidity vs Apparent Temperature ')"
      ]
     },
     "execution_count": 15,
     "metadata": {},
     "output_type": "execute_result"
    },
    {
     "data": {
      "image/png": "[encoded data removed]",
      "text/plain": [
       "<Figure size 640x480 with 1 Axes>"
      ]
     },
     "metadata": {},
     "output_type": "display_data"
    }
   ],
   "source": [
    "plt.scatter(data[\"Apparent Temperature (C)\"], data[\"Humidity\"], label = \"train\", color='blue')\n",
    "plt.scatter(data_test[\"Apparent Temperature (C)\"], data_test[\"Humidity\"], label = \"test\", color='red')\n",
    "\n",
    "plt.xlabel(\"Humidity\")\n",
    "plt.ylabel(\"Apparent Temperature (C)\")\n",
    "plt.title(\"Humidity vs Apparent Temperature \")"
   ]
  },
  {
   "cell_type": "markdown",
   "metadata": {},
   "source": [
    "In order to perform the linear regression, we follow the maximum likelihood approach:\n",
    "$$\\theta_{ML} = \\text{argmax } p(\\underline{y} | \\underline{x}, \\theta)$$\n",
    "\n",
    "and we define our parametric model as:\n",
    "$$p(y|x, \\theta) = \\mathcal{N}(y|f(x,w), \\beta^{-1})$$\n",
    "\n",
    "where \n",
    "\n",
    "$$f(x,w) = w_0 \\phi_0(x) + \\ldots + w_{M-1}\\phi_{M-1}(x)$$\n",
    "\n",
    "with $\\phi$ basis functions.\n",
    "\n",
    "The weighs can be computed by:\n",
    "\n",
    "$$w_M = \\left( \\Phi^T \\Phi \\right)^{-1} \\Phi^T \\underline{y}$$\n",
    "\n",
    "where $\\Phi$ is the design matrix."
   ]
  },
  {
   "cell_type": "code",
   "execution_count": 16,
   "metadata": {},
   "outputs": [],
   "source": [
    "def linear_basis(x):\n",
    "    return x\n",
    "\n",
    "def linear_regression(x,y,basis_function):\n",
    "    N = len(y)\n",
    "    train_features = basis_function(x)\n",
    "    PHI = np.hstack((np.ones((N, 1)), train_features))\n",
    "    print(\"PHI\", PHI)\n",
    "    A = np.linalg.inv(PHI.T@PHI)\n",
    "    D = A@PHI.T\n",
    "    w = D@y\n",
    "    return np.dot(PHI, w), w\n",
    "    \n",
    "\n",
    "def predict_linear_regression(x,N,w,basis_function):\n",
    "    train_features = basis_function(x)\n",
    "    PHI = np.hstack((np.ones((N, 1)), train_features))\n",
    "    return np.dot(PHI, w)"
   ]
  },
  {
   "cell_type": "markdown",
   "metadata": {},
   "source": [
    "We can perform the linear regression on the dataset and compute:\n",
    "\n",
    "- Mean Squared Error (MSE): $$\\text{MSE} = \\frac{1}{N} \\sum_{i=1}^N (y_i - \\hat{y}_i)^2$$\n",
    "- Log Likelihood: $$\\sum_i -\\frac{1}{2} \\log(2\\pi\\sigma_i^2) - \\frac{(y_i - \\mu_i)^2}{2\\sigma_i^2}$$\n"
   ]
  },
  {
   "cell_type": "code",
   "execution_count": 17,
   "metadata": {},
   "outputs": [
    {
     "name": "stdout",
     "output_type": "stream",
     "text": [
      "10.0\n",
      "PHI [[1.   0.43]\n",
      " [1.   0.71]\n",
      " [1.   0.51]\n",
      " [1.   0.47]\n",
      " [1.   0.37]\n",
      " [1.   0.75]\n",
      " [1.   0.39]\n",
      " [1.   0.55]\n",
      " [1.   0.76]\n",
      " [1.   0.67]\n",
      " [1.   0.7 ]\n",
      " [1.   0.4 ]\n",
      " [1.   0.72]\n",
      " [1.   0.46]\n",
      " [1.   0.68]\n",
      " [1.   0.61]\n",
      " [1.   0.92]\n",
      " [1.   0.78]\n",
      " [1.   0.6 ]\n",
      " [1.   0.31]\n",
      " [1.   0.39]\n",
      " [1.   0.74]\n",
      " [1.   0.4 ]\n",
      " [1.   0.73]\n",
      " [1.   0.34]\n",
      " [1.   0.77]\n",
      " [1.   0.59]\n",
      " [1.   0.57]\n",
      " [1.   0.41]\n",
      " [1.   0.35]]\n"
     ]
    },
    {
     "data": {
      "image/png": "[encoded data removed]",
      "text/plain": [
       "<Figure size 640x480 with 1 Axes>"
      ]
     },
     "metadata": {},
     "output_type": "display_data"
    },
    {
     "name": "stdout",
     "output_type": "stream",
     "text": [
      "MSE:\n",
      "15.003278972671396\n",
      "Log Likelihood:\n",
      "-164.16046416298286\n"
     ]
    }
   ],
   "source": [
    "#in this case x and y are row vectors, so we need to convert them to column vectors\n",
    "x = data[\"Humidity\"].to_numpy().reshape(-1,1)\n",
    "y = data[\"Apparent Temperature (C)\"].to_numpy().reshape(-1,1)\n",
    "\n",
    "beta = 0.01\n",
    "print(np.sqrt(1/beta))\n",
    "\n",
    "y_pred_linear, w = linear_regression(x,y,linear_basis)\n",
    "\n",
    "plt.scatter(data[\"Humidity\"], data[\"Apparent Temperature (C)\"], label = 'Data')\n",
    "plt.scatter(data[\"Humidity\"].to_numpy(), y_pred_linear, label = 'Predictions')\n",
    "\n",
    "plt.xlabel(\"Humidity\")\n",
    "plt.ylabel(\"Apparent Temperature (C)\")\n",
    "plt.title(\"Linear Regression\")\n",
    "plt.legend()\n",
    "plt.show()\n",
    "\n",
    "print(\"MSE:\")\n",
    "print(np.mean((y_pred_linear.T-y)**2))\n",
    "print(\"Log Likelihood:\")\n",
    "print(-len(y)/2*np.log(2*np.pi)-len(y)/2*np.log(1/beta) - 1/2*beta*np.sum((y_pred_linear.T-y)**2))"
   ]
  },
  {
   "cell_type": "code",
   "execution_count": 18,
   "metadata": {},
   "outputs": [
    {
     "data": {
      "image/png": "[encoded data removed]",
      "text/plain": [
       "<Figure size 640x480 with 1 Axes>"
      ]
     },
     "metadata": {},
     "output_type": "display_data"
    },
    {
     "name": "stdout",
     "output_type": "stream",
     "text": [
      "MSE:\n",
      "31.098261165291554\n",
      "Log Likelihood:\n",
      "-249.29437731138614\n"
     ]
    }
   ],
   "source": [
    "#Let's see now on the test set\n",
    "\n",
    "x_test = data_test[\"Humidity\"].to_numpy().reshape(-1,1)\n",
    "y_test = data_test[\"Apparent Temperature (C)\"].to_numpy().reshape(-1,1)\n",
    "\n",
    "y_test_pred= predict_linear_regression(x_test,len(x_test),w,linear_basis)\n",
    "\n",
    "plt.scatter(data_test[\"Humidity\"], data_test[\"Apparent Temperature (C)\"], label = 'Data')\n",
    "plt.scatter(data_test[\"Humidity\"].to_numpy(), y_test_pred, label = 'Predictions')\n",
    "\n",
    "plt.xlabel(\"Humidity\")\n",
    "plt.ylabel(\"Apparent Temperature (C)\")\n",
    "plt.title(\"Linear Regression (test data)\")\n",
    "plt.legend()\n",
    "plt.show()\n",
    "\n",
    "print(\"MSE:\")\n",
    "print(np.mean((y_test_pred.T-y_test)**2))\n",
    "print(\"Log Likelihood:\")\n",
    "print(-len(y_test)/2*np.log(2*np.pi*1/beta) - 1/2*np.sum((y_test_pred.T-y_test)**2*beta))\n"
   ]
  },
  {
   "cell_type": "code",
   "execution_count": 19,
   "metadata": {},
   "outputs": [
    {
     "name": "stdout",
     "output_type": "stream",
     "text": [
      "PHI [[1.     0.1849]\n",
      " [1.     0.5041]\n",
      " [1.     0.2601]\n",
      " [1.     0.2209]\n",
      " [1.     0.1369]\n",
      " [1.     0.5625]\n",
      " [1.     0.1521]\n",
      " [1.     0.3025]\n",
      " [1.     0.5776]\n",
      " [1.     0.4489]\n",
      " [1.     0.49  ]\n",
      " [1.     0.16  ]\n",
      " [1.     0.5184]\n",
      " [1.     0.2116]\n",
      " [1.     0.4624]\n",
      " [1.     0.3721]\n",
      " [1.     0.8464]\n",
      " [1.     0.6084]\n",
      " [1.     0.36  ]\n",
      " [1.     0.0961]\n",
      " [1.     0.1521]\n",
      " [1.     0.5476]\n",
      " [1.     0.16  ]\n",
      " [1.     0.5329]\n",
      " [1.     0.1156]\n",
      " [1.     0.5929]\n",
      " [1.     0.3481]\n",
      " [1.     0.3249]\n",
      " [1.     0.1681]\n",
      " [1.     0.1225]]\n"
     ]
    },
    {
     "data": {
      "image/png": "[encoded data removed]",
      "text/plain": [
       "<Figure size 640x480 with 1 Axes>"
      ]
     },
     "metadata": {},
     "output_type": "display_data"
    },
    {
     "name": "stdout",
     "output_type": "stream",
     "text": [
      "MSE:\n",
      "14.787126158353798\n",
      "Log Likelihood:\n",
      "-163.18777649855366\n"
     ]
    }
   ],
   "source": [
    "#Let's try to change the basis function\n",
    "\n",
    "def square_basis(x):\n",
    "    return  x**2\n",
    "\n",
    "y_pred, w = linear_regression(x,y,square_basis)\n",
    "\n",
    "plt.scatter(data[\"Humidity\"], data[\"Apparent Temperature (C)\"], label = 'Data')\n",
    "plt.scatter(data[\"Humidity\"].to_numpy(), y_pred, label = 'Predictions')\n",
    "plt.xlabel(\"Humidity\")\n",
    "plt.ylabel(\"Apparent Temperature (C)\")\n",
    "plt.title(\"Linear Regression\")\n",
    "plt.legend()\n",
    "plt.show()\n",
    "\n",
    "print(\"MSE:\")\n",
    "print(np.mean((y_pred.T-y)**2))\n",
    "print(\"Log Likelihood:\")\n",
    "print(-len(y)/2*np.log(2*np.pi)-len(y)/2*np.log(1/beta) - 1/2*beta*np.sum((y_pred.T-y)**2))"
   ]
  },
  {
   "cell_type": "code",
   "execution_count": 20,
   "metadata": {},
   "outputs": [],
   "source": [
    "#We can also consider more predictors\n",
    "\n",
    "x = data[[\"Temperature (C)\", \"Humidity\", \"Wind Speed (km/h)\"]].to_numpy()\n",
    "y = data[\"Apparent Temperature (C)\"].to_numpy().reshape(-1,1)"
   ]
  },
  {
   "cell_type": "code",
   "execution_count": 21,
   "metadata": {},
   "outputs": [
    {
     "name": "stdout",
     "output_type": "stream",
     "text": [
      "PHI [[ 1.         17.23888889  0.43        5.2969    ]\n",
      " [ 1.          8.86111111  0.71       15.4238    ]\n",
      " [ 1.         12.40555556  0.51       12.1072    ]\n",
      " [ 1.         14.97222222  0.47       12.1877    ]\n",
      " [ 1.         17.24444444  0.37        2.415     ]\n",
      " [ 1.         13.01666667  0.75       20.0928    ]\n",
      " [ 1.         11.06111111  0.39       20.9783    ]\n",
      " [ 1.         11.16111111  0.55       20.9461    ]\n",
      " [ 1.         12.71666667  0.76        6.9874    ]\n",
      " [ 1.         16.18333333  0.67        9.1448    ]\n",
      " [ 1.         14.07222222  0.7         3.5742    ]\n",
      " [ 1.         17.82222222  0.4        10.8675    ]\n",
      " [ 1.         13.91111111  0.72        9.2092    ]\n",
      " [ 1.         20.99444444  0.46       15.5043    ]\n",
      " [ 1.         18.92777778  0.68        4.6529    ]\n",
      " [ 1.         19.97777778  0.61        3.0751    ]\n",
      " [ 1.         16.18333333  0.92       10.626     ]\n",
      " [ 1.         16.17777778  0.78       10.5294    ]\n",
      " [ 1.         18.93333333  0.6        12.6224    ]\n",
      " [ 1.         21.06111111  0.31       12.558     ]\n",
      " [ 1.         22.12777778  0.39       13.0571    ]\n",
      " [ 1.         17.3         0.74        6.44      ]\n",
      " [ 1.         18.93888889  0.4         9.7083    ]\n",
      " [ 1.         17.75555556  0.73        7.6314    ]\n",
      " [ 1.         22.05555556  0.34        9.5312    ]\n",
      " [ 1.         15.16111111  0.77       15.6975    ]\n",
      " [ 1.         14.02777778  0.59       10.8192    ]\n",
      " [ 1.         17.28888889  0.57        9.4507    ]\n",
      " [ 1.         21.2         0.41       12.075     ]\n",
      " [ 1.         12.84444444  0.35       32.8279    ]]\n",
      "Weights:\n",
      "[[-1.00729886]\n",
      " [ 1.05330159]\n",
      " [ 0.02107207]\n",
      " [ 0.00365833]]\n"
     ]
    }
   ],
   "source": [
    "y_pred, w = linear_regression(x,y,linear_basis)\n",
    "\n",
    "print(\"Weights:\")\n",
    "print(w)\n"
   ]
  },
  {
   "cell_type": "code",
   "execution_count": 22,
   "metadata": {},
   "outputs": [
    {
     "data": {
      "image/png": "[encoded data removed]",
      "text/plain": [
       "<Figure size 640x480 with 1 Axes>"
      ]
     },
     "metadata": {},
     "output_type": "display_data"
    }
   ],
   "source": [
    "fig, ax = plt.subplots()\n",
    "scatter = ax.scatter(data[\"Temperature (C)\"], data[\"Humidity\"], s = data[\"Wind Speed (km/h)\"]*2, c = y_pred)\n",
    "legend1 = ax.legend(*scatter.legend_elements(), loc = 'upper right', title=\"Predicted App. Temp.\")\n",
    "ax.add_artist(legend1)\n",
    "handles, labels = scatter.legend_elements(prop=\"sizes\", alpha=0.6)\n",
    "legend2 = ax.legend(handles, labels, loc = 'lower left', title=\"Wind Speed\")\n",
    "\n",
    "plt.title(\"Linear Regression with more predictors\")\n",
    "plt.ylabel(\"Humidity\")\n",
    "plt.xlabel(\"Temperature (C)\")\n",
    "plt.show()"
   ]
  },
  {
   "cell_type": "code",
   "execution_count": 23,
   "metadata": {},
   "outputs": [
    {
     "name": "stdout",
     "output_type": "stream",
     "text": [
      "MSE:\n",
      "26.40820279470182\n",
      "Log Likelihood:\n",
      "-215.48262136211974\n"
     ]
    }
   ],
   "source": [
    "print(\"MSE:\")\n",
    "print(np.mean((y_pred.T-y)**2))\n",
    "\n",
    "print(\"Log Likelihood:\")\n",
    "print(-len(y)/2*np.log(2*np.pi)-len(y)/2*np.log(1/beta) - 1/2*beta*np.sum((y_pred.T-y)**2))"
   ]
  },
  {
   "cell_type": "markdown",
   "metadata": {},
   "source": [
    "## Bayesian Linear Regression\n",
    "\n",
    "We now consider a prior distribution on the weights, which in this case is:\n",
    "\n",
    "$$p(w|\\alpha) = \\mathcal{N}(w| 0, \\alpha^{-1} I)$$\n",
    "\n",
    "So, we can use Bayes theorem to compute the posterior:\n",
    "\n",
    "$$    p(w| \\underline{x}, \\underline{y}, \\alpha, \\beta) = \\frac{p(\\underline{y}| \\underline{x}, w, \\beta) p(w|\\alpha)}{p(\\underline{y}| \\underline{x}, \\alpha, \\beta)}$$\n",
    "\n",
    "and notice that it is a Gaussian distribution:\n",
    "\n",
    "$$p(w|\\underline{x}, \\underline{y}, \\alpha, \\beta) = \\mathcal{N} (w | m_N, S_N)$$\n",
    "\n",
    "where \n",
    "\n",
    "$$m_N = \\beta S_N \\Phi^T \\underline{y}$$\n",
    "$$S_N^{-1} = \\alpha I + \\beta \\Phi^T \\Phi$$\n",
    "\n",
    "Once we have the posterior distribution, we can calculate the predictive distribution as:\n",
    "\n",
    "$$p(y|x, \\underline{x} , \\underline{y}, \\alpha, \\beta)  = \\mathcal{N} \\left(y| m_N^T \\phi(x), \\sigma_N^2(x) \\right)$$\n",
    "\n",
    "where \n",
    "\n",
    "$$\\sigma_N^2(x) = \\frac{1}{\\beta} + \\phi^T(x) S_N \\phi(x)$$\n",
    "\n",
    "For simplicity and for visualizing the result, we test on a single predictor."
   ]
  },
  {
   "cell_type": "code",
   "execution_count": 24,
   "metadata": {},
   "outputs": [],
   "source": [
    "#Bayesian Regression with alpha and beta fixed and a gaussian prior\n",
    "\n",
    "def bayesian_linear_regression(x,y,basis_function, alpha, beta):\n",
    "    N = len(y)\n",
    "    train_features = basis_function(x)\n",
    "    PHI = np.hstack((np.ones((N,1)), train_features))\n",
    "    SN = np.linalg.inv(alpha*np.eye(PHI.shape[1]) + beta*PHI.T@PHI)\n",
    "    mN = beta*SN@PHI.T@y\n",
    "    return np.dot(mN.T, PHI.T), np.sqrt(1/beta+np.diag(PHI@SN@PHI.T)), mN, SN\n",
    "\n",
    "def predict_bayesian_linear_regression(mN, SN, N, x, basis_function, beta):\n",
    "    train_features = basis_function(x)\n",
    "    PHI = np.hstack((np.ones((N,1)), train_features))\n",
    "    return np.dot(mN.T, PHI.T)[0], np.sqrt(1/beta+np.diag(PHI@SN@PHI.T))\n",
    "\n",
    "def plot_bayesian_LR(mN, SN, N, x, basis_function, beta):\n",
    "    mean, sigma = predict_bayesian_linear_regression(mN, SN, N, x, basis_function, beta)\n",
    "    plt.plot(x.T[0],mean)\n",
    "    plt.fill_between(x.T[0], mean-sigma, mean+sigma, alpha=0.2)\n"
   ]
  },
  {
   "cell_type": "code",
   "execution_count": 25,
   "metadata": {},
   "outputs": [],
   "source": [
    "x = data[\"Humidity\"].to_numpy().reshape(-1,1)\n",
    "y = data[\"Apparent Temperature (C)\"].to_numpy().reshape(-1,1)\n",
    "\n",
    "x_test = data_test[\"Humidity\"].to_numpy().reshape(-1,1)\n",
    "y_test = data_test[\"Apparent Temperature (C)\"].to_numpy().reshape(-1,1)\n",
    "\n",
    "alpha = 0.002"
   ]
  },
  {
   "cell_type": "code",
   "execution_count": 26,
   "metadata": {},
   "outputs": [
    {
     "name": "stdout",
     "output_type": "stream",
     "text": [
      " y_pred_bayes: [[16.78309934 15.57827406 16.43886355 16.61098145 17.04127619 15.40615616\n",
      "  16.95521724 16.26674565 15.36312669 15.75039196 15.62130353 16.91218777\n",
      "  15.53524458 16.65401092 15.70736248 16.0085688  14.67465509 15.27706774\n",
      "  16.05159828 17.29945304 16.95521724 15.44918563 16.91218777 15.49221511\n",
      "  17.17036462 15.32009721 16.09462775 16.1806867  16.86915829 17.12733514]] \n",
      " sigma_pred: [10.24751794 10.25872935 10.17825652 10.20569568 10.33682132 10.3178823\n",
      " 10.30354814 10.16531693 10.33485605 10.21373788 10.24614555 10.28822029\n",
      " 10.2721985  10.21480869 10.22364688 10.17319831 10.72076534 10.3713969\n",
      " 10.16961087 10.45726103 10.30354814 10.30177876 10.28822029 10.28654954\n",
      " 10.39321023 10.35269574 10.16693227 10.1643042  10.27377019 10.37355608] \n",
      " mN: [[18.63336675]\n",
      " [-4.30294745]] \n",
      " SN: [[ 32.90653229 -52.32888027]\n",
      " [-52.32888027  92.52530353]]\n",
      "MSE (training set):\n",
      "13.800043941030337\n",
      "Log Likelihood (training set):\n",
      "-156.15508070937744\n"
     ]
    }
   ],
   "source": [
    "y_pred_bayes, sigma_pred, mN, SN = bayesian_linear_regression(x,y,linear_basis, alpha, beta)\n",
    "print(f' y_pred_bayes: {y_pred_bayes} \\n sigma_pred: {sigma_pred} \\n mN: {mN} \\n SN: {SN}')\n",
    "\n",
    "print(\"MSE (training set):\")\n",
    "print(np.mean((y_pred_bayes-y)**2))\n",
    "print(\"Log Likelihood (training set):\")\n",
    "print(-1/2*np.sum(np.log(2*np.pi*sigma_pred**2)) - 1/2*np.sum(((y_pred_bayes-y)**2)/(sigma_pred**2)))\n"
   ]
  },
  {
   "cell_type": "code",
   "execution_count": 27,
   "metadata": {},
   "outputs": [
    {
     "name": "stdout",
     "output_type": "stream",
     "text": [
      " mean: [16.22371618 17.55762989 16.30977512 17.04127619 15.32009721 14.63162562\n",
      " 14.93283194 15.32009721 15.53524458 16.1806867  16.99824672 15.83645091\n",
      " 17.17036462 16.95521724 17.25642356 17.25642356 16.43886355 15.87948038\n",
      " 15.36312669 16.48189302 16.48189302 16.3528046  15.01889089 15.53524458\n",
      " 15.57827406 16.0085688  16.82612882 17.12733514 16.95521724 16.6970404\n",
      " 17.17036462] \n",
      " sigma: [10.16435544 10.60777656 10.16718841 10.33682132 10.35269574 10.75174172\n",
      " 10.55142515 10.35269574 10.2721985  10.1643042  10.31974986 10.19661359\n",
      " 10.39321023 10.30354814 10.4350678  10.4350678  10.17825652 10.18940282\n",
      " 10.33485605 10.1837605  10.1837605  10.16996937 10.50142217 10.2721985\n",
      " 10.25872935 10.17319831 10.26020158 10.37355608 10.30354814 10.22481853\n",
      " 10.39321023]\n",
      "MSE (test set):\n",
      "30.75887862951196\n",
      "Log Likelihood (test set):\n",
      "-239.63578395398656\n"
     ]
    }
   ],
   "source": [
    "mean, sigma = predict_bayesian_linear_regression(mN, SN, len(x_test), x_test, linear_basis, beta)\n",
    "print(f' mean: {mean} \\n sigma: {sigma}')\n",
    "\n",
    "print(\"MSE (test set):\")\n",
    "print(np.mean((mean-y_test)**2))\n",
    "print(\"Log Likelihood (test set):\")\n",
    "print(-1/2*np.sum(np.log(2*np.pi*sigma**2)) - 1/2*np.sum(((mean-y_test)**2)/(sigma**2)))\n"
   ]
  },
  {
   "cell_type": "code",
   "execution_count": 28,
   "metadata": {},
   "outputs": [
    {
     "data": {
      "image/png": "[encoded data removed]",
      "text/plain": [
       "<Figure size 640x480 with 1 Axes>"
      ]
     },
     "metadata": {},
     "output_type": "display_data"
    }
   ],
   "source": [
    "#FOR 1D features, we can plot the regression\n",
    "xrange=np.linspace(0, 1, 100).reshape(-1,1)\n",
    "plot_bayesian_LR(mN, SN, len(xrange), xrange, linear_basis, beta)\n",
    "\n",
    "plt.scatter(data[\"Humidity\"], data[\"Apparent Temperature (C)\"], label='Data training')\n",
    "plt.scatter(data_test[\"Humidity\"], data_test[\"Apparent Temperature (C)\"], label='Data test')\n",
    "\n",
    "plt.xlabel(\"Humidity\")\n",
    "plt.ylabel(\"Apparent Temperature (C)\")\n",
    "plt.title(\"Bayesian Linear Regression\")\n",
    "plt.legend()\n",
    "plt.show()"
   ]
  },
  {
   "cell_type": "code",
   "execution_count": 29,
   "metadata": {},
   "outputs": [
    {
     "name": "stdout",
     "output_type": "stream",
     "text": [
      "Optimal alpha: 4.5399929762484854e-05\n",
      "Optimal beta: 4.5399929762484854e-05\n"
     ]
    }
   ],
   "source": [
    "from scipy.optimize import minimize\n",
    "import numpy as np\n",
    "\n",
    "def compute_marginal_log_likelihood(log_params, x, y, basis_function):\n",
    "    # Converti in scala logaritmica per garantire positività\n",
    "    log_alpha, log_beta = log_params\n",
    "    alpha = np.exp(log_alpha)\n",
    "    beta = np.exp(log_beta)\n",
    "\n",
    "    N = len(y)\n",
    "    PHI = np.hstack((np.ones((N, 1)), basis_function(x)))\n",
    "    \n",
    "    A = alpha * np.eye(PHI.shape[1])\n",
    "    C = beta * PHI.T @ PHI + A\n",
    "\n",
    "    try:\n",
    "        sign, logdetC = np.linalg.slogdet(C)\n",
    "        if sign != 1:\n",
    "            return np.inf\n",
    "        C_inv = np.linalg.inv(C)\n",
    "    except np.linalg.LinAlgError:\n",
    "        return np.inf\n",
    "\n",
    "    mN = beta * C_inv @ PHI.T @ y\n",
    "    y_fit = PHI @ mN\n",
    "\n",
    "    # log marginal likelihood\n",
    "    log_likelihood = -0.5 * N * np.log(2 * np.pi) - 0.5 * logdetC \\\n",
    "                     - 0.5 * beta * np.sum((y - y_fit)**2)\n",
    "\n",
    "    return -log_likelihood  # minimize => negative\n",
    "\n",
    "res = minimize(\n",
    "    compute_marginal_log_likelihood,\n",
    "    x0=np.log([1e-3, 1.0]),  # initial guess in log space\n",
    "    args=(x, y, linear_basis),\n",
    "    method='L-BFGS-B',\n",
    "    bounds=[(-10, 10), (-10, 10)]  # log(alpha), log(beta) bounds\n",
    ")\n",
    "\n",
    "# Estrai valori ottimizzati\n",
    "opt_alpha, opt_beta = np.exp(res.x)\n",
    "print(f\"Optimal alpha: {opt_alpha}\")\n",
    "print(f\"Optimal beta: {opt_beta}\")\n",
    "\n",
    "\n",
    "y_pred_bayes, sigma_pred, mN, SN = bayesian_linear_regression(x, y, linear_basis, opt_alpha, opt_beta)"
   ]
  },
  {
   "cell_type": "markdown",
   "metadata": {},
   "source": [
    "## Logistic Regression"
   ]
  },
  {
   "cell_type": "markdown",
   "metadata": {},
   "source": [
    "### The problem"
   ]
  },
  {
   "cell_type": "markdown",
   "metadata": {},
   "source": [
    "Given observations $(\\textbf{x}_i, y_i)$ with $x_i \\in \\mathbb{R}^d$ and $y_i \\in \\{0,1\\}$ we want to model $p(y | \\textbf{x})$.\n",
    "\n",
    "**Notation**\n",
    "\n",
    "$\\textbf{X}$: the dataset of input features $\\textbf{x}_i$\n",
    "\n",
    "$\\textbf{Y}$: the dataset of targets $y_i$"
   ]
  },
  {
   "cell_type": "code",
   "execution_count": 30,
   "metadata": {},
   "outputs": [
    {
     "name": "stdout",
     "output_type": "stream",
     "text": [
      "(100, 2) 100\n"
     ]
    }
   ],
   "source": [
    "import numpy as np\n",
    "import os\n",
    "import requests\n",
    "import matplotlib.pyplot as plt\n",
    "\n",
    "\n",
    "# URL of the file to download\n",
    "url = 'https://raw.githubusercontent.com/DavideScassola/PML2024/main/Notebooks/data/logistic_regression_data.npz'\n",
    "\n",
    "# Send a HTTP request to the URL of the file\n",
    "response = requests.get(url)\n",
    "\n",
    "# Ensure the 'data/' directory exists\n",
    "os.makedirs('data', exist_ok=True)\n",
    "\n",
    "# Write the file\n",
    "with open('data/logistic_regression_data.npz', 'wb') as f:\n",
    "    f.write(response.content)\n",
    "\n",
    "# loading the dataset\n",
    "X = np.load('data/logistic_regression_data.npz')['X']\n",
    "y = np.load('data/logistic_regression_data.npz')['y']\n",
    "\n",
    "\n",
    "# let's split it into train and test set and normalize it\n",
    "def split_and_standardize(*, X, y, ratio=0.8):\n",
    "    \n",
    "    # Splitting train and test sets\n",
    "    cut = int(ratio * len(y))\n",
    "    X_train = X[:cut]\n",
    "    y_train = y[:cut]\n",
    "    \n",
    "    X_test = X[cut:]\n",
    "    y_test = y[cut:]\n",
    "    \n",
    "    # Standardizing data\n",
    "    x_mean = X_train.mean(axis=0)\n",
    "    x_std = X_train.std(axis=0)\n",
    "    \n",
    "    X_train = (X_train - x_mean) / x_std\n",
    "    X_test = (X_test - x_mean) / x_std\n",
    "    \n",
    "    return X_train, y_train, X_test, y_test\n",
    "\n",
    "\n",
    "print (X.shape,len(y))"
   ]
  },
  {
   "cell_type": "code",
   "execution_count": 31,
   "metadata": {},
   "outputs": [
    {
     "name": "stdout",
     "output_type": "stream",
     "text": [
      "X_test.shape: (96, 2)\n"
     ]
    },
    {
     "data": {
      "image/png": "[encoded data removed]",
      "text/plain": [
       "<Figure size 640x480 with 1 Axes>"
      ]
     },
     "metadata": {},
     "output_type": "display_data"
    }
   ],
   "source": [
    "X_train, y_train, X_test, y_test = split_and_standardize(X=X, y=y, ratio=0.04)\n",
    "\n",
    "_ = plt.scatter(X_train[:, 0], X_train[:, 1], c=y_train)\n",
    "\n",
    "print(f'X_test.shape: {X_test.shape}')"
   ]
  },
  {
   "cell_type": "markdown",
   "metadata": {},
   "source": [
    "### The model"
   ]
  },
  {
   "cell_type": "markdown",
   "metadata": {},
   "source": [
    "In logistic regression $p(y | \\textbf{x})$ is modelled as:\n",
    "\n",
    "$$p_{\\textbf{w}}(y |  \\textbf{x}) = Bernoulli(y; f(\\textbf{w}^{T} \\textbf{x})) $$\n",
    "\n",
    "where $f : \\mathbb{R} \\rightarrow [0,1]$ is usually chosen to be the Logit $ \\left( ({1 + e^{-k}})^{-1} \\right)$ or the Probit.\n",
    "\n",
    "Why $\\textbf{w}^{T} \\textbf{x}$ and not $\\textbf{w}^{T} \\textbf{x} + h$? For simplicity we prefer to avoid explicitly modelling the bias and we equivalently add a \"1\" as a feature to each data point. "
   ]
  },
  {
   "cell_type": "code",
   "execution_count": 32,
   "metadata": {},
   "outputs": [],
   "source": [
    "# Add the \"bias feature\"\n",
    "X_train = np.hstack([np.ones((X_train.shape[0], 1)), X_train])\n",
    "X_test = np.hstack([np.ones((X_test.shape[0], 1)), X_test])\n",
    "\n",
    "\n",
    "def logit(x: np.ndarray) -> np.ndarray:\n",
    "    return 1 / (1 + np.exp(-x))\n",
    "\n",
    "\n",
    "def likelihood(X: np.ndarray, y: np.ndarray, w: np.ndarray) -> float:\n",
    "    p = logit(X @ w)  # (n, d) @ (d, )\n",
    "    return np.where(y == 1, p, 1 - p).prod()"
   ]
  },
  {
   "cell_type": "markdown",
   "metadata": {},
   "source": [
    "### Maximum likelihood fitting (frequentist)"
   ]
  },
  {
   "cell_type": "markdown",
   "metadata": {},
   "source": [
    "We fit our model $p_{\\textbf{w}}(y |  \\textbf{x})$ by finding parameters $w$ that maximize the likelihood according to our data. For numerical reasons we equivalently maximize the log-likelihood:\n",
    "\n",
    "$$ \\log{p_{\\textbf{w}}(Y |  \\textbf{X})} =  \\log{ \\prod_i {        p_{\\textbf{w}}(y_i |  \\textbf{x}_i)             }} = \\sum_i \\log{p_{\\textbf{w}}(y_i |  \\textbf{x}_i)} = \\sum_i \\log{Bernoulli(y_i; f(\\textbf{w}^{T} \\textbf{x}_i))}$$\n",
    "\n",
    "We can find $w_{ML} = \\argmax_{\\textbf{w}}  \\log{p_{\\textbf{w}}(Y |  \\textbf{X})}$ using numerical optimization, in particular we can use gradient descent:\n",
    "\n",
    "$$ w_{n+1} = w_{n} + \\eta \\nabla_{\\textbf{w}} \\log{p_{\\textbf{w}}(Y |  \\textbf{X})} $$\n",
    "\n",
    "where $\\eta$ is the learning rate. How do we compute the gradient? We can compute it analyticallly, but we can also use automatic differentiation with `pytorch`."
   ]
  },
  {
   "cell_type": "code",
   "execution_count": 33,
   "metadata": {},
   "outputs": [],
   "source": [
    "import torch\n",
    "from tqdm.notebook import tqdm\n",
    "\n",
    "def log_likelihood(X: torch.Tensor, y: torch.Tensor, w: torch.Tensor) -> torch.Tensor:\n",
    "    p = torch.sigmoid(X @ w)\n",
    "    return torch.where(y == 1, torch.log(p + 1e-8), torch.log(1 - p + 1e-8)).sum()\n",
    "\n",
    "\n",
    "def gradient_descent_optimization(loss_function, lr: float, n_iter: int, initial_guess: np.ndarray) -> np.ndarray:\n",
    "    w = torch.tensor(initial_guess, dtype=torch.float32, requires_grad=True)\n",
    "    for _ in tqdm(range(n_iter)):\n",
    "        loss = loss_function(w)\n",
    "        loss.backward()\n",
    "        with torch.no_grad():\n",
    "            w -= lr * w.grad\n",
    "        w.grad = None\n",
    "    print(f\"loss={ loss.item():.4g}\")\n",
    "    return w.cpu().detach().numpy()"
   ]
  },
  {
   "cell_type": "code",
   "execution_count": 34,
   "metadata": {},
   "outputs": [
    {
     "data": {
      "application/vnd.jupyter.widget-view+json": {
       "model_id": "a4b3d4139dec41e4b2808a72d371a499",
       "version_major": 2,
       "version_minor": 0
      },
      "text/plain": [
       "  0%|          | 0/5000 [00:00<?, ?it/s]"
      ]
     },
     "metadata": {},
     "output_type": "display_data"
    },
    {
     "name": "stdout",
     "output_type": "stream",
     "text": [
      "loss=0.09124\n",
      "MLE weights: [-4.1452184 -5.117401  -1.8846985]\n"
     ]
    }
   ],
   "source": [
    "X_tensor = torch.tensor(X_train, dtype=torch.float32)\n",
    "y_tensor = torch.tensor(y_train, dtype=torch.float32)\n",
    "\n",
    "loss_function = lambda w: -log_likelihood(X=X_tensor, y=y_tensor, w=w)\n",
    "\n",
    "w_mle = gradient_descent_optimization(loss_function=loss_function, initial_guess=np.zeros(X_train.shape[1]), lr=1e-2, n_iter=5000)\n",
    "\n",
    "print(f\"MLE weights: {w_mle}\")"
   ]
  },
  {
   "cell_type": "code",
   "execution_count": 35,
   "metadata": {},
   "outputs": [],
   "source": [
    "# Veryfing the results\n",
    "from sklearn.metrics import confusion_matrix\n",
    "\n",
    "def predict(x: np.ndarray, w: np.ndarray) -> np.ndarray:\n",
    "    return logit(x @ w) \n",
    "\n",
    "def mean_cross_entropy(y: np.ndarray, pred: np.ndarray) -> float:\n",
    "    return -np.where(y, np.log(pred + 1e-8), np.log(1 - pred + 1e-8)).mean()"
   ]
  },
  {
   "cell_type": "code",
   "execution_count": 36,
   "metadata": {},
   "outputs": [
    {
     "name": "stdout",
     "output_type": "stream",
     "text": [
      "frequentist_predictions: [5.33408979e-02 1.06089879e-05 3.50842326e-03 9.67649315e-01]\n",
      "confusion matrix: \n",
      " [[3 0]\n",
      " [0 1]]\n",
      "mean cross entropy: 0.0228\n"
     ]
    }
   ],
   "source": [
    "frequentist_predictions = predict(x=X_train, w=w_mle)\n",
    "\n",
    "print(f'frequentist_predictions: {frequentist_predictions}')\n",
    "\n",
    "print(\"confusion matrix: \\n\", confusion_matrix(y_train, frequentist_predictions > 0.5))\n",
    "print(f\"mean cross entropy: {mean_cross_entropy(y=y_train, pred=frequentist_predictions):.3g}\")"
   ]
  },
  {
   "cell_type": "markdown",
   "metadata": {},
   "source": [
    "### Bayesian inference"
   ]
  },
  {
   "cell_type": "markdown",
   "metadata": {},
   "source": [
    "In Bayesian Inference, we want to compute the **posterior distribution**:\n",
    "$$p(\\textbf{w} | \\mathbf{X}, Y) \\propto p(Y | \\textbf{w}, \\mathbf{X})p(\\textbf{w})$$\n",
    "\n",
    "\n",
    "where $p(\\textbf{w})$ is the prior, and the **predictive distribution**:\n",
    "$$p(y | \\mathbf{x}, \\mathbf{X}, Y) = \\int p(y | \\mathbf{x}, \\textbf{w}) p(\\textbf{w} | \\mathbf{X}, Y) d\\textbf{w}$$\n",
    "\n",
    "notice that $\\mathbf{X}$ is always in the conditioning, we are not interested in its distribution!"
   ]
  },
  {
   "cell_type": "markdown",
   "metadata": {},
   "source": [
    "#### Posterior distribution\n",
    "\n",
    "For the posterior $p(\\textbf{w} | \\mathbf{X}, Y) \\propto p(Y | \\textbf{w}, \\mathbf{X})p(\\textbf{w})$ we resort to the **Laplace Approximation**:\n",
    "\n",
    "$$p(\\textbf{w} | \\mathbf{X}, Y) \\approx \\mathcal{N}(\\textbf{w}; \\mu_D, \\Sigma_D)$$\n",
    "\n",
    "where $\\mu_D = \\textbf{w}_{MAP}$ and $\\Sigma_D =  \\left( - \\nabla_w \\nabla_w \\log{p(\\textbf{w}_{MAP} | Y , \\mathbf{X})} \\right)^{-1}$\n",
    "\n",
    "where $\\textbf{w}_{MAP} = \\argmax_{\\textbf{w}} \\left[ p(\\textbf{w} | \\mathbf{X}, Y) \\right]$ is the **maximum a posteriori**, equivalently $\\textbf{w}_{MAP} = \\argmax_{\\textbf{w}}  \\left[ \\log{p(Y | \\textbf{w}, \\mathbf{X})} + \\log{p(\\textbf{w})} \\right]$\n"
   ]
  },
  {
   "cell_type": "code",
   "execution_count": 37,
   "metadata": {},
   "outputs": [],
   "source": [
    "# We can assume a Gaussian prior for the weights, with zero mean and a certain diagonal covariance matrix\n",
    "from torch.distributions import Normal\n",
    "\n",
    "PRIOR_STD = 100\n",
    "\n",
    "def log_prior(w):\n",
    "    return Normal(0, PRIOR_STD).log_prob(w).sum()\n",
    "\n",
    "def log_unnormalized_posterior(X, y, w):\n",
    "    return log_likelihood(X=X, y=y, w=w) + log_prior(w)"
   ]
  },
  {
   "cell_type": "code",
   "execution_count": 38,
   "metadata": {},
   "outputs": [
    {
     "data": {
      "application/vnd.jupyter.widget-view+json": {
       "model_id": "5742b09cb0d44e03b74e940091bc2b7a",
       "version_major": 2,
       "version_minor": 0
      },
      "text/plain": [
       "  0%|          | 0/5000 [00:00<?, ?it/s]"
      ]
     },
     "metadata": {},
     "output_type": "display_data"
    },
    {
     "name": "stdout",
     "output_type": "stream",
     "text": [
      "loss=16.67\n",
      "MAP weights: [-4.1356425 -5.106282  -1.8804175]\n"
     ]
    }
   ],
   "source": [
    "loss_function = lambda w: -(log_unnormalized_posterior(X=X_tensor, y=y_tensor, w=w))\n",
    "\n",
    "w_map = gradient_descent_optimization(loss_function=loss_function, initial_guess=np.zeros(X_train.shape[1]), lr=1e-2, n_iter=5000)\n",
    "\n",
    "print(f\"MAP weights: {w_map}\")"
   ]
  },
  {
   "cell_type": "code",
   "execution_count": 39,
   "metadata": {},
   "outputs": [],
   "source": [
    "def compute_hessian(f, w):\n",
    "    w.requires_grad = True\n",
    "    grad = torch.autograd.grad(f(w), w, create_graph=True)[0]\n",
    "    hessian = torch.zeros((w.numel(), w.numel()))\n",
    "    for i in range(w.numel()):\n",
    "        hessian[i] = torch.autograd.grad(grad[i], w, retain_graph=True)[0]\n",
    "    w.requires_grad = False\n",
    "    return hessian"
   ]
  },
  {
   "cell_type": "code",
   "execution_count": 40,
   "metadata": {},
   "outputs": [
    {
     "name": "stdout",
     "output_type": "stream",
     "text": [
      "Posterior covariance matrix:\n",
      " [[ 28.684368  13.253782  20.48536 ]\n",
      " [ 13.253776  46.63046  -17.844378]\n",
      " [ 20.485365 -17.844372  55.998146]]\n"
     ]
    }
   ],
   "source": [
    "hessian = compute_hessian(f=lambda w : log_unnormalized_posterior(X=X_tensor, y=y_tensor, w=w), w=torch.tensor(w_map, dtype=torch.float32))\n",
    "posterior_cov = torch.inverse(-hessian).numpy()\n",
    "print(\"Posterior covariance matrix:\\n\", posterior_cov)"
   ]
  },
  {
   "cell_type": "code",
   "execution_count": 41,
   "metadata": {},
   "outputs": [],
   "source": [
    "from scipy.special import expit  # sigmoid function\n",
    "\n",
    "def analytical_hessian(X, w_map, prior_std):\n",
    "    sigma = expit(X @ w_map)   \n",
    "    r = sigma * (1 - sigma)\n",
    "    R = np.diag(r) \n",
    "    hessian = (1 / prior_std**2) * np.eye(X.shape[1]) + X.T @ R @ X  \n",
    "    return hessian"
   ]
  },
  {
   "cell_type": "code",
   "execution_count": 42,
   "metadata": {},
   "outputs": [
    {
     "name": "stdout",
     "output_type": "stream",
     "text": [
      "Posterior covariance matrix:\n",
      " [[ 28.68437276  13.25378045  20.48536968]\n",
      " [ 13.25378045  46.63048085 -17.84437748]\n",
      " [ 20.48536968 -17.84437748  55.99815959]]\n"
     ]
    }
   ],
   "source": [
    "hessian = torch.tensor(analytical_hessian(X=X_train, w_map=w_map, prior_std=PRIOR_STD))\n",
    "posterior_cov = torch.inverse(hessian).numpy()\n",
    "print(\"Posterior covariance matrix:\\n\", posterior_cov)"
   ]
  },
  {
   "cell_type": "markdown",
   "metadata": {},
   "source": [
    "#### Predictive distribution\n",
    "\n",
    "The approximation for the **predictive distribution** follows from the Laplace approximation of the posterior approximation (see lecture's notes for more details):\n",
    "$$p(y | \\mathbf{x}, \\mathbf{X}, Y) \\approx f\\left(\\kappa\\left(\\sigma_a^2\\right) \\mu_a\\right)$$\n",
    "\n",
    "where $\\kappa\\left(\\sigma_a^2\\right)=\\left(1+\\pi \\frac{\\sigma_a^2}{8}\\right)^{-\\frac{1}{2}}$ and $\\mu_a$ and $\\sigma_a^2$ are the mean and variance of the linear combination of the gaussian posterior with the observation $\\mathbf{x}$.\n",
    "\n",
    "So $\\mu_a = \\mathbf{\\mu}_{D}^T \\mathbf{x}$ and $\\sigma_a^2 = \\mathbf{x}^T \\Sigma_{D} \\mathbf{x}$"
   ]
  },
  {
   "cell_type": "code",
   "execution_count": 43,
   "metadata": {},
   "outputs": [],
   "source": [
    "def laplace_predictive_distribution(*, x, posterior_mean, posterior_cov):\n",
    "    mu = x @ posterior_mean # (n, d) @ (d, )\n",
    "    var = np.diag(x @ posterior_cov @ x.T)\n",
    "    #var = np.array([X[i] @ posterior_cov @ X[i].T for i in range(len(X))])\n",
    "    k = (1 + np.pi*var/8)**(-0.5)    \n",
    "    return logit(mu * k)"
   ]
  },
  {
   "cell_type": "code",
   "execution_count": 44,
   "metadata": {},
   "outputs": [
    {
     "name": "stdout",
     "output_type": "stream",
     "text": [
      "bayesian_predictions: [0.32815787 0.68188164 0.43740678 0.76427136 0.28345874 0.58964794\n",
      " 0.73563867 0.68881434 0.22812865 0.3791301  0.36190384 0.30629043\n",
      " 0.36517899 0.3742555  0.35497216 0.39003215 0.55914327 0.33764651\n",
      " 0.34527003 0.20317724 0.49234503 0.187976   0.75281047 0.45135721\n",
      " 0.3940173  0.21917791 0.43805914 0.57874494 0.22581667 0.2015737\n",
      " 0.65374296 0.5503693  0.23640678 0.73378466 0.21982596 0.60235776\n",
      " 0.18453191 0.25848804 0.2512611  0.62075041 0.70472198 0.25948552\n",
      " 0.50932084 0.4682383  0.60970825 0.27010512 0.20907761 0.61044585\n",
      " 0.30538058 0.44623023 0.55479664 0.41628308 0.23316503 0.7900035\n",
      " 0.34919436 0.67255982 0.19485727 0.6198939  0.76945585 0.61282087\n",
      " 0.64291237 0.62629317 0.62790819 0.29171021 0.18449918 0.30006491\n",
      " 0.22623558 0.27986923 0.57548089 0.39557218 0.70708264 0.19110164\n",
      " 0.57161214 0.30422175 0.20192158 0.64807096 0.49218272 0.31176286\n",
      " 0.48922505 0.47034316 0.60516249 0.36072844 0.18937647 0.24245977\n",
      " 0.58126327 0.31000193 0.29486454 0.43632557 0.66081872 0.28852855\n",
      " 0.7406677  0.34330956 0.21134914 0.51395228 0.36819534 0.22860294]\n"
     ]
    }
   ],
   "source": [
    "bayesian_predictions = laplace_predictive_distribution(x=X_test, posterior_mean=w_map, posterior_cov=posterior_cov)\n",
    "\n",
    "print(f'bayesian_predictions: {bayesian_predictions}')"
   ]
  },
  {
   "cell_type": "code",
   "execution_count": 45,
   "metadata": {},
   "outputs": [
    {
     "name": "stdout",
     "output_type": "stream",
     "text": [
      "frequentist train mean cross entropy: 0.02\n",
      "frequentist train accuracy: 100.0%\n",
      "\n",
      "bayesian train mean cross entropy: 0.34\n",
      "bayesian train accuracy: 100.0%\n",
      "\n",
      "frequentist test mean cross entropy: 1.07\n",
      "frequentist test accuracy: 67.7%\n",
      "\n",
      "bayesian test mean cross entropy: 0.57\n",
      "bayesian test accuracy: 67.7%\n",
      "\n"
     ]
    }
   ],
   "source": [
    "X = {\"train\": X_train, \"test\": X_test}\n",
    "y = {\"train\": y_train, \"test\": y_test}\n",
    "\n",
    "freq_weights = w_map\n",
    "\n",
    "predictor = {\"frequentist\": lambda x : predict(x=x, w=freq_weights),\n",
    "             \"bayesian\": lambda x :  laplace_predictive_distribution(x=x, posterior_mean=w_map, posterior_cov=posterior_cov)}\n",
    "\n",
    "for data in ('train', 'test'):\n",
    "    for model in ('frequentist', 'bayesian'):\n",
    "        pred = predictor[model](X[data])\n",
    "        print(f\"{model} {data} mean cross entropy: {mean_cross_entropy(y=y[data], pred=pred):.2f}\")\n",
    "        cm = confusion_matrix(y[data], pred > 0.5) / len(y[data])\n",
    "        #print(f\"{model} {data} confusion matrix: \\n\", np.round(cm,2))\n",
    "        print(f\"{model} {data} accuracy: {(cm[0,0] + cm[1,1]):.1%}\")\n",
    "        print()"
   ]
  },
  {
   "cell_type": "code",
   "execution_count": 46,
   "metadata": {},
   "outputs": [],
   "source": [
    "import matplotlib.pyplot as plt\n",
    "plt.rcParams[\"figure.figsize\"] = (8,4)\n",
    "plt.rcParams[\"figure.dpi\"] = 100\n",
    "\n",
    "def plot_train_data(X, y):\n",
    "    plt.scatter(X[y==1][:,1], X_train[y==1][:,2], c = 'red', marker='x', label='1')\n",
    "    plt.scatter(X[y==0][:,1], X_train[y==0][:,2], c = 'red', marker='o', label='0')\n",
    "    plt.legend()\n",
    "\n",
    "def binary_crossentropy(*, true: np.ndarray, pred: np.ndarray):\n",
    "    return -np.where(true, np.log(pred + 1e-8), np.log(1 - pred + 1e-8)).mean()"
   ]
  },
  {
   "cell_type": "code",
   "execution_count": 47,
   "metadata": {},
   "outputs": [
    {
     "data": {
      "image/png": "[encoded data removed]",
      "text/plain": [
       "<Figure size 800x400 with 2 Axes>"
      ]
     },
     "metadata": {},
     "output_type": "display_data"
    }
   ],
   "source": [
    "plt.scatter(X_test[:,1], X_test[:,2], c = y_test, alpha = 0.8)\n",
    "\n",
    "plot_train_data(X_train, y_train)\n",
    "\n",
    "_ = plt.colorbar()"
   ]
  },
  {
   "cell_type": "code",
   "execution_count": 48,
   "metadata": {},
   "outputs": [
    {
     "name": "stdout",
     "output_type": "stream",
     "text": [
      "Test error: 0.572\n"
     ]
    }
   ],
   "source": [
    "pred = laplace_predictive_distribution(x=X_test, posterior_mean=w_map, posterior_cov=posterior_cov)\n",
    "error = binary_crossentropy(true=y_test, pred=pred)\n",
    "\n",
    "print(f\"Test error: {error:.3f}\")"
   ]
  },
  {
   "cell_type": "code",
   "execution_count": 49,
   "metadata": {},
   "outputs": [
    {
     "data": {
      "image/png": "[encoded data removed]",
      "text/plain": [
       "<Figure size 800x400 with 2 Axes>"
      ]
     },
     "metadata": {},
     "output_type": "display_data"
    }
   ],
   "source": [
    "plt.scatter(X_test[:,1], X_test[:,2], c = pred, alpha = 0.8)\n",
    "\n",
    "plot_train_data(X_train, y_train)\n",
    "\n",
    "_ = plt.colorbar()"
   ]
  },
  {
   "cell_type": "code",
   "execution_count": 50,
   "metadata": {},
   "outputs": [
    {
     "name": "stdout",
     "output_type": "stream",
     "text": [
      "Test error: 1.074\n"
     ]
    }
   ],
   "source": [
    "pred = predict(x=X_test, w=freq_weights)\n",
    "error = binary_crossentropy(true=y_test, pred=pred)\n",
    "\n",
    "print(f\"Test error: {error:.3f}\")"
   ]
  },
  {
   "cell_type": "code",
   "execution_count": 51,
   "metadata": {},
   "outputs": [
    {
     "data": {
      "image/png": "[encoded data removed]",
      "text/plain": [
       "<Figure size 800x400 with 2 Axes>"
      ]
     },
     "metadata": {},
     "output_type": "display_data"
    }
   ],
   "source": [
    "plt.scatter(X_test[:,1], X_test[:,2], c = pred, alpha = 0.8)\n",
    "\n",
    "plot_train_data(X_train, y_train)\n",
    "\n",
    "_ = plt.colorbar()"
   ]
  },
  {
   "cell_type": "markdown",
   "metadata": {},
   "source": [
    "### Exercises"
   ]
  },
  {
   "cell_type": "markdown",
   "metadata": {},
   "source": [
    "1. Try to repeat the analysis using more points"
   ]
  },
  {
   "cell_type": "markdown",
   "metadata": {},
   "source": [
    "2. Try to repeat the analysis on the following dataset"
   ]
  },
  {
   "cell_type": "code",
   "execution_count": 52,
   "metadata": {},
   "outputs": [
    {
     "name": "stdout",
     "output_type": "stream",
     "text": [
      "    mean radius  mean texture  mean perimeter  mean area  mean smoothness  \\\n",
      "0        17.990         10.38          122.80     1001.0          0.11840   \n",
      "1        20.570         17.77          132.90     1326.0          0.08474   \n",
      "2        19.690         21.25          130.00     1203.0          0.10960   \n",
      "3        11.420         20.38           77.58      386.1          0.14250   \n",
      "4        20.290         14.34          135.10     1297.0          0.10030   \n",
      "5        12.450         15.70           82.57      477.1          0.12780   \n",
      "6        18.250         19.98          119.60     1040.0          0.09463   \n",
      "7        13.710         20.83           90.20      577.9          0.11890   \n",
      "8        13.000         21.82           87.50      519.8          0.12730   \n",
      "9        12.460         24.04           83.97      475.9          0.11860   \n",
      "10       16.020         23.24          102.70      797.8          0.08206   \n",
      "11       15.780         17.89          103.60      781.0          0.09710   \n",
      "12       19.170         24.80          132.40     1123.0          0.09740   \n",
      "13       15.850         23.95          103.70      782.7          0.08401   \n",
      "14       13.730         22.61           93.60      578.3          0.11310   \n",
      "15       14.540         27.54           96.73      658.8          0.11390   \n",
      "16       14.680         20.13           94.74      684.5          0.09867   \n",
      "17       16.130         20.68          108.10      798.8          0.11700   \n",
      "18       19.810         22.15          130.00     1260.0          0.09831   \n",
      "19       13.540         14.36           87.46      566.3          0.09779   \n",
      "20       13.080         15.71           85.63      520.0          0.10750   \n",
      "21        9.504         12.44           60.34      273.9          0.10240   \n",
      "22       15.340         14.26          102.50      704.4          0.10730   \n",
      "23       21.160         23.04          137.20     1404.0          0.09428   \n",
      "24       16.650         21.38          110.00      904.6          0.11210   \n",
      "25       17.140         16.40          116.00      912.7          0.11860   \n",
      "26       14.580         21.53           97.41      644.8          0.10540   \n",
      "27       18.610         20.25          122.10     1094.0          0.09440   \n",
      "28       15.300         25.27          102.40      732.4          0.10820   \n",
      "29       17.570         15.05          115.00      955.1          0.09847   \n",
      "30       18.630         25.11          124.80     1088.0          0.10640   \n",
      "31       11.840         18.70           77.93      440.6          0.11090   \n",
      "32       17.020         23.98          112.80      899.3          0.11970   \n",
      "33       19.270         26.47          127.90     1162.0          0.09401   \n",
      "34       16.130         17.88          107.00      807.2          0.10400   \n",
      "35       16.740         21.59          110.10      869.5          0.09610   \n",
      "36       14.250         21.72           93.63      633.0          0.09823   \n",
      "37       13.030         18.42           82.61      523.8          0.08983   \n",
      "38       14.990         25.20           95.54      698.8          0.09387   \n",
      "39       13.480         20.82           88.40      559.2          0.10160   \n",
      "40       13.440         21.58           86.18      563.0          0.08162   \n",
      "41       10.950         21.35           71.90      371.1          0.12270   \n",
      "42       19.070         24.81          128.30     1104.0          0.09081   \n",
      "43       13.280         20.28           87.32      545.2          0.10410   \n",
      "44       13.170         21.81           85.42      531.5          0.09714   \n",
      "45       18.650         17.60          123.70     1076.0          0.10990   \n",
      "46        8.196         16.84           51.71      201.9          0.08600   \n",
      "47       13.170         18.66           85.98      534.6          0.11580   \n",
      "48       12.050         14.63           78.04      449.3          0.10310   \n",
      "49       13.490         22.30           86.91      561.0          0.08752   \n",
      "\n",
      "    mean compactness  mean concavity  mean concave points  mean symmetry  \\\n",
      "0            0.27760         0.30010             0.147100         0.2419   \n",
      "1            0.07864         0.08690             0.070170         0.1812   \n",
      "2            0.15990         0.19740             0.127900         0.2069   \n",
      "3            0.28390         0.24140             0.105200         0.2597   \n",
      "4            0.13280         0.19800             0.104300         0.1809   \n",
      "5            0.17000         0.15780             0.080890         0.2087   \n",
      "6            0.10900         0.11270             0.074000         0.1794   \n",
      "7            0.16450         0.09366             0.059850         0.2196   \n",
      "8            0.19320         0.18590             0.093530         0.2350   \n",
      "9            0.23960         0.22730             0.085430         0.2030   \n",
      "10           0.06669         0.03299             0.033230         0.1528   \n",
      "11           0.12920         0.09954             0.066060         0.1842   \n",
      "12           0.24580         0.20650             0.111800         0.2397   \n",
      "13           0.10020         0.09938             0.053640         0.1847   \n",
      "14           0.22930         0.21280             0.080250         0.2069   \n",
      "15           0.15950         0.16390             0.073640         0.2303   \n",
      "16           0.07200         0.07395             0.052590         0.1586   \n",
      "17           0.20220         0.17220             0.102800         0.2164   \n",
      "18           0.10270         0.14790             0.094980         0.1582   \n",
      "19           0.08129         0.06664             0.047810         0.1885   \n",
      "20           0.12700         0.04568             0.031100         0.1967   \n",
      "21           0.06492         0.02956             0.020760         0.1815   \n",
      "22           0.21350         0.20770             0.097560         0.2521   \n",
      "23           0.10220         0.10970             0.086320         0.1769   \n",
      "24           0.14570         0.15250             0.091700         0.1995   \n",
      "25           0.22760         0.22290             0.140100         0.3040   \n",
      "26           0.18680         0.14250             0.087830         0.2252   \n",
      "27           0.10660         0.14900             0.077310         0.1697   \n",
      "28           0.16970         0.16830             0.087510         0.1926   \n",
      "29           0.11570         0.09875             0.079530         0.1739   \n",
      "30           0.18870         0.23190             0.124400         0.2183   \n",
      "31           0.15160         0.12180             0.051820         0.2301   \n",
      "32           0.14960         0.24170             0.120300         0.2248   \n",
      "33           0.17190         0.16570             0.075930         0.1853   \n",
      "34           0.15590         0.13540             0.077520         0.1998   \n",
      "35           0.13360         0.13480             0.060180         0.1896   \n",
      "36           0.10980         0.13190             0.055980         0.1885   \n",
      "37           0.03766         0.02562             0.029230         0.1467   \n",
      "38           0.05131         0.02398             0.028990         0.1565   \n",
      "39           0.12550         0.10630             0.054390         0.1720   \n",
      "40           0.06031         0.03110             0.020310         0.1784   \n",
      "41           0.12180         0.10440             0.056690         0.1895   \n",
      "42           0.21900         0.21070             0.099610         0.2310   \n",
      "43           0.14360         0.09847             0.061580         0.1974   \n",
      "44           0.10470         0.08259             0.052520         0.1746   \n",
      "45           0.16860         0.19740             0.100900         0.1907   \n",
      "46           0.05943         0.01588             0.005917         0.1769   \n",
      "47           0.12310         0.12260             0.073400         0.2128   \n",
      "48           0.09092         0.06592             0.027490         0.1675   \n",
      "49           0.07698         0.04751             0.033840         0.1809   \n",
      "\n",
      "    mean fractal dimension  ...  worst texture  worst perimeter  worst area  \\\n",
      "0                  0.07871  ...          17.33           184.60      2019.0   \n",
      "1                  0.05667  ...          23.41           158.80      1956.0   \n",
      "2                  0.05999  ...          25.53           152.50      1709.0   \n",
      "3                  0.09744  ...          26.50            98.87       567.7   \n",
      "4                  0.05883  ...          16.67           152.20      1575.0   \n",
      "5                  0.07613  ...          23.75           103.40       741.6   \n",
      "6                  0.05742  ...          27.66           153.20      1606.0   \n",
      "7                  0.07451  ...          28.14           110.60       897.0   \n",
      "8                  0.07389  ...          30.73           106.20       739.3   \n",
      "9                  0.08243  ...          40.68            97.65       711.4   \n",
      "10                 0.05697  ...          33.88           123.80      1150.0   \n",
      "11                 0.06082  ...          27.28           136.50      1299.0   \n",
      "12                 0.07800  ...          29.94           151.70      1332.0   \n",
      "13                 0.05338  ...          27.66           112.00       876.5   \n",
      "14                 0.07682  ...          32.01           108.80       697.7   \n",
      "15                 0.07077  ...          37.13           124.10       943.2   \n",
      "16                 0.05922  ...          30.88           123.40      1138.0   \n",
      "17                 0.07356  ...          31.48           136.80      1315.0   \n",
      "18                 0.05395  ...          30.88           186.80      2398.0   \n",
      "19                 0.05766  ...          19.26            99.70       711.2   \n",
      "20                 0.06811  ...          20.49            96.09       630.5   \n",
      "21                 0.06905  ...          15.66            65.13       314.9   \n",
      "22                 0.07032  ...          19.08           125.10       980.9   \n",
      "23                 0.05278  ...          35.59           188.00      2615.0   \n",
      "24                 0.06330  ...          31.56           177.00      2215.0   \n",
      "25                 0.07413  ...          21.40           152.40      1461.0   \n",
      "26                 0.06924  ...          33.21           122.40       896.9   \n",
      "27                 0.05699  ...          27.26           139.90      1403.0   \n",
      "28                 0.06540  ...          36.71           149.30      1269.0   \n",
      "29                 0.06149  ...          19.52           134.90      1227.0   \n",
      "30                 0.06197  ...          34.01           160.50      1670.0   \n",
      "31                 0.07799  ...          28.12           119.40       888.7   \n",
      "32                 0.06382  ...          32.09           136.10      1344.0   \n",
      "33                 0.06261  ...          30.90           161.40      1813.0   \n",
      "34                 0.06515  ...          27.26           132.70      1261.0   \n",
      "35                 0.05656  ...          29.02           133.50      1229.0   \n",
      "36                 0.06125  ...          30.36           116.20       799.6   \n",
      "37                 0.05863  ...          22.81            84.46       545.9   \n",
      "38                 0.05504  ...          25.20            95.54       698.8   \n",
      "39                 0.06419  ...          26.02           107.30       740.4   \n",
      "40                 0.05587  ...          30.25           102.50       787.9   \n",
      "41                 0.06870  ...          35.34            87.22       514.0   \n",
      "42                 0.06343  ...          33.17           177.40      1651.0   \n",
      "43                 0.06782  ...          28.00           113.10       907.2   \n",
      "44                 0.06177  ...          29.89           105.50       740.7   \n",
      "45                 0.06049  ...          21.32           150.60      1567.0   \n",
      "46                 0.06503  ...          21.96            57.26       242.2   \n",
      "47                 0.06777  ...          27.95           102.80       759.4   \n",
      "48                 0.06043  ...          20.70            89.88       582.6   \n",
      "49                 0.05718  ...          31.82            99.00       698.8   \n",
      "\n",
      "    worst smoothness  worst compactness  worst concavity  \\\n",
      "0            0.16220            0.66560          0.71190   \n",
      "1            0.12380            0.18660          0.24160   \n",
      "2            0.14440            0.42450          0.45040   \n",
      "3            0.20980            0.86630          0.68690   \n",
      "4            0.13740            0.20500          0.40000   \n",
      "5            0.17910            0.52490          0.53550   \n",
      "6            0.14420            0.25760          0.37840   \n",
      "7            0.16540            0.36820          0.26780   \n",
      "8            0.17030            0.54010          0.53900   \n",
      "9            0.18530            1.05800          1.10500   \n",
      "10           0.11810            0.15510          0.14590   \n",
      "11           0.13960            0.56090          0.39650   \n",
      "12           0.10370            0.39030          0.36390   \n",
      "13           0.11310            0.19240          0.23220   \n",
      "14           0.16510            0.77250          0.69430   \n",
      "15           0.16780            0.65770          0.70260   \n",
      "16           0.14640            0.18710          0.29140   \n",
      "17           0.17890            0.42330          0.47840   \n",
      "18           0.15120            0.31500          0.53720   \n",
      "19           0.14400            0.17730          0.23900   \n",
      "20           0.13120            0.27760          0.18900   \n",
      "21           0.13240            0.11480          0.08867   \n",
      "22           0.13900            0.59540          0.63050   \n",
      "23           0.14010            0.26000          0.31550   \n",
      "24           0.18050            0.35780          0.46950   \n",
      "25           0.15450            0.39490          0.38530   \n",
      "26           0.15250            0.66430          0.55390   \n",
      "27           0.13380            0.21170          0.34460   \n",
      "28           0.16410            0.61100          0.63350   \n",
      "29           0.12550            0.28120          0.24890   \n",
      "30           0.14910            0.42570          0.61330   \n",
      "31           0.16370            0.57750          0.69560   \n",
      "32           0.16340            0.35590          0.55880   \n",
      "33           0.15090            0.65900          0.60910   \n",
      "34           0.14460            0.58040          0.52740   \n",
      "35           0.15630            0.38350          0.54090   \n",
      "36           0.14460            0.42380          0.51860   \n",
      "37           0.09701            0.04619          0.04833   \n",
      "38           0.09387            0.05131          0.02398   \n",
      "39           0.16100            0.42250          0.50300   \n",
      "40           0.10940            0.20430          0.20850   \n",
      "41           0.19090            0.26980          0.40230   \n",
      "42           0.12470            0.74440          0.72420   \n",
      "43           0.15300            0.37240          0.36640   \n",
      "44           0.15030            0.39040          0.37280   \n",
      "45           0.16790            0.50900          0.73450   \n",
      "46           0.12970            0.13570          0.06880   \n",
      "47           0.17860            0.41660          0.50060   \n",
      "48           0.14940            0.21560          0.30500   \n",
      "49           0.11620            0.17110          0.22820   \n",
      "\n",
      "    worst concave points  worst symmetry  worst fractal dimension  target  \n",
      "0                0.26540          0.4601                  0.11890       0  \n",
      "1                0.18600          0.2750                  0.08902       0  \n",
      "2                0.24300          0.3613                  0.08758       0  \n",
      "3                0.25750          0.6638                  0.17300       0  \n",
      "4                0.16250          0.2364                  0.07678       0  \n",
      "5                0.17410          0.3985                  0.12440       0  \n",
      "6                0.19320          0.3063                  0.08368       0  \n",
      "7                0.15560          0.3196                  0.11510       0  \n",
      "8                0.20600          0.4378                  0.10720       0  \n",
      "9                0.22100          0.4366                  0.20750       0  \n",
      "10               0.09975          0.2948                  0.08452       0  \n",
      "11               0.18100          0.3792                  0.10480       0  \n",
      "12               0.17670          0.3176                  0.10230       0  \n",
      "13               0.11190          0.2809                  0.06287       0  \n",
      "14               0.22080          0.3596                  0.14310       0  \n",
      "15               0.17120          0.4218                  0.13410       0  \n",
      "16               0.16090          0.3029                  0.08216       0  \n",
      "17               0.20730          0.3706                  0.11420       0  \n",
      "18               0.23880          0.2768                  0.07615       0  \n",
      "19               0.12880          0.2977                  0.07259       1  \n",
      "20               0.07283          0.3184                  0.08183       1  \n",
      "21               0.06227          0.2450                  0.07773       1  \n",
      "22               0.23930          0.4667                  0.09946       0  \n",
      "23               0.20090          0.2822                  0.07526       0  \n",
      "24               0.20950          0.3613                  0.09564       0  \n",
      "25               0.25500          0.4066                  0.10590       0  \n",
      "26               0.27010          0.4264                  0.12750       0  \n",
      "27               0.14900          0.2341                  0.07421       0  \n",
      "28               0.20240          0.4027                  0.09876       0  \n",
      "29               0.14560          0.2756                  0.07919       0  \n",
      "30               0.18480          0.3444                  0.09782       0  \n",
      "31               0.15460          0.4761                  0.14020       0  \n",
      "32               0.18470          0.3530                  0.08482       0  \n",
      "33               0.17850          0.3672                  0.11230       0  \n",
      "34               0.18640          0.4270                  0.12330       0  \n",
      "35               0.18130          0.4863                  0.08633       0  \n",
      "36               0.14470          0.3591                  0.10140       0  \n",
      "37               0.05013          0.1987                  0.06169       1  \n",
      "38               0.02899          0.1565                  0.05504       0  \n",
      "39               0.22580          0.2807                  0.10710       0  \n",
      "40               0.11120          0.2994                  0.07146       0  \n",
      "41               0.14240          0.2964                  0.09606       0  \n",
      "42               0.24930          0.4670                  0.10380       0  \n",
      "43               0.14920          0.3739                  0.10270       0  \n",
      "44               0.16070          0.3693                  0.09618       0  \n",
      "45               0.23780          0.3799                  0.09185       0  \n",
      "46               0.02564          0.3105                  0.07409       1  \n",
      "47               0.20880          0.3900                  0.11790       0  \n",
      "48               0.06548          0.2747                  0.08301       1  \n",
      "49               0.12820          0.2871                  0.06917       1  \n",
      "\n",
      "[50 rows x 31 columns]\n",
      "(569, 30) (569,)\n"
     ]
    }
   ],
   "source": [
    "from sklearn.datasets import load_breast_cancer\n",
    "data = load_breast_cancer()\n",
    "X = data.data\n",
    "y = data.target \n",
    "\n",
    "# Creazione di un DataFrame con le feature\n",
    "df = pd.DataFrame(X, columns=data.feature_names)\n",
    "\n",
    "# Aggiunta della colonna target\n",
    "df['target'] = y\n",
    "\n",
    "# Visualizzazione delle prime righe della tabella\n",
    "print(df.head(50))\n",
    "\n",
    "print(X.shape,y.shape)\n"
   ]
  },
  {
   "cell_type": "code",
   "execution_count": 53,
   "metadata": {},
   "outputs": [
    {
     "data": {
      "image/png": "[encoded data removed]",
      "text/plain": [
       "<Figure size 800x400 with 1 Axes>"
      ]
     },
     "metadata": {},
     "output_type": "display_data"
    }
   ],
   "source": [
    "X_train, y_train, X_test, y_test = split_and_standardize(X=X, y=y, ratio=0.8)\n",
    "\n",
    "_ = plt.scatter(X_train[:, 0], X_train[:, 1], c=y_train)\n"
   ]
  }
 ],
 "metadata": {
  "kernelspec": {
   "display_name": "Python 3",
   "language": "python",
   "name": "python3"
  },
  "language_info": {
   "codemirror_mode": {
    "name": "ipython",
    "version": 3
   },
   "file_extension": ".py",
   "mimetype": "text/x-python",
   "name": "python",
   "nbconvert_exporter": "python",
   "pygments_lexer": "ipython3",
   "version": "3.12.6"
  }
 },
 "nbformat": 4,
 "nbformat_minor": 2
}
