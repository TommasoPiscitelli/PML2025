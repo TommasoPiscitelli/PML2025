{
 "cells": [
  {
   "cell_type": "markdown",
   "id": "c5413d36",
   "metadata": {},
   "source": [
    "<a href=\"https://colab.research.google.com/github/r-doz/PML2025/blob/main/./09_VI.ipynb\" target=\"_parent\"><img src=\"https://colab.research.google.com/assets/colab-badge.svg\" alt=\"Open In Colab\"/></a>"
   ]
  },
  {
   "cell_type": "markdown",
   "metadata": {},
   "source": [
    "# Notebook 9: Variational Inference\n",
    "\n",
    "This notebook is based on the previous work of Ginevra Carbone. "
   ]
  },
  {
   "cell_type": "markdown",
   "metadata": {},
   "source": [
    "## The problem"
   ]
  },
  {
   "cell_type": "markdown",
   "metadata": {},
   "source": [
    "The problem is the same that we face in EM algorithm: **performing inference in presence of latent variables**.\n",
    "\n",
    "Namely, we studied how we can perform parameter (i.e. $\\theta$) estimation when in scenarios in which the joint distribution is expressed in the following form: $P(X, Z | \\theta)$. We saw how it is often intractable to marginalize this joint distribution w.r.t. $Z$ in order to retain $P(X | \\theta)$ and how we can exploit the alternate optimization of the EM algorithm to solve this problem."
   ]
  },
  {
   "cell_type": "markdown",
   "metadata": {},
   "source": [
    "**IMPORTANT:** \n",
    "\n",
    "We already saw in EM algorithm that the joint distribution $P(X, Z | \\theta)$ can be factorized into:\n",
    "$$\n",
    "P(X, Z | \\theta) = P(X | \\theta) \\cdot P(Z | X, \\theta) \n",
    "$$\n",
    "and that, since we don't know anything about $P(Z | X, \\theta)$, we assume this quantity to be approximated by $q(Z)$. This is the so-called **variational approximation**, allowing us to express the joint distirbution as:\n",
    "$$\n",
    "P(X, Z | \\theta) \\approx P(X | \\theta) \\cdot q(Z)\n",
    "$$"
   ]
  },
  {
   "cell_type": "markdown",
   "metadata": {},
   "source": [
    "### But what's new?"
   ]
  },
  {
   "cell_type": "markdown",
   "metadata": {},
   "source": [
    "Why are we disentangling the latent variables $Z$ from the parameters $\\theta$?\n",
    "If we \"couple\" the latent variables (from now on: *local latent variables*) with the parameters (from now on: *global latent variables*) we can perform inference on the parameters also, and this is really interesting. \n",
    "\n",
    "Let's represent $Z$ as $Z = (z_1, ..., z_n, \\theta)$; we can rephrase the problem that we saw in the previous lab as:\n",
    "$$\n",
    "P(X, Z) = P(X) \\cdot P(Z | X) \\Biggl( \\approx P(X) \\cdot q(Z) \\Biggr)\n",
    "$$"
   ]
  },
  {
   "cell_type": "markdown",
   "metadata": {},
   "source": [
    "*From a slightly different perspective:*\n",
    "$$\n",
    "P(X, Z) = P(X | Z) \\cdot P(Z) = P(Z | X) \\cdot P(X) \\Rightarrow P(Z | X) = \\frac{P(X | Z) \\cdot P(Z)}{P(X)}\n",
    "$$\n",
    "Here, $P(Z \\mid X)$ is the **posterior distribution over the latent variables** $Z$, given the observed data $X$.\n",
    "\n",
    "While the numerator $P(X \\mid Z) \\cdot P(Z)$ is often relatively easy to evaluate for a given $Z$, the marginal likelihood (also known as the evidence) $P(X)$ is typically intractable, since it requires integrating over all possible latent variables:\n",
    "\n",
    "$$\n",
    "P(X) = \\int P(X \\mid Z) \\cdot P(Z) \\, dZ\n",
    "$$\n",
    "\n",
    "This intractability makes exact inference difficult, which motivates the use of approximate inference techniques such as variational inference.\n",
    "\n",
    "A way we can solve this problem, is to find a distribution $q(Z)$ that is \"similar\" to the target distribution $P(Z | X)$, but from which it is easy to sample (for example a gaussian)."
   ]
  },
  {
   "cell_type": "markdown",
   "metadata": {},
   "source": [
    "### Variational Inference"
   ]
  },
  {
   "cell_type": "markdown",
   "metadata": {},
   "source": [
    "In order to obtain the *most similar* $q(Z)$ with respect to $P(Z | X)$, we want their distance to be *as small as possible*, thus we ask their Kullback-Liebler divergence to be null:\n",
    "$$\n",
    "KL[\\, q(Z) \\, || \\, p(Z | X) \\, ] = - \\int q(Z) \\cdot \\Bigl[ log \\, p(Z | X) - log \\, q(Z) \\Bigr] dZ = 0\n",
    "$$"
   ]
  },
  {
   "cell_type": "markdown",
   "metadata": {},
   "source": [
    "Due to the following relation: \n",
    "$$\n",
    "log \\, p(X) = \\mathcal{L}(q(Z)) + KL[\\, q(Z) \\, || \\, p(Z | X) \\, ] \n",
    "$$\n",
    "\n",
    "we know that asking for $KL[\\, q(Z) \\, || \\, p(Z | X) \\, ] = 0$ retains the same $q(Z)$ as the one obtained by maximizing the ELBO $\\mathcal{L}(q(Z))$."
   ]
  },
  {
   "cell_type": "markdown",
   "metadata": {},
   "source": [
    "The problem of finding $\\argmax_{q(Z)} \\, \\mathcal{L}(q(Z))$ can be simplified in a **parameter optimization process** if we assume that $q(Z)$ belongs to a **parametric family of distributions**, in mathematical terms:\n",
    "$$\n",
    "q(Z)  \\in  \\mathcal{Q} = \\{q(Z | \\lambda), \\, \\lambda \\in \\mathcal{R}^k\\}\n",
    "$$"
   ]
  },
  {
   "cell_type": "markdown",
   "metadata": {},
   "source": [
    "So in variational inference we reduce the inference problem to an optimization problem:\n",
    "$$ \\argmax_{q(Z|\\lambda)} \\, \\mathcal{L}(q(Z | \\lambda)) $$\n",
    "\n",
    "Considering that we are using a parametric family of distributions $q(Z |\\lambda)$, then this reduces to the optimization of a set of parameters:\n",
    "$$\\argmax_{\\lambda} \\, \\mathcal{L} (\\lambda)$$"
   ]
  },
  {
   "cell_type": "markdown",
   "metadata": {},
   "source": [
    "### Black Box Variational Inference"
   ]
  },
  {
   "cell_type": "markdown",
   "metadata": {},
   "source": [
    "In order to find $\\argmax_{\\lambda} \\text{ELBO}(\\lambda)$, we would like to perform a gradient-based optimization, but $\\nabla_\\lambda\\text{ELBO}(\\lambda)$ contains an intractable expectation.\n",
    "\n",
    "We would like to estimate the gradient of this expectation by Monte Carlo with respect to variational parameters and then perform gradient ascent on this estimate.\n",
    "\n",
    "Depending on $q_\\lambda$, there are two ways to do this:\n",
    "1. reparametrization trick;\n",
    "2. if not reparametrizable, rewrite the gradient of the expectation as an expectation of the gradient (more complicated)."
   ]
  },
  {
   "cell_type": "markdown",
   "metadata": {},
   "source": [
    "#### SOLUTION #1: Reparametrization Trick"
   ]
  },
  {
   "cell_type": "markdown",
   "metadata": {},
   "source": [
    "The reparametrization trick consist in writing samples $Z$ from $q(Z |\\lambda)$ as $Z = f_{\\nu}(\\boldsymbol{\\varepsilon})$ where $\\varepsilon$ is a random variable sampled from a distribution $\\hat{q}(\\varepsilon)$ that does not depend on $\\lambda$.\n",
    "*For example*: sampling $Z \\sim \\mathcal{N}(\\mu, \\sigma)$ is equivalent to $Z = \\mu + \\sigma \\cdot \\varepsilon$ with $\\varepsilon \\sim \\mathcal{N}(0, 1)$, $\\nu = (\\mu, \\sigma)$.\n",
    "\n",
    "The overall set of parameters to be optimized will be $\\hat{\\lambda} = (\\lambda, \\nu)$, where $\\nu$ are the parameters of the function $f$."
   ]
  },
  {
   "cell_type": "markdown",
   "metadata": {},
   "source": [
    "Consequently, starting from:\n",
    "$$\n",
    "\\mathcal{L}(\\lambda) = \\mathbb{E}_{\\, Z \\sim q(Z | \\lambda)} \\, \\Bigl[ log \\, P(X, Z) - log \\, q(Z | \\lambda) \\Bigr]\n",
    "$$\n",
    "we can use this reparametrization and obtain: \n",
    "$$\n",
    "\\mathcal{L}(\\hat{\\lambda}) = \\mathbb{E}_{\\, \\varepsilon \\sim \\hat{q}(\\varepsilon)} \\, \\Bigl[ log \\, P(X, f_{\\nu}(\\varepsilon)) - log \\, q(f_{\\nu}(\\varepsilon) | \\lambda) \\Bigr]\n",
    "$$\n",
    "\n",
    "Note that this expectation does not depend anymore on $\\lambda$!\n"
   ]
  },
  {
   "cell_type": "markdown",
   "metadata": {},
   "source": [
    "Let's consider now its gradient: \n",
    "$$\n",
    "\\nabla_{\\hat{\\lambda}} \\, \\mathcal{L}(\\hat{\\lambda}) = \\mathbb{E}_{\\, \\varepsilon \\sim \\hat{q}(\\varepsilon)} \\, \\Bigl[ \\nabla_{\\hat{\\lambda}} \\, log \\, P(X, f_{\\nu}(\\varepsilon)) - \\nabla_{\\hat{\\lambda}} \\, log \\, q(f_{\\nu}(\\varepsilon) | \\lambda) \\Bigr]\n",
    "$$\n",
    "\n",
    "**Technical note:** the relevant thing about the fact that the expectation inside $\\mathcal{L}(\\hat{\\lambda})$ does not depend anymore on $\\lambda$ is that we can *we can bring the gradient operator inside the expectation*."
   ]
  },
  {
   "cell_type": "markdown",
   "metadata": {},
   "source": [
    "The Monte Carlo estimate of this gradient will be given by:\n",
    "\n",
    "$$\n",
    "\\nabla_{\\hat{\\lambda}} \\, \\mathcal{L}(\\hat{\\lambda}) \\approx \\frac{1}{S} \\sum_{s=1}^S  \\nabla_{\\hat{\\lambda}} \\Bigl[ \\, log \\, P(X, f_{\\nu}(\\varepsilon_s)) - \\, log \\, q(f_{\\nu}(\\varepsilon_s) | \\lambda) \\Bigr] \\; \\text{where} \\; \\varepsilon_s \\sim \\hat{q}(\\varepsilon)\n",
    "$$"
   ]
  },
  {
   "cell_type": "markdown",
   "metadata": {},
   "source": [
    "**Example:**\n",
    "Find a variational approximation of $p(z) \\propto e^{-3|x-2|}$ using a gaussian guide $q_{\\mu, \\sigma}(z) = \\mathcal{N}(z|\\mu,\\sigma)$"
   ]
  },
  {
   "cell_type": "code",
   "execution_count": 1,
   "metadata": {},
   "outputs": [
    {
     "data": {
      "application/vnd.jupyter.widget-view+json": {
       "model_id": "a45758e06d3c44a2bf232607ec1e619f",
       "version_major": 2,
       "version_minor": 0
      },
      "text/plain": [
       "  0%|          | 0/1000 [00:00<?, ?it/s]"
      ]
     },
     "metadata": {},
     "output_type": "display_data"
    },
    {
     "name": "stdout",
     "output_type": "stream",
     "text": [
      "loss=0.468\n",
      "mean = 2.070, std = 0.437\n"
     ]
    },
    {
     "data": {
      "image/png": "[encoded data removed]",
      "text/plain": [
       "<Figure size 640x480 with 1 Axes>"
      ]
     },
     "metadata": {},
     "output_type": "display_data"
    }
   ],
   "source": [
    "import torch\n",
    "from torch import distributions\n",
    "from tqdm.notebook import tqdm\n",
    "import matplotlib.pyplot as plt\n",
    "import numpy as np\n",
    "\n",
    "def gradient_descent_optimization(*, loss_function, lr: float, n_iter: int, initial_guess: np.ndarray) -> np.ndarray:\n",
    "    w = torch.tensor(initial_guess, dtype=torch.float32, requires_grad=True)\n",
    "    for _ in tqdm(range(n_iter)):\n",
    "        loss = loss_function(w)\n",
    "        loss.backward()\n",
    "        with torch.no_grad():\n",
    "            w -= lr * w.grad\n",
    "        w.grad = None\n",
    "    print(f\"loss={ loss.item():.4g}\")\n",
    "    return w.cpu().detach().numpy()\n",
    "\n",
    "def log_p(z) -> torch.Tensor:\n",
    "    return -3 * torch.abs(z-2)\n",
    "\n",
    "def log_q(z, mu, sigma) -> torch.Tensor:\n",
    "    return distributions.Normal(mu, sigma).log_prob(z)\n",
    "\n",
    "def loss(param):\n",
    "    eps = torch.randn(10)\n",
    "    z = param[0] + param[1] * eps\n",
    "    elbo_sample = log_p(z) - log_q(z, param[0], param[1])\n",
    "    return -elbo_sample.mean(0)\n",
    "    \n",
    "\n",
    "params = gradient_descent_optimization(loss_function=loss,\n",
    "                                        lr=0.01,\n",
    "                                        n_iter=1000,\n",
    "                                        initial_guess=[0.0, 10.0])\n",
    "\n",
    "mu = params[0]\n",
    "sigma = params[1]\n",
    "\n",
    "print(f\"mean = {mu:.3f}, std = {sigma:.3f}\")\n",
    "\n",
    "# plotting the result\n",
    "z_values = torch.linspace(-3, 5, 400)\n",
    "log_p_values = log_p(z_values).exp()\n",
    "log_q_values = log_q(z_values, mu, sigma).exp()\n",
    "plt.figure(dpi=100)\n",
    "plt.plot(z_values.numpy(), log_p_values.numpy(), label='p (unnormalized)')\n",
    "plt.plot(z_values.numpy(), log_q_values.numpy(), label='q')\n",
    "_ = plt.legend()"
   ]
  },
  {
   "cell_type": "markdown",
   "metadata": {},
   "source": [
    "#### SOLUTION #2: Non-reparametrizable guide"
   ]
  },
  {
   "cell_type": "markdown",
   "metadata": {},
   "source": [
    "In many cases the guide is **not reparametrizable**, but also in this case it is *still possible to approximate the gradient*, at the price of a higher variance of the estimation (see lectures' notes for a proof):\n",
    "\n",
    "$$\\nabla_\\lambda\\text{ELBO}(\\lambda)  \\approx \\frac{1}{S} \\sum_{s=1}^S  \\nabla_\\lambda \\left[ \\log q_{\\lambda}(\\boldsymbol{z}_s) \\right] \\left( \\log{\\tilde{p}(\\boldsymbol{z}_s)} - \\log{q_{\\lambda}(\\boldsymbol{z}_s)} \\right)$$\n",
    "\n",
    "This is how `Pyro` computes the gradient for any guide (see next part). "
   ]
  },
  {
   "cell_type": "markdown",
   "metadata": {},
   "source": [
    "## Variational Inference with Pyro"
   ]
  },
  {
   "cell_type": "markdown",
   "metadata": {},
   "source": [
    "**Stochastic (or Black-Box) Variational Inference** is implemented as a `Pyro` class\n",
    "\n",
    "```\n",
    "SVI(model, guide, optim, loss)\n",
    "```\n",
    "\n",
    "whose arguments are:\n",
    "- a `model()` function, implementing the generative process, conditioned on the observations;\n",
    "- a `guide()` function, representing the variational distribution $q(Z | \\lambda)$ (*it needs to provide a valid joint probability density function over all the latent random variables in the model*);\n",
    "- `optim`, a PyTorch optimizer;\n",
    "- `loss`, i.e. the ELBO loss function.\n"
   ]
  },
  {
   "cell_type": "markdown",
   "metadata": {},
   "source": [
    "Keep in mind that `model()` and `guide()` must:\n",
    "- always take the *same arguments* as inputs;\n",
    "- both **sample the parameters that have to be inferred** and use the *same names* for them, but not necessarily the same distributions.\n",
    "\n",
    "For example:\n",
    "\n",
    "```\n",
    "def model(data):\n",
    "    pyro.sample(\"theta\", Uniform(-1.,1.))\n",
    "    ...\n",
    "   \n",
    "def guide(data):\n",
    "    pyro.sample(\"theta\", Normal(0.,1.))\n",
    "    ... \n",
    "```"
   ]
  },
  {
   "cell_type": "markdown",
   "metadata": {},
   "source": [
    "The **optimization step** is performed by calling the `step()` function on the training batch data:\n",
    "\n",
    "```\n",
    "optim = Adam({lr:0.02}) \n",
    "loss = ELBO_loss()\n",
    "svi = SVI(model, guide, optim, loss)\n",
    "\n",
    "for step in range(n_steps):\n",
    "    for batch_data in training_data:\n",
    "        svi.step(batch_data)\n",
    "```\n",
    "\n",
    "The name \"stochastic\" is due to the batch training technique."
   ]
  },
  {
   "cell_type": "markdown",
   "metadata": {},
   "source": [
    "### Example: Linear Regression with SVI"
   ]
  },
  {
   "cell_type": "markdown",
   "metadata": {},
   "source": [
    "First, we load the data and normalize it:"
   ]
  },
  {
   "cell_type": "code",
   "execution_count": 1,
   "metadata": {},
   "outputs": [],
   "source": [
    "import pandas as pd\n",
    "import numpy as np\n",
    "import matplotlib.pyplot as plt\n",
    "\n",
    "df = pd.read_csv('https://raw.githubusercontent.com/r-doz/PML2025/main/data/vi_regression.csv')\n"
   ]
  },
  {
   "cell_type": "code",
   "execution_count": 3,
   "metadata": {},
   "outputs": [
    {
     "data": {
      "application/vnd.microsoft.datawrangler.viewer.v0+json": {
       "columns": [
        {
         "name": "index",
         "rawType": "int64",
         "type": "integer"
        },
        {
         "name": "x",
         "rawType": "float64",
         "type": "float"
        },
        {
         "name": "y",
         "rawType": "float64",
         "type": "float"
        }
       ],
       "ref": "4b4b7e4c-5a52-446c-81eb-6dbe27e1d925",
       "rows": [
        [
         "0",
         "0.5996483098271973",
         "-0.39575730185664776"
        ],
        [
         "1",
         "0.24320942723455224",
         "0.18638089494962432"
        ],
        [
         "2",
         "-0.07416890107455491",
         "1.1260550286879112"
        ],
        [
         "3",
         "-0.2579668056351911",
         "1.0551186770124508"
        ],
        [
         "4",
         "0.45982624360084656",
         "-1.0724613759869448"
        ],
        [
         "5",
         "2.1219774041724397",
         "-1.4374085305201496"
        ],
        [
         "6",
         "1.2872163924857645",
         "-1.2309603881681705"
        ],
        [
         "7",
         "-0.238138846569415",
         "0.24457047082908365"
        ],
        [
         "8",
         "-2.1538429919823194",
         "0.7252141274662807"
        ],
        [
         "9",
         "-0.26538653314249466",
         "1.743719221321101"
        ],
        [
         "10",
         "-0.017635959827809158",
         "0.288913331734076"
        ],
        [
         "11",
         "0.2258266676856414",
         "-0.8803100386737248"
        ],
        [
         "12",
         "0.25219544852706144",
         "-1.4806421780672319"
        ],
        [
         "13",
         "-1.7548572269000955",
         "1.6421560091302738"
        ],
        [
         "14",
         "0.1570178586628389",
         "-0.19383829618401185"
        ],
        [
         "15",
         "1.126449872479006",
         "-0.9938634391057627"
        ],
        [
         "16",
         "0.4407513640127989",
         "-0.46503565382704387"
        ],
        [
         "17",
         "0.13705026018901872",
         "-0.273894475441031"
        ],
        [
         "18",
         "-1.3038205914233976",
         "0.640702102851645"
        ],
        [
         "19",
         "-0.9853513923218885",
         "0.771341813848272"
        ]
       ],
       "shape": {
        "columns": 2,
        "rows": 20
       }
      },
      "text/html": [
       "<div>\n",
       "<style scoped>\n",
       "    .dataframe tbody tr th:only-of-type {\n",
       "        vertical-align: middle;\n",
       "    }\n",
       "\n",
       "    .dataframe tbody tr th {\n",
       "        vertical-align: top;\n",
       "    }\n",
       "\n",
       "    .dataframe thead th {\n",
       "        text-align: right;\n",
       "    }\n",
       "</style>\n",
       "<table border=\"1\" class=\"dataframe\">\n",
       "  <thead>\n",
       "    <tr style=\"text-align: right;\">\n",
       "      <th></th>\n",
       "      <th>x</th>\n",
       "      <th>y</th>\n",
       "    </tr>\n",
       "  </thead>\n",
       "  <tbody>\n",
       "    <tr>\n",
       "      <th>0</th>\n",
       "      <td>0.599648</td>\n",
       "      <td>-0.395757</td>\n",
       "    </tr>\n",
       "    <tr>\n",
       "      <th>1</th>\n",
       "      <td>0.243209</td>\n",
       "      <td>0.186381</td>\n",
       "    </tr>\n",
       "    <tr>\n",
       "      <th>2</th>\n",
       "      <td>-0.074169</td>\n",
       "      <td>1.126055</td>\n",
       "    </tr>\n",
       "    <tr>\n",
       "      <th>3</th>\n",
       "      <td>-0.257967</td>\n",
       "      <td>1.055119</td>\n",
       "    </tr>\n",
       "    <tr>\n",
       "      <th>4</th>\n",
       "      <td>0.459826</td>\n",
       "      <td>-1.072461</td>\n",
       "    </tr>\n",
       "    <tr>\n",
       "      <th>5</th>\n",
       "      <td>2.121977</td>\n",
       "      <td>-1.437409</td>\n",
       "    </tr>\n",
       "    <tr>\n",
       "      <th>6</th>\n",
       "      <td>1.287216</td>\n",
       "      <td>-1.230960</td>\n",
       "    </tr>\n",
       "    <tr>\n",
       "      <th>7</th>\n",
       "      <td>-0.238139</td>\n",
       "      <td>0.244570</td>\n",
       "    </tr>\n",
       "    <tr>\n",
       "      <th>8</th>\n",
       "      <td>-2.153843</td>\n",
       "      <td>0.725214</td>\n",
       "    </tr>\n",
       "    <tr>\n",
       "      <th>9</th>\n",
       "      <td>-0.265387</td>\n",
       "      <td>1.743719</td>\n",
       "    </tr>\n",
       "    <tr>\n",
       "      <th>10</th>\n",
       "      <td>-0.017636</td>\n",
       "      <td>0.288913</td>\n",
       "    </tr>\n",
       "    <tr>\n",
       "      <th>11</th>\n",
       "      <td>0.225827</td>\n",
       "      <td>-0.880310</td>\n",
       "    </tr>\n",
       "    <tr>\n",
       "      <th>12</th>\n",
       "      <td>0.252195</td>\n",
       "      <td>-1.480642</td>\n",
       "    </tr>\n",
       "    <tr>\n",
       "      <th>13</th>\n",
       "      <td>-1.754857</td>\n",
       "      <td>1.642156</td>\n",
       "    </tr>\n",
       "    <tr>\n",
       "      <th>14</th>\n",
       "      <td>0.157018</td>\n",
       "      <td>-0.193838</td>\n",
       "    </tr>\n",
       "    <tr>\n",
       "      <th>15</th>\n",
       "      <td>1.126450</td>\n",
       "      <td>-0.993863</td>\n",
       "    </tr>\n",
       "    <tr>\n",
       "      <th>16</th>\n",
       "      <td>0.440751</td>\n",
       "      <td>-0.465036</td>\n",
       "    </tr>\n",
       "    <tr>\n",
       "      <th>17</th>\n",
       "      <td>0.137050</td>\n",
       "      <td>-0.273894</td>\n",
       "    </tr>\n",
       "    <tr>\n",
       "      <th>18</th>\n",
       "      <td>-1.303821</td>\n",
       "      <td>0.640702</td>\n",
       "    </tr>\n",
       "    <tr>\n",
       "      <th>19</th>\n",
       "      <td>-0.985351</td>\n",
       "      <td>0.771342</td>\n",
       "    </tr>\n",
       "  </tbody>\n",
       "</table>\n",
       "</div>"
      ],
      "text/plain": [
       "           x         y\n",
       "0   0.599648 -0.395757\n",
       "1   0.243209  0.186381\n",
       "2  -0.074169  1.126055\n",
       "3  -0.257967  1.055119\n",
       "4   0.459826 -1.072461\n",
       "5   2.121977 -1.437409\n",
       "6   1.287216 -1.230960\n",
       "7  -0.238139  0.244570\n",
       "8  -2.153843  0.725214\n",
       "9  -0.265387  1.743719\n",
       "10 -0.017636  0.288913\n",
       "11  0.225827 -0.880310\n",
       "12  0.252195 -1.480642\n",
       "13 -1.754857  1.642156\n",
       "14  0.157018 -0.193838\n",
       "15  1.126450 -0.993863\n",
       "16  0.440751 -0.465036\n",
       "17  0.137050 -0.273894\n",
       "18 -1.303821  0.640702\n",
       "19 -0.985351  0.771342"
      ]
     },
     "execution_count": 3,
     "metadata": {},
     "output_type": "execute_result"
    }
   ],
   "source": [
    "# Let's normalize the data, in order to improve the convergence of optimizers\n",
    "df = (df - df.mean()) / df.std()\n",
    "df"
   ]
  },
  {
   "cell_type": "markdown",
   "metadata": {},
   "source": [
    "The data has just one feature and one value to predict. The following is a linear model describing the observed data:\n",
    "\n",
    "\\begin{align*}\n",
    "\n",
    "\n",
    "\n",
    "& p(y_i | x_i, w, b, \\sigma) = \\mathcal{N}(y_i | x_i \\cdot w + b, \\sigma) \\\\\n",
    "\n",
    "& w \\sim \\mathcal{N}(0,100) \\\\\n",
    "& b \\sim \\mathcal{N}(0,100) \\\\\n",
    "& \\sigma \\sim \\text{Uniform}(0,100) \\\\\n",
    "\n",
    "\\end{align*}\n",
    "\n"
   ]
  },
  {
   "cell_type": "code",
   "execution_count": 31,
   "metadata": {},
   "outputs": [
    {
     "data": {
      "image/svg+xml": [
       "<?xml version=\"1.0\" encoding=\"UTF-8\" standalone=\"no\"?>\n",
       "<!DOCTYPE svg PUBLIC \"-//W3C//DTD SVG 1.1//EN\"\n",
       " \"http://www.w3.org/Graphics/SVG/1.1/DTD/svg11.dtd\">\n",
       "<!-- Generated by graphviz version 12.2.1 (20241206.2353)\n",
       " -->\n",
       "<!-- Pages: 1 -->\n",
       "<svg width=\"259pt\" height=\"157pt\"\n",
       " viewBox=\"0.00 0.00 258.70 156.50\" xmlns=\"http://www.w3.org/2000/svg\" xmlns:xlink=\"http://www.w3.org/1999/xlink\">\n",
       "<g id=\"graph0\" class=\"graph\" transform=\"scale(1 1) rotate(0) translate(4 152.5)\">\n",
       "<polygon fill=\"white\" stroke=\"none\" points=\"-4,4 -4,-152.5 254.7,-152.5 254.7,4 -4,4\"/>\n",
       "<g id=\"clust1\" class=\"cluster\">\n",
       "<title>cluster_data</title>\n",
       "<polygon fill=\"none\" stroke=\"black\" points=\"110.33,-8 110.33,-84.5 180.33,-84.5 180.33,-8 110.33,-8\"/>\n",
       "<text text-anchor=\"middle\" x=\"161.08\" y=\"-15.2\" font-family=\"Times New Roman,serif\" font-size=\"14.00\">data</text>\n",
       "</g>\n",
       "<!-- coefficient -->\n",
       "<g id=\"node1\" class=\"node\">\n",
       "<title>coefficient</title>\n",
       "<ellipse fill=\"white\" stroke=\"black\" cx=\"50.33\" cy=\"-130.5\" rx=\"50.33\" ry=\"18\"/>\n",
       "<text text-anchor=\"middle\" x=\"50.33\" y=\"-125.45\" font-family=\"Times New Roman,serif\" font-size=\"14.00\">coefficient</text>\n",
       "</g>\n",
       "<!-- y -->\n",
       "<g id=\"node4\" class=\"node\">\n",
       "<title>y</title>\n",
       "<ellipse fill=\"gray\" stroke=\"black\" cx=\"145.33\" cy=\"-58.5\" rx=\"27\" ry=\"18\"/>\n",
       "<text text-anchor=\"middle\" x=\"145.33\" y=\"-53.45\" font-family=\"Times New Roman,serif\" font-size=\"14.00\">y</text>\n",
       "</g>\n",
       "<!-- coefficient&#45;&gt;y -->\n",
       "<g id=\"edge1\" class=\"edge\">\n",
       "<title>coefficient&#45;&gt;y</title>\n",
       "<path fill=\"none\" stroke=\"black\" d=\"M71.41,-113.96C85.31,-103.72 103.64,-90.22 118.57,-79.22\"/>\n",
       "<polygon fill=\"black\" stroke=\"black\" points=\"120.61,-82.06 126.58,-73.31 116.46,-76.43 120.61,-82.06\"/>\n",
       "</g>\n",
       "<!-- bias -->\n",
       "<g id=\"node2\" class=\"node\">\n",
       "<title>bias</title>\n",
       "<ellipse fill=\"white\" stroke=\"black\" cx=\"145.33\" cy=\"-130.5\" rx=\"27\" ry=\"18\"/>\n",
       "<text text-anchor=\"middle\" x=\"145.33\" y=\"-125.45\" font-family=\"Times New Roman,serif\" font-size=\"14.00\">bias</text>\n",
       "</g>\n",
       "<!-- bias&#45;&gt;y -->\n",
       "<g id=\"edge2\" class=\"edge\">\n",
       "<title>bias&#45;&gt;y</title>\n",
       "<path fill=\"none\" stroke=\"black\" d=\"M145.33,-112.2C145.33,-104.91 145.33,-96.23 145.33,-88.04\"/>\n",
       "<polygon fill=\"black\" stroke=\"black\" points=\"148.83,-88.12 145.33,-78.12 141.83,-88.12 148.83,-88.12\"/>\n",
       "</g>\n",
       "<!-- noise -->\n",
       "<g id=\"node3\" class=\"node\">\n",
       "<title>noise</title>\n",
       "<ellipse fill=\"white\" stroke=\"black\" cx=\"220.33\" cy=\"-130.5\" rx=\"30.37\" ry=\"18\"/>\n",
       "<text text-anchor=\"middle\" x=\"220.33\" y=\"-125.45\" font-family=\"Times New Roman,serif\" font-size=\"14.00\">noise</text>\n",
       "</g>\n",
       "<!-- noise&#45;&gt;y -->\n",
       "<g id=\"edge3\" class=\"edge\">\n",
       "<title>noise&#45;&gt;y</title>\n",
       "<path fill=\"none\" stroke=\"black\" d=\"M204.42,-114.65C194.07,-105 180.4,-92.23 168.81,-81.42\"/>\n",
       "<polygon fill=\"black\" stroke=\"black\" points=\"171.25,-78.9 161.55,-74.64 166.47,-84.02 171.25,-78.9\"/>\n",
       "</g>\n",
       "</g>\n",
       "</svg>\n"
      ],
      "text/plain": [
       "<graphviz.graphs.Digraph at 0x182748a84a0>"
      ]
     },
     "execution_count": 31,
     "metadata": {},
     "output_type": "execute_result"
    }
   ],
   "source": [
    "import pyro\n",
    "import torch\n",
    "from pyro.distributions import Normal, Uniform, LogNormal\n",
    "from pyro.distributions import constraints\n",
    "\n",
    "W_PRIOR_SIGMA = 100.0\n",
    "BIAS_PRIOR_SIGMA = 100.0\n",
    "SIGMA_MAX = 100.0\n",
    "\n",
    "# P(X, Z)\n",
    "def model(x: torch.Tensor, y: torch.Tensor | None = None) -> torch.Tensor:\n",
    "    # priors\n",
    "    coefficient = pyro.sample('coefficient', Normal(0, W_PRIOR_SIGMA))\n",
    "    bias = pyro.sample('bias', Normal(0, BIAS_PRIOR_SIGMA))\n",
    "    sigma = pyro.sample('noise', Uniform(0, SIGMA_MAX))\n",
    "    \n",
    "    # likelihood/observation\n",
    "    with pyro.plate('data', len(x)):\n",
    "        y = pyro.sample('y', Normal(coefficient * x + bias, sigma), obs=y)\n",
    "    return y\n",
    "\n",
    "pyro.render_model(model, model_args=(torch.zeros(1),torch.zeros(1)))"
   ]
  },
  {
   "cell_type": "markdown",
   "metadata": {},
   "source": [
    "If we want to do VI, we have to build a guide.\n",
    "\n",
    "A guide is made in the same way we build models. Being a distribution over the latent variables, you have to sample those inside its definition, using the same names as in the model, and you can define parameters that parametrize the distribution.\n",
    "\n",
    "Moreover, the arguments of the guide function has to be the same of the model."
   ]
  },
  {
   "cell_type": "code",
   "execution_count": null,
   "metadata": {},
   "outputs": [
    {
     "data": {
      "image/svg+xml": [
       "<?xml version=\"1.0\" encoding=\"UTF-8\" standalone=\"no\"?>\n",
       "<!DOCTYPE svg PUBLIC \"-//W3C//DTD SVG 1.1//EN\"\n",
       " \"http://www.w3.org/Graphics/SVG/1.1/DTD/svg11.dtd\">\n",
       "<!-- Generated by graphviz version 12.2.1 (20241206.2353)\n",
       " -->\n",
       "<!-- Pages: 1 -->\n",
       "<svg width=\"259pt\" height=\"44pt\"\n",
       " viewBox=\"0.00 0.00 258.70 44.00\" xmlns=\"http://www.w3.org/2000/svg\" xmlns:xlink=\"http://www.w3.org/1999/xlink\">\n",
       "<g id=\"graph0\" class=\"graph\" transform=\"scale(1 1) rotate(0) translate(4 40)\">\n",
       "<polygon fill=\"white\" stroke=\"none\" points=\"-4,4 -4,-40 254.7,-40 254.7,4 -4,4\"/>\n",
       "<!-- coefficient -->\n",
       "<g id=\"node1\" class=\"node\">\n",
       "<title>coefficient</title>\n",
       "<ellipse fill=\"white\" stroke=\"black\" cx=\"50.33\" cy=\"-18\" rx=\"50.33\" ry=\"18\"/>\n",
       "<text text-anchor=\"middle\" x=\"50.33\" y=\"-12.95\" font-family=\"Times New Roman,serif\" font-size=\"14.00\">coefficient</text>\n",
       "</g>\n",
       "<!-- bias -->\n",
       "<g id=\"node2\" class=\"node\">\n",
       "<title>bias</title>\n",
       "<ellipse fill=\"white\" stroke=\"black\" cx=\"145.33\" cy=\"-18\" rx=\"27\" ry=\"18\"/>\n",
       "<text text-anchor=\"middle\" x=\"145.33\" y=\"-12.95\" font-family=\"Times New Roman,serif\" font-size=\"14.00\">bias</text>\n",
       "</g>\n",
       "<!-- noise -->\n",
       "<g id=\"node3\" class=\"node\">\n",
       "<title>noise</title>\n",
       "<ellipse fill=\"white\" stroke=\"black\" cx=\"220.33\" cy=\"-18\" rx=\"30.37\" ry=\"18\"/>\n",
       "<text text-anchor=\"middle\" x=\"220.33\" y=\"-12.95\" font-family=\"Times New Roman,serif\" font-size=\"14.00\">noise</text>\n",
       "</g>\n",
       "</g>\n",
       "</svg>\n"
      ],
      "text/plain": [
       "<graphviz.graphs.Digraph at 0x18268859430>"
      ]
     },
     "execution_count": 5,
     "metadata": {},
     "output_type": "execute_result"
    }
   ],
   "source": [
    "# q(Z)\n",
    "def guide(x: torch.Tensor, y: torch.Tensor | None = None):\n",
    "    \n",
    "    # guide optimizable parameters\n",
    "    coefficient_mu = pyro.param('coefficient_mu', torch.tensor(0.0))\n",
    "    coefficient_sigma = pyro.param('coefficient_sigma', torch.tensor(10.0), constraint=constraints.positive)\n",
    "    \n",
    "    bias_mu = pyro.param('bias_mu', torch.tensor(0.0))\n",
    "    bias_sigma = pyro.param('bias_sigma', torch.tensor(10.0), constraint=constraints.positive)\n",
    "    \n",
    "    sigma_mu = pyro.param('sigma_mu', torch.tensor(0.0))\n",
    "    sigma_sigma = pyro.param('sigma_sigma', torch.tensor(1.0), constraint=constraints.positive)\n",
    "\n",
    "    # guide distributions \n",
    "    coefficient = pyro.sample('coefficient', Normal(coefficient_mu, coefficient_sigma))\n",
    "    bias = pyro.sample('bias', Normal(bias_mu, bias_sigma))\n",
    "    sigma = pyro.sample('noise', LogNormal(sigma_mu, sigma_sigma))\n",
    "    \n",
    "    return coefficient, bias, sigma\n",
    "\n",
    "# This doesn't make much sense, but it's just to show the guide\n",
    "pyro.render_model(guide, model_args=(torch.zeros(1),torch.zeros(1)))"
   ]
  },
  {
   "cell_type": "markdown",
   "metadata": {},
   "source": [
    "Notice that we defined a guide where each latent variable is an independent distribution, so we are using a **mean-field approximation**.\n",
    "\n",
    "Now we can perform SVI and optimize the guide's parameters:"
   ]
  },
  {
   "cell_type": "code",
   "execution_count": 6,
   "metadata": {},
   "outputs": [
    {
     "data": {
      "application/vnd.jupyter.widget-view+json": {
       "model_id": "4d563524ac3542c793f861ca826cfcca",
       "version_major": 2,
       "version_minor": 0
      },
      "text/plain": [
       "  0%|          | 0/200 [00:00<?, ?it/s]"
      ]
     },
     "metadata": {},
     "output_type": "display_data"
    },
    {
     "name": "stdout",
     "output_type": "stream",
     "text": [
      "Elbo loss: 38.528857707977295\n"
     ]
    },
    {
     "data": {
      "image/png": "[encoded data removed]",
      "text/plain": [
       "<Figure size 640x480 with 1 Axes>"
      ]
     },
     "metadata": {},
     "output_type": "display_data"
    }
   ],
   "source": [
    "from pyro.infer import SVI, Trace_ELBO\n",
    "from pyro.optim import ClippedAdam\n",
    "from tqdm.notebook import tqdm\n",
    "\n",
    "pyro.clear_param_store()\n",
    "\n",
    "# convert the data to torch tensors\n",
    "data = torch.tensor(df.to_numpy(), dtype=torch.float32)\n",
    "x = data[:,0] \n",
    "y = data[:,1]\n",
    "\n",
    "NUM_PARTICLES = 1 # number of samples to estimate the gradient od the ELBO\n",
    "STEPS = 200 # optimization steps\n",
    "\n",
    "# defining the SVI object\n",
    "svi = SVI(model=model,\n",
    "          guide=guide,\n",
    "          optim=ClippedAdam({'lr': 0.05}),\n",
    "          loss=Trace_ELBO(num_particles=NUM_PARTICLES))\n",
    "\n",
    "# fitting the guide to the data\n",
    "loss = np.zeros(STEPS)\n",
    "for i in tqdm(range(STEPS)):\n",
    "    # executes the optimization step: computes the loss        \n",
    "    loss[i] = svi.step(x, y)\n",
    "    \n",
    "print(f\"Elbo loss: {loss[-1]}\")\n",
    "_ = plt.plot(loss)"
   ]
  },
  {
   "cell_type": "markdown",
   "metadata": {},
   "source": [
    "Where are the optimized parameters of the guide? They are saved under the hood in an object named `pyro.get_param_store()`:"
   ]
  },
  {
   "cell_type": "code",
   "execution_count": 7,
   "metadata": {},
   "outputs": [
    {
     "data": {
      "text/plain": [
       "{'coefficient_mu': tensor(-0.7241, requires_grad=True),\n",
       " 'coefficient_sigma': tensor(0.1983, grad_fn=<AddBackward0>),\n",
       " 'bias_mu': tensor(-0.0758, requires_grad=True),\n",
       " 'bias_sigma': tensor(0.1734, grad_fn=<AddBackward0>),\n",
       " 'sigma_mu': tensor(-0.2742, requires_grad=True),\n",
       " 'sigma_sigma': tensor(0.1793, grad_fn=<AddBackward0>)}"
      ]
     },
     "execution_count": 7,
     "metadata": {},
     "output_type": "execute_result"
    }
   ],
   "source": [
    "dict(pyro.get_param_store())"
   ]
  },
  {
   "cell_type": "markdown",
   "metadata": {},
   "source": [
    "Now we can use the fitted guide to sample from the predictive distribution, `pyro` has a function to do that:"
   ]
  },
  {
   "cell_type": "code",
   "execution_count": 12,
   "metadata": {},
   "outputs": [
    {
     "data": {
      "text/plain": [
       "dict_keys(['coefficient', 'bias', 'noise', 'y'])"
      ]
     },
     "execution_count": 12,
     "metadata": {},
     "output_type": "execute_result"
    }
   ],
   "source": [
    "from pyro.infer import Predictive\n",
    "\n",
    "predictive = Predictive(model=model, guide=guide, num_samples=1_000)\n",
    "\n",
    "# Let's use as input some equidistant points in the range of the data\n",
    "x_linspace = torch.linspace(-4, 4, 20)\n",
    "\n",
    "mf_pred = predictive(x_linspace)\n",
    "mf_pred.keys()"
   ]
  },
  {
   "cell_type": "markdown",
   "metadata": {},
   "source": [
    "So we can obtain both samples from the posterior (of the latent variables) and samples from the predictive"
   ]
  },
  {
   "cell_type": "code",
   "execution_count": 26,
   "metadata": {},
   "outputs": [
    {
     "data": {
      "text/plain": [
       "array([0.19947685], dtype=float32)"
      ]
     },
     "execution_count": 26,
     "metadata": {},
     "output_type": "execute_result"
    }
   ],
   "source": [
    "# mf_pred\n",
    "coefficient_pred = mf_pred['coefficient'].detach().numpy()\n",
    "\n",
    "coefficient_mean = coefficient_pred.mean(axis=0)\n",
    "coefficient_std = coefficient_pred.std(axis=0)  \n",
    "coefficient_mean\n",
    "coefficient_std"
   ]
  },
  {
   "cell_type": "markdown",
   "metadata": {},
   "source": [
    "Let's use the simulations to plot theregression line and the confidence interval:"
   ]
  },
  {
   "cell_type": "code",
   "execution_count": 23,
   "metadata": {},
   "outputs": [
    {
     "data": {
      "image/png": "[encoded data removed]",
      "text/plain": [
       "<Figure size 1000x500 with 1 Axes>"
      ]
     },
     "metadata": {},
     "output_type": "display_data"
    }
   ],
   "source": [
    "y_pred = mf_pred['y'].detach().numpy()\n",
    "\n",
    "y_mean = y_pred.mean(axis=0)\n",
    "y_std = y_pred.std(0)\n",
    "\n",
    "# Compute confidence interval bounds\n",
    "ci_upper = y_mean + 1.96 * y_std\n",
    "ci_lower = y_mean - 1.96 * y_std\n",
    "\n",
    "# Plot mean and confidence interval\n",
    "plt.figure(figsize=(10, 5))\n",
    "plt.plot(x_linspace, y_mean, color='blue', label='Mean prediction', alpha = 0.9)\n",
    "plt.fill_between(x_linspace, ci_lower, ci_upper, color='blue', alpha=0.3, label='95% CI')\n",
    "plt.scatter(df['x'], df['y'], color='red', label='Data', alpha = 0.8, zorder=2)\n",
    "plt.legend()\n",
    "plt.xlabel('x')\n",
    "plt.ylabel('y')\n",
    "plt.title('Mean field guide')\n",
    "plt.show()"
   ]
  },
  {
   "cell_type": "markdown",
   "metadata": {},
   "source": [
    "#### Auto Guides\n",
    "\n",
    "There is also the possibility to avoid specifying the guide manually, and just use a \"standard\" guide, for example a diagonal normal or a multivariate normal. Pyro is able to recognize the latent variables of a model and build one of these standard guides.\n",
    "\n",
    "In this case let's increase the complexity of the guide using a multivariate normal (so allowing correlations among latent variables): "
   ]
  },
  {
   "cell_type": "code",
   "execution_count": 12,
   "metadata": {},
   "outputs": [
    {
     "data": {
      "application/vnd.jupyter.widget-view+json": {
       "model_id": "c29291adc19748af931c9af6976ba12c",
       "version_major": 2,
       "version_minor": 0
      },
      "text/plain": [
       "  0%|          | 0/400 [00:00<?, ?it/s]"
      ]
     },
     "metadata": {},
     "output_type": "display_data"
    },
    {
     "name": "stdout",
     "output_type": "stream",
     "text": [
      "Elbo loss: 92.96475052833557\n"
     ]
    },
    {
     "data": {
      "image/png": "[encoded data removed]",
      "text/plain": [
       "<Figure size 640x480 with 1 Axes>"
      ]
     },
     "metadata": {},
     "output_type": "display_data"
    }
   ],
   "source": [
    "from pyro.infer.autoguide import AutoMultivariateNormal\n",
    "\n",
    "pyro.clear_param_store()\n",
    "\n",
    "# Building the guide automatically \n",
    "auto_guide = AutoMultivariateNormal(model)\n",
    "\n",
    "NUM_PARTICLES = 2\n",
    "STEPS = 400\n",
    "AutoMultivariateNormal\n",
    "svi = SVI(model=model,\n",
    "          guide=auto_guide,\n",
    "          optim=ClippedAdam({'lr': 0.1}),\n",
    "          loss=Trace_ELBO(num_particles=NUM_PARTICLES))\n",
    "\n",
    "loss = np.zeros(STEPS)\n",
    "for i in tqdm(range(STEPS)):        \n",
    "    loss[i] = svi.step(x, y)\n",
    "print(f\"Elbo loss: {loss[-1]}\")\n",
    "_ = plt.plot(loss)"
   ]
  },
  {
   "cell_type": "code",
   "execution_count": 13,
   "metadata": {},
   "outputs": [
    {
     "data": {
      "text/plain": [
       "{'AutoMultivariateNormal.loc': Parameter containing:\n",
       " tensor([-20.7355,   0.0554,  -1.4783], requires_grad=True),\n",
       " 'AutoMultivariateNormal.scale': tensor([12.5449,  4.4069,  0.2790], grad_fn=<SoftplusBackward0>),\n",
       " 'AutoMultivariateNormal.scale_tril': tensor([[ 1.0000,  0.0000,  0.0000],\n",
       "         [-0.0465,  1.0000,  0.0000],\n",
       "         [-2.5136,  0.2617,  1.0000]], grad_fn=<AddBackward0>)}"
      ]
     },
     "execution_count": 13,
     "metadata": {},
     "output_type": "execute_result"
    }
   ],
   "source": [
    "dict(pyro.get_param_store())"
   ]
  },
  {
   "cell_type": "markdown",
   "metadata": {},
   "source": [
    "You can see that now you have also a covariance over the latent variables.\n",
    "\n",
    "Unfortunately there are no names, so you have to follow the order you defined the latent variables.\n",
    "\n",
    "Again, let's make a plot of the predictions:"
   ]
  },
  {
   "cell_type": "code",
   "execution_count": 14,
   "metadata": {},
   "outputs": [
    {
     "data": {
      "image/png": "[encoded data removed]",
      "text/plain": [
       "<Figure size 1000x500 with 1 Axes>"
      ]
     },
     "metadata": {},
     "output_type": "display_data"
    }
   ],
   "source": [
    "predictive = Predictive(model=model, guide=auto_guide, num_samples=1_000)\n",
    "\n",
    "x_linspace = torch.linspace(-4, 4, 20)\n",
    "pred = predictive(x_linspace)\n",
    "y_pred = pred['y'].detach().numpy()\n",
    "\n",
    "y_mean = y_pred.mean(axis=0)\n",
    "y_std = y_pred.std(0)\n",
    "\n",
    "# Compute confidence interval bounds\n",
    "ci_upper = y_mean + 1.96 * y_std\n",
    "ci_lower = y_mean - 1.96 * y_std\n",
    "\n",
    "# Plot mean and confidence interval\n",
    "plt.figure(figsize=(10, 5))\n",
    "plt.plot(x_linspace, y_mean, color='blue', label='Mean prediction', alpha = 0.9)\n",
    "plt.fill_between(x_linspace, ci_lower, ci_upper, color='blue', alpha=0.3, label='95% CI')\n",
    "plt.scatter(df['x'], df['y'], color='red', label='Data', alpha = 0.8, zorder=2)\n",
    "plt.legend()\n",
    "plt.xlabel('x')\n",
    "plt.ylabel('y')\n",
    "plt.title('MultivariateNormal guide')\n",
    "plt.show()"
   ]
  },
  {
   "cell_type": "code",
   "execution_count": null,
   "metadata": {},
   "outputs": [],
   "source": []
  },
  {
   "cell_type": "code",
   "execution_count": null,
   "metadata": {},
   "outputs": [],
   "source": []
  },
  {
   "cell_type": "code",
   "execution_count": null,
   "metadata": {},
   "outputs": [],
   "source": []
  },
  {
   "cell_type": "code",
   "execution_count": null,
   "metadata": {},
   "outputs": [],
   "source": []
  },
  {
   "cell_type": "code",
   "execution_count": null,
   "metadata": {},
   "outputs": [],
   "source": []
  }
 ],
 "metadata": {
  "kernelspec": {
   "display_name": "Python 3",
   "language": "python",
   "name": "python3"
  },
  "language_info": {
   "codemirror_mode": {
    "name": "ipython",
    "version": 3
   },
   "file_extension": ".py",
   "mimetype": "text/x-python",
   "name": "python",
   "nbconvert_exporter": "python",
   "pygments_lexer": "ipython3",
   "version": "3.12.6"
  }
 },
 "nbformat": 4,
 "nbformat_minor": 4
}
