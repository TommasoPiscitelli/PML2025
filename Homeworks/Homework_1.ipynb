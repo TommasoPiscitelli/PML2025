{
 "cells": [
  {
   "cell_type": "markdown",
   "id": "ccbc2313",
   "metadata": {},
   "source": [
    "<a href=\"https://colab.research.google.com/github/r-doz/PML2025/blob/main/./Homeworks/Homework_1.ipynb\" target=\"_parent\"><img src=\"https://colab.research.google.com/assets/colab-badge.svg\" alt=\"Open In Colab\"/></a>"
   ]
  },
  {
   "cell_type": "markdown",
   "metadata": {},
   "source": [
    "## Homework 1\n",
    "\n",
    "Probabilistic Machine Learning -- Spring 2025, UniTS"
   ]
  },
  {
   "cell_type": "markdown",
   "metadata": {},
   "source": [
    "### Exercise 1: KL Divergence Between Two Gaussian Distributions\n",
    "\n",
    "Given two multivariate Gaussian distributions:\n",
    "\n",
    "$$\n",
    "p(x) = \\mathcal{N}(x \\mid \\mu, \\Sigma)\n",
    "$$\n",
    "\n",
    "$$\n",
    "q(x) = \\mathcal{N}(x \\mid m, L)\n",
    "$$\n",
    "\n",
    "where:\n",
    "- $\\mu$ and $ \\Sigma $ are the mean vector and covariance matrix of $ p(x) $,\n",
    "- $ m $ and $ L $ are the mean vector and covariance matrix of $ q(x) $,\n",
    "\n",
    "\n",
    "1. **Derive the closed-form expression** for $D_{\\text{KL}}(p \\parallel q)$ starting from the definition.\n",
    "\n",
    "2. **Implement a Python function** that computes the closed-form expression of the KL divergence for two-dimensional Gaussian distributions using only **numpy** functions.\n",
    "\n",
    "3. **Test the function** on the following concrete example where both $ p(x) $ and $q(x)$ are two-dimensional Gaussians. \n",
    "\n",
    "4. Implement another Python function which calculates an **approximation of $D_{\\text{KL}}(p \\parallel q)$ from samples** of p and q. Compare the results. \n"
   ]
  },
  {
   "cell_type": "markdown",
   "metadata": {},
   "source": [
    "### SOLUTION:\n",
    "\n",
    "The KL divergence for a continuous random variable is given by\n",
    "$$\n",
    "\\mathrm{KL}[P\\,||\\,Q] = \\int_{\\mathcal{X}} p(x) \\, \\ln \\frac{p(x)}{q(x)} \\, \\mathrm{d}x\n",
    "$$\n",
    "which, applied to the multivariate normal distributions, yields\n",
    "$$\n",
    "\\begin{split}\n",
    "\\mathrm{KL}[P\\,||\\,Q] &= \\int_{\\mathbb{R}^n} \\mathcal{N}(x \\mid \\mu, \\Sigma) \\, \\ln \\frac{\\mathcal{N}(x \\mid \\mu, \\Sigma)}{\\mathcal{N}(x \\mid m, L)} \\, \\mathrm{d}x \\\\\n",
    "&= \\left\\langle \\ln \\frac{\\mathcal{N}(x | \\mu, \\Sigma)}{\\mathcal{N}(x | m, L)} \\right\\rangle_{p(x)} \\; .\n",
    "\\end{split}\n",
    "$$\n",
    "Using the probability density function of the multivariate normal distribution, this becomes:\n",
    "\n",
    "$$\n",
    "\\begin{split}\n",
    "\\mathrm{KL}[P\\,||\\,Q] &= \\left\\langle \\ln \\frac{ \\frac{1}{\\sqrt{(2 \\pi)^n |\\Sigma|}} \\cdot \\exp \\left[ -\\frac{1}{2} (x-\\mu)^\\mathrm{T} \\Sigma^{-1} (x-\\mu) \\right] }{ \\frac{1}{\\sqrt{(2 \\pi)^n |L|}} \\cdot \\exp \\left[ -\\frac{1}{2} (x-m)^\\mathrm{T} L^{-1} (x-m) \\right] } \\right\\rangle_{p(x)} \\\\\n",
    "&= \\left\\langle \\frac{1}{2} \\ln \\frac{|L|}{|\\Sigma|} - \\frac{1}{2} (x-\\mu)^\\mathrm{T} \\Sigma^{-1} (x-\\mu) + \\frac{1}{2} (x-m)^\\mathrm{T} L^{-1} (x-m) \\right\\rangle_{p(x)} \\\\\n",
    "&= \\frac{1}{2} \\left\\langle \\ln \\frac{|L|}{|\\Sigma|} - (x-\\mu)^\\mathrm{T} \\Sigma^{-1} (x-\\mu) + (x-m)^\\mathrm{T} L^{-1} (x-m) \\right\\rangle_{p(x)} \\; .\n",
    "\\end{split}\n",
    "$$\n",
    "\n",
    "Now, using the fact that $x= tr(x)$, if $a$ is scala, and the trace property $ tr(ABC) = tr(BCA) $ we have:\n",
    "\n",
    " $$\n",
    " \\begin{split}\n",
    "\\mathrm{KL}[P\\,||\\,Q] &= \\frac{1}{2} \\left\\langle \\ln \\frac{|L|}{|\\Sigma|} - \\mathrm{tr}\\left[ \\Sigma^{-1} (x-\\mu) (x-\\mu)^\\mathrm{T} \\right] + \\mathrm{tr}\\left[ L^{-1} (x-m) (x-m)^\\mathrm{T} \\right] \\right\\rangle_{p(x)} \\\\\n",
    "&= \\frac{1}{2} \\left\\langle \\ln \\frac{|L|}{|\\Sigma|} - \\mathrm{tr}\\left[ \\Sigma^{-1} (x-\\mu) (x-\\mu)^\\mathrm{T} \\right] + \\mathrm{tr}\\left[ L^{-1} \\left( x x^\\mathrm{T} - 2 m x^\\mathrm{T} + m m^\\mathrm{T} \\right) \\right] \\right\\rangle_{p(x)} \\; .\n",
    "\\end{split}\n",
    "$$\n",
    "\n",
    "Because trace function and expected value are both linear operators, the expectation can be moved inside the trace:\n",
    "\n",
    "$$\n",
    "\\begin{split}\n",
    "\\mathrm{KL}[P\\,||\\,Q] &= \\frac{1}{2} \\left( \\ln \\frac{|L|}{|\\Sigma|} - \\mathrm{tr}\\left[ \\Sigma^{-1} \\left\\langle (x-\\mu) (x-\\mu)^\\mathrm{T} \\right\\rangle_{p(x)} \\right] + \\mathrm{tr}\\left[ L^{-1} \\left\\langle x x^\\mathrm{T} - 2 m x^\\mathrm{T} + m m^\\mathrm{T} \\right\\rangle_{p(x)} \\right] \\right) \\\\\n",
    "&= \\frac{1}{2} \\left( \\ln \\frac{|L|}{|\\Sigma|} - \\mathrm{tr}\\left[ \\Sigma^{-1} \\left\\langle (x-\\mu) (x-\\mu)^\\mathrm{T} \\right\\rangle_{p(x)} \\right] + \\mathrm{tr}\\left[ L^{-1} \\left( \\left\\langle x x^\\mathrm{T} \\right\\rangle_{p(x)} - \\left\\langle 2 m x^\\mathrm{T} \\right\\rangle_{p(x)} + \\left\\langle m m^\\mathrm{T} \\right\\rangle_{p(x)} \\right) \\right] \\right) \\; .\n",
    "\\end{split}\n",
    "$$\n",
    "\n",
    "Using the expectation of a linear form for the multivariate normal distribution\n",
    "\n",
    "$$ \n",
    "x \\sim \\mathcal{N}(\\mu, \\Sigma) \\quad \\Rightarrow \\quad \\left\\langle A x \\right\\rangle = A \\mu\n",
    "$$\n",
    "\n",
    "and the expectation of a quadratic form for the multivariate normal distribution\n",
    "\n",
    "$$\n",
    "x \\sim \\mathcal{N}(\\mu, \\Sigma) \\quad \\Rightarrow \\quad \\left\\langle x^\\mathrm{T} A x \\right\\rangle = \\mu^\\mathrm{T} A \\mu + \\mathrm{tr}(A \\Sigma) \\; ,\n",
    "$$\n",
    "\n",
    "the Kullback-Leibler divergence from \n",
    "(7)\n",
    " becomes:\n",
    "\n",
    " $$\n",
    " \\begin{split}\n",
    "\\mathrm{KL}[P\\,||\\,Q] &= \\frac{1}{2} \\left( \\ln \\frac{|L|}{|\\Sigma|} - \\mathrm{tr}\\left[ \\Sigma^{-1} \\Sigma \\right] + \\mathrm{tr}\\left[ L^{-1} \\left( \\Sigma + \\mu \\mu^\\mathrm{T} - 2 m \\mu^\\mathrm{T} + m m^\\mathrm{T} \\right) \\right] \\right) \\\\\n",
    "&= \\frac{1}{2} \\left( \\ln \\frac{|L|}{|\\Sigma|} - \\mathrm{tr}\\left[ I_n \\right] + \\mathrm{tr}\\left[ L^{-1} \\Sigma \\right] + \\mathrm{tr}\\left[ L^{-1} \\left( \\mu \\mu^\\mathrm{T} - 2 m \\mu^\\mathrm{T} + m m^\\mathrm{T} \\right) \\right] \\right) \\\\\n",
    "&= \\frac{1}{2} \\left( \\ln \\frac{|L|}{|\\Sigma|} - n + \\mathrm{tr}\\left[ L^{-1} \\Sigma \\right] + \\mathrm{tr}\\left[ \\mu^\\mathrm{T} L^{-1} \\mu  - 2 \\mu^\\mathrm{T} L^{-1} m  + m^\\mathrm{T} L^{-1} m \\right] \\right) \\\\\n",
    "&= \\frac{1}{2} \\left[ \\ln \\frac{|L|}{|\\Sigma|} - n + \\mathrm{tr}\\left[ L^{-1} \\Sigma \\right] + (m - \\mu)^\\mathrm{T} L^{-1} (m - \\mu) \\right] \\; .\n",
    "\\end{split}\n",
    "$$\n",
    "\n",
    "Finally, rearranging the terms, we get:\n",
    "\n",
    "$$\n",
    "\\mathrm{KL}[P\\,||\\,Q] = \\frac{1}{2} \\left[ (m - \\mu)^\\mathrm{T} L^{-1} (m - \\mu) + \\mathrm{tr}(L^{-1} \\Sigma) - \\ln \\frac{|\\Sigma|}{|L|} - n \\right] \\; .\n",
    "$$"
   ]
  },
  {
   "cell_type": "code",
   "execution_count": null,
   "metadata": {},
   "outputs": [],
   "source": [
    "import numpy as np\n",
    "import matplotlib.pyplot as plt"
   ]
  },
  {
   "cell_type": "code",
   "execution_count": null,
   "metadata": {},
   "outputs": [],
   "source": [
    "def kl_mvn(m0, S0, m1, S1):\n",
    "    # store inv diag covariance of S1 and diff between means\n",
    "    N = m0.shape[0]\n",
    "    iS1 = np.linalg.inv(S1)\n",
    "    diff = m1 - m0\n",
    "\n",
    "    # kl is made of three terms\n",
    "    tr_term   = np.trace(iS1 @ S0)\n",
    "    det_term  = np.log(np.linalg.det(S1)/np.linalg.det(S0)) #np.sum(np.log(S1)) - np.sum(np.log(S0))\n",
    "    quad_term = diff.T @ np.linalg.inv(S1) @ diff #np.sum( (diff*diff) * iS1, axis=1)\n",
    "    #print(tr_term,det_term,quad_term)\n",
    "    return .5 * (tr_term + det_term + quad_term - N) "
   ]
  },
  {
   "cell_type": "code",
   "execution_count": null,
   "metadata": {},
   "outputs": [],
   "source": [
    "np.random.seed(42)\n",
    "\n",
    "mu_p = np.array([10, 12])  \n",
    "sigma_p = np.array([[3, 0.5], [0.5, 2]]) \n",
    "mu_q = np.array([14, 10]) \n",
    "sigma_q = np.array([[2, 0.3], [0.3, 1]])  \n",
    "\n",
    "print(kl_mvn(mu_p, sigma_p, mu_q, sigma_q)) # KL divergence from p to q\n",
    "\n",
    "data_points = 1000\n",
    "\n",
    "p_samples = np.random.multivariate_normal(mu_p, sigma_p, data_points)\n",
    "q_samples = np.random.multivariate_normal(mu_q, sigma_q, data_points)\n",
    "\n",
    "def kl_mvn_sample(p_samples, q_samples):\n",
    "    # store inv diag covariance of S1 and diff between means\n",
    "    mean_p = np.mean(p_samples, axis=0)\n",
    "    mean_q = np.mean(q_samples, axis=0)\n",
    "    cov_p = np.cov(p_samples, rowvar=False)\n",
    "    cov_q = np.cov(q_samples, rowvar=False)\n",
    "    N = mean_p.shape[0]\n",
    "    icov_q = np.linalg.inv(cov_q)\n",
    "    diff = mean_p - mean_q\n",
    "\n",
    "    # kl is made of three terms\n",
    "    tr_term   = np.trace(icov_q @ cov_p)\n",
    "    det_term  = np.log(np.linalg.det(cov_q)/np.linalg.det(cov_p)) #np.sum(np.log(S1)) - np.sum(np.log(S0))\n",
    "    quad_term = diff.T @ np.linalg.inv(cov_q) @ diff #np.sum( (diff*diff) * iS1, axis=1)\n",
    "    #print(tr_term,det_term,quad_term)\n",
    "    return .5 * (tr_term + det_term + quad_term - N) \n",
    "\n",
    "\n",
    "print(kl_mvn_sample(p_samples, q_samples)) # KL divergence from p to q\n",
    "\n",
    "# p, q samples visualization\n",
    "plt.figure(figsize=(8, 6))\n",
    "plt.scatter(p_samples[:, 0], p_samples[:, 1], alpha=0.5, label='p(x)', color='blue')\n",
    "plt.scatter(q_samples[:, 0], q_samples[:, 1], alpha=0.5, label='q(x)', color='red')\n",
    "plt.title('Samples drawn from two multivariate Gaussians')\n",
    "plt.xlabel('x')\n",
    "plt.ylabel('y')\n",
    "plt.legend()\n",
    "plt.grid(True)\n",
    "plt.show()"
   ]
  },
  {
   "cell_type": "markdown",
   "metadata": {},
   "source": [
    "### Exercise 2: Entropy of nonsingular linear transformations \n",
    "\n",
    "Consider a vector $x$ of continuous variables with distribution $p(\\mathbf{x})$ and corresponding entropy $H[\\mathbf{x}]$. Suppose that we make a nonsingular linear transformation of $x$ to obtain a new variable $y = Ax$. Show that the corresponding entropy is given by\n",
    "\n",
    "$$\n",
    "H[\\mathbf{y}] = H[\\mathbf{x}] + \\ln |\\mathbf{A}|\n",
    "$$\n",
    "\n",
    "where $|\\mathbf{A}|$ denotes the determinant of $A$.\n"
   ]
  },
  {
   "cell_type": "markdown",
   "metadata": {},
   "source": [
    "### Exercise 3: A good reason to go to university\n",
    "\n",
    "You enrolled to a small tennis tournament organized by your university, that has only other three participants: let's call them $A$, $B$ and $C$.\n",
    "Your first match will be against $A$, and it's scheduled after the match between $A$ and $B$ and the match between $B$ and $C$.\n",
    "\n",
    "Assuming the result of a match $M \\in \\{0,1\\}$ between two players $X$ and $Y$ ($M=1$ means $X$ won, $M=0$ means $Y$ won) is described by the following model:\n",
    "\n",
    "$$M \\sim Bern(p)$$\n",
    "\n",
    "where $p = f(2(S_x - S_y))$ with $f(k) = \\frac{1}{1 + e^{-k}}$ and\n",
    "\n",
    "$$S_i \\sim \\mathcal{N}(0,1)$$\n",
    "\n",
    "is the \"latent\" skill of player $i$ (always the same for every match that player $i$ plays)\n",
    "\n",
    "1. Show a bayesian network describing the relationship between all the involved random variables.\n",
    "\n",
    "2. Make a model in pyro describing the stochastic process.\n",
    "\n",
    "3. Estimate by simulation the probability of (you) winninng against $A$, given that $A$ won against $B$ and $B$ won against $C$. Use exactly 30000 samples and call `set_seed()` before sampling.\n"
   ]
  },
  {
   "cell_type": "code",
   "execution_count": 39,
   "metadata": {},
   "outputs": [
    {
     "name": "stdout",
     "output_type": "stream",
     "text": [
      "Random Python: 0.5714025946899135\n",
      "Random NumPy: 0.771320643266746\n",
      "Random PyTorch: tensor([0.4581, 0.4829, 0.3125, 0.6150])\n"
     ]
    }
   ],
   "source": [
    "import pyro\n",
    "import pyro.distributions as dist\n",
    "import random\n",
    "import pandas as pd\n",
    "import numpy as np\n",
    "import torch\n",
    "    \n",
    "def set_seed():\n",
    "    seed = 10\n",
    "    random.seed(seed)\n",
    "    np.random.seed(seed)\n",
    "    torch.manual_seed(seed)\n",
    "\n",
    "set_seed()\n",
    "\n",
    "print(\"Random Python:\", random.random())\n",
    "print(\"Random NumPy:\", np.random.rand())\n",
    "print(\"Random PyTorch:\", torch.rand(4))"
   ]
  },
  {
   "cell_type": "code",
   "execution_count": 49,
   "metadata": {},
   "outputs": [
    {
     "data": {
      "image/svg+xml": [
       "<?xml version=\"1.0\" encoding=\"UTF-8\" standalone=\"no\"?>\n",
       "<!DOCTYPE svg PUBLIC \"-//W3C//DTD SVG 1.1//EN\"\n",
       " \"http://www.w3.org/Graphics/SVG/1.1/DTD/svg11.dtd\">\n",
       "<!-- Generated by graphviz version 12.2.1 (20241206.2353)\n",
       " -->\n",
       "<!-- Pages: 1 -->\n",
       "<svg width=\"336pt\" height=\"116pt\"\n",
       " viewBox=\"0.00 0.00 336.07 116.00\" xmlns=\"http://www.w3.org/2000/svg\" xmlns:xlink=\"http://www.w3.org/1999/xlink\">\n",
       "<g id=\"graph0\" class=\"graph\" transform=\"scale(1 1) rotate(0) translate(4 112)\">\n",
       "<polygon fill=\"white\" stroke=\"none\" points=\"-4,4 -4,-112 332.07,-112 332.07,4 -4,4\"/>\n",
       "<!-- skill A -->\n",
       "<g id=\"node1\" class=\"node\">\n",
       "<title>skill A</title>\n",
       "<ellipse fill=\"white\" stroke=\"black\" cx=\"74.28\" cy=\"-90\" rx=\"35.49\" ry=\"18\"/>\n",
       "<text text-anchor=\"middle\" x=\"74.28\" y=\"-84.95\" font-family=\"Times New Roman,serif\" font-size=\"14.00\">skill A</text>\n",
       "</g>\n",
       "<!-- match AB -->\n",
       "<g id=\"node4\" class=\"node\">\n",
       "<title>match AB</title>\n",
       "<ellipse fill=\"white\" stroke=\"black\" cx=\"163.28\" cy=\"-18\" rx=\"48.79\" ry=\"18\"/>\n",
       "<text text-anchor=\"middle\" x=\"163.28\" y=\"-12.95\" font-family=\"Times New Roman,serif\" font-size=\"14.00\">match AB</text>\n",
       "</g>\n",
       "<!-- skill A&#45;&gt;match AB -->\n",
       "<g id=\"edge1\" class=\"edge\">\n",
       "<title>skill A&#45;&gt;match AB</title>\n",
       "<path fill=\"none\" stroke=\"black\" d=\"M92.72,-74.5C104.72,-65.06 120.62,-52.56 134.28,-41.81\"/>\n",
       "<polygon fill=\"black\" stroke=\"black\" points=\"136.43,-44.57 142.13,-35.64 132.1,-39.07 136.43,-44.57\"/>\n",
       "</g>\n",
       "<!-- match YA -->\n",
       "<g id=\"node6\" class=\"node\">\n",
       "<title>match YA</title>\n",
       "<ellipse fill=\"white\" stroke=\"black\" cx=\"48.28\" cy=\"-18\" rx=\"48.28\" ry=\"18\"/>\n",
       "<text text-anchor=\"middle\" x=\"48.28\" y=\"-12.95\" font-family=\"Times New Roman,serif\" font-size=\"14.00\">match YA</text>\n",
       "</g>\n",
       "<!-- skill A&#45;&gt;match YA -->\n",
       "<g id=\"edge5\" class=\"edge\">\n",
       "<title>skill A&#45;&gt;match YA</title>\n",
       "<path fill=\"none\" stroke=\"black\" d=\"M67.99,-72.05C65.19,-64.52 61.81,-55.44 58.66,-46.94\"/>\n",
       "<polygon fill=\"black\" stroke=\"black\" points=\"61.99,-45.85 55.22,-37.69 55.43,-48.29 61.99,-45.85\"/>\n",
       "</g>\n",
       "<!-- skill B -->\n",
       "<g id=\"node2\" class=\"node\">\n",
       "<title>skill B</title>\n",
       "<ellipse fill=\"white\" stroke=\"black\" cx=\"176.28\" cy=\"-90\" rx=\"35.49\" ry=\"18\"/>\n",
       "<text text-anchor=\"middle\" x=\"176.28\" y=\"-84.95\" font-family=\"Times New Roman,serif\" font-size=\"14.00\">skill B</text>\n",
       "</g>\n",
       "<!-- skill B&#45;&gt;match AB -->\n",
       "<g id=\"edge2\" class=\"edge\">\n",
       "<title>skill B&#45;&gt;match AB</title>\n",
       "<path fill=\"none\" stroke=\"black\" d=\"M173.07,-71.7C171.7,-64.32 170.06,-55.52 168.53,-47.25\"/>\n",
       "<polygon fill=\"black\" stroke=\"black\" points=\"172,-46.79 166.73,-37.59 165.12,-48.06 172,-46.79\"/>\n",
       "</g>\n",
       "<!-- match BC -->\n",
       "<g id=\"node5\" class=\"node\">\n",
       "<title>match BC</title>\n",
       "<ellipse fill=\"white\" stroke=\"black\" cx=\"279.28\" cy=\"-18\" rx=\"48.79\" ry=\"18\"/>\n",
       "<text text-anchor=\"middle\" x=\"279.28\" y=\"-12.95\" font-family=\"Times New Roman,serif\" font-size=\"14.00\">match BC</text>\n",
       "</g>\n",
       "<!-- skill B&#45;&gt;match BC -->\n",
       "<g id=\"edge3\" class=\"edge\">\n",
       "<title>skill B&#45;&gt;match BC</title>\n",
       "<path fill=\"none\" stroke=\"black\" d=\"M196.63,-75.17C211.14,-65.31 230.93,-51.86 247.5,-40.6\"/>\n",
       "<polygon fill=\"black\" stroke=\"black\" points=\"249.27,-43.63 255.58,-35.11 245.34,-37.84 249.27,-43.63\"/>\n",
       "</g>\n",
       "<!-- skill C -->\n",
       "<g id=\"node3\" class=\"node\">\n",
       "<title>skill C</title>\n",
       "<ellipse fill=\"white\" stroke=\"black\" cx=\"279.28\" cy=\"-90\" rx=\"35.49\" ry=\"18\"/>\n",
       "<text text-anchor=\"middle\" x=\"279.28\" y=\"-84.95\" font-family=\"Times New Roman,serif\" font-size=\"14.00\">skill C</text>\n",
       "</g>\n",
       "<!-- skill C&#45;&gt;match BC -->\n",
       "<g id=\"edge4\" class=\"edge\">\n",
       "<title>skill C&#45;&gt;match BC</title>\n",
       "<path fill=\"none\" stroke=\"black\" d=\"M279.28,-71.7C279.28,-64.41 279.28,-55.73 279.28,-47.54\"/>\n",
       "<polygon fill=\"black\" stroke=\"black\" points=\"282.78,-47.62 279.28,-37.62 275.78,-47.62 282.78,-47.62\"/>\n",
       "</g>\n",
       "</g>\n",
       "</svg>\n"
      ],
      "text/plain": [
       "<graphviz.graphs.Digraph at 0x27cc4bea900>"
      ]
     },
     "execution_count": 49,
     "metadata": {},
     "output_type": "execute_result"
    }
   ],
   "source": [
    "def model(n: int = 1):\n",
    "    \n",
    "    S_A = pyro.sample(\"skill A\", dist.Normal(0, 1), sample_shape=(n,))\n",
    "    S_B = pyro.sample(\"skill B\", dist.Normal(0, 1), sample_shape=(n,))\n",
    "    S_C = pyro.sample(\"skill C\", dist.Normal(0,1), sample_shape=(n,))\n",
    "\n",
    "    S_Y = 0.4\n",
    "    \n",
    "    p_AB = 1 / (1 + torch.exp(-2 * (S_A - S_B)))\n",
    "    p_BC = 1 / (1 + torch.exp(-2 * (S_B - S_C)))\n",
    "    p_YA = 1 / (1 + torch.exp(-2 * (S_Y - S_A)))\n",
    "    \n",
    "    Match_AB = pyro.sample(\"match AB\", dist.Bernoulli(p_AB))\n",
    "    Match_BC = pyro.sample(\"match BC\", dist.Bernoulli(p_BC))\n",
    "    Match_YA = pyro.sample(\"match YA\", dist.Bernoulli(p_YA))\n",
    "\n",
    "    return {'Match AB': Match_AB, 'Match_BC': Match_BC, 'Match_YA': Match_YA}\n",
    "\n",
    "# 2: plot the corersponding graphical model\n",
    "pyro.render_model(model)"
   ]
  },
  {
   "cell_type": "code",
   "execution_count": 50,
   "metadata": {},
   "outputs": [
    {
     "data": {
      "application/vnd.microsoft.datawrangler.viewer.v0+json": {
       "columns": [
        {
         "name": "index",
         "rawType": "int64",
         "type": "integer"
        },
        {
         "name": "Match AB",
         "rawType": "float32",
         "type": "float"
        },
        {
         "name": "Match_BC",
         "rawType": "float32",
         "type": "float"
        },
        {
         "name": "Match_YA",
         "rawType": "float32",
         "type": "float"
        }
       ],
       "conversionMethod": "pd.DataFrame",
       "ref": "8bf3d97f-e216-4a0e-a5d6-b2ac9e668245",
       "rows": [
        [
         "0",
         "0.0",
         "1.0",
         "0.0"
        ],
        [
         "1",
         "1.0",
         "0.0",
         "1.0"
        ],
        [
         "2",
         "0.0",
         "0.0",
         "1.0"
        ],
        [
         "3",
         "1.0",
         "0.0",
         "0.0"
        ],
        [
         "4",
         "1.0",
         "0.0",
         "0.0"
        ],
        [
         "5",
         "0.0",
         "1.0",
         "0.0"
        ],
        [
         "6",
         "0.0",
         "1.0",
         "0.0"
        ],
        [
         "7",
         "0.0",
         "1.0",
         "0.0"
        ],
        [
         "8",
         "0.0",
         "1.0",
         "0.0"
        ],
        [
         "9",
         "1.0",
         "1.0",
         "0.0"
        ],
        [
         "10",
         "0.0",
         "1.0",
         "0.0"
        ],
        [
         "11",
         "0.0",
         "0.0",
         "1.0"
        ],
        [
         "12",
         "0.0",
         "1.0",
         "1.0"
        ],
        [
         "13",
         "0.0",
         "0.0",
         "1.0"
        ],
        [
         "14",
         "0.0",
         "1.0",
         "0.0"
        ],
        [
         "15",
         "1.0",
         "1.0",
         "1.0"
        ],
        [
         "16",
         "1.0",
         "0.0",
         "1.0"
        ],
        [
         "17",
         "1.0",
         "0.0",
         "0.0"
        ],
        [
         "18",
         "1.0",
         "0.0",
         "0.0"
        ],
        [
         "19",
         "0.0",
         "1.0",
         "1.0"
        ],
        [
         "20",
         "1.0",
         "0.0",
         "0.0"
        ],
        [
         "21",
         "0.0",
         "0.0",
         "1.0"
        ],
        [
         "22",
         "1.0",
         "0.0",
         "0.0"
        ],
        [
         "23",
         "1.0",
         "1.0",
         "0.0"
        ],
        [
         "24",
         "0.0",
         "1.0",
         "1.0"
        ],
        [
         "25",
         "1.0",
         "0.0",
         "0.0"
        ],
        [
         "26",
         "1.0",
         "1.0",
         "1.0"
        ],
        [
         "27",
         "1.0",
         "0.0",
         "1.0"
        ],
        [
         "28",
         "0.0",
         "0.0",
         "1.0"
        ],
        [
         "29",
         "0.0",
         "1.0",
         "1.0"
        ],
        [
         "30",
         "1.0",
         "0.0",
         "1.0"
        ],
        [
         "31",
         "1.0",
         "0.0",
         "1.0"
        ],
        [
         "32",
         "0.0",
         "1.0",
         "0.0"
        ],
        [
         "33",
         "0.0",
         "0.0",
         "1.0"
        ],
        [
         "34",
         "0.0",
         "1.0",
         "0.0"
        ],
        [
         "35",
         "1.0",
         "1.0",
         "0.0"
        ],
        [
         "36",
         "0.0",
         "0.0",
         "1.0"
        ],
        [
         "37",
         "0.0",
         "1.0",
         "1.0"
        ],
        [
         "38",
         "1.0",
         "0.0",
         "0.0"
        ],
        [
         "39",
         "1.0",
         "0.0",
         "0.0"
        ],
        [
         "40",
         "1.0",
         "1.0",
         "0.0"
        ],
        [
         "41",
         "1.0",
         "1.0",
         "0.0"
        ],
        [
         "42",
         "0.0",
         "1.0",
         "1.0"
        ],
        [
         "43",
         "0.0",
         "1.0",
         "0.0"
        ],
        [
         "44",
         "0.0",
         "0.0",
         "1.0"
        ],
        [
         "45",
         "0.0",
         "1.0",
         "1.0"
        ],
        [
         "46",
         "0.0",
         "0.0",
         "0.0"
        ],
        [
         "47",
         "1.0",
         "0.0",
         "0.0"
        ],
        [
         "48",
         "1.0",
         "0.0",
         "0.0"
        ],
        [
         "49",
         "1.0",
         "0.0",
         "0.0"
        ]
       ],
       "shape": {
        "columns": 3,
        "rows": 30000
       }
      },
      "text/html": [
       "<div>\n",
       "<style scoped>\n",
       "    .dataframe tbody tr th:only-of-type {\n",
       "        vertical-align: middle;\n",
       "    }\n",
       "\n",
       "    .dataframe tbody tr th {\n",
       "        vertical-align: top;\n",
       "    }\n",
       "\n",
       "    .dataframe thead th {\n",
       "        text-align: right;\n",
       "    }\n",
       "</style>\n",
       "<table border=\"1\" class=\"dataframe\">\n",
       "  <thead>\n",
       "    <tr style=\"text-align: right;\">\n",
       "      <th></th>\n",
       "      <th>Match AB</th>\n",
       "      <th>Match_BC</th>\n",
       "      <th>Match_YA</th>\n",
       "    </tr>\n",
       "  </thead>\n",
       "  <tbody>\n",
       "    <tr>\n",
       "      <th>0</th>\n",
       "      <td>0.0</td>\n",
       "      <td>1.0</td>\n",
       "      <td>0.0</td>\n",
       "    </tr>\n",
       "    <tr>\n",
       "      <th>1</th>\n",
       "      <td>1.0</td>\n",
       "      <td>0.0</td>\n",
       "      <td>1.0</td>\n",
       "    </tr>\n",
       "    <tr>\n",
       "      <th>2</th>\n",
       "      <td>0.0</td>\n",
       "      <td>0.0</td>\n",
       "      <td>1.0</td>\n",
       "    </tr>\n",
       "    <tr>\n",
       "      <th>3</th>\n",
       "      <td>1.0</td>\n",
       "      <td>0.0</td>\n",
       "      <td>0.0</td>\n",
       "    </tr>\n",
       "    <tr>\n",
       "      <th>4</th>\n",
       "      <td>1.0</td>\n",
       "      <td>0.0</td>\n",
       "      <td>0.0</td>\n",
       "    </tr>\n",
       "    <tr>\n",
       "      <th>...</th>\n",
       "      <td>...</td>\n",
       "      <td>...</td>\n",
       "      <td>...</td>\n",
       "    </tr>\n",
       "    <tr>\n",
       "      <th>29995</th>\n",
       "      <td>0.0</td>\n",
       "      <td>1.0</td>\n",
       "      <td>1.0</td>\n",
       "    </tr>\n",
       "    <tr>\n",
       "      <th>29996</th>\n",
       "      <td>1.0</td>\n",
       "      <td>0.0</td>\n",
       "      <td>1.0</td>\n",
       "    </tr>\n",
       "    <tr>\n",
       "      <th>29997</th>\n",
       "      <td>0.0</td>\n",
       "      <td>1.0</td>\n",
       "      <td>1.0</td>\n",
       "    </tr>\n",
       "    <tr>\n",
       "      <th>29998</th>\n",
       "      <td>0.0</td>\n",
       "      <td>1.0</td>\n",
       "      <td>1.0</td>\n",
       "    </tr>\n",
       "    <tr>\n",
       "      <th>29999</th>\n",
       "      <td>1.0</td>\n",
       "      <td>0.0</td>\n",
       "      <td>1.0</td>\n",
       "    </tr>\n",
       "  </tbody>\n",
       "</table>\n",
       "<p>30000 rows × 3 columns</p>\n",
       "</div>"
      ],
      "text/plain": [
       "       Match AB  Match_BC  Match_YA\n",
       "0           0.0       1.0       0.0\n",
       "1           1.0       0.0       1.0\n",
       "2           0.0       0.0       1.0\n",
       "3           1.0       0.0       0.0\n",
       "4           1.0       0.0       0.0\n",
       "...         ...       ...       ...\n",
       "29995       0.0       1.0       1.0\n",
       "29996       1.0       0.0       1.0\n",
       "29997       0.0       1.0       1.0\n",
       "29998       0.0       1.0       1.0\n",
       "29999       1.0       0.0       1.0\n",
       "\n",
       "[30000 rows x 3 columns]"
      ]
     },
     "execution_count": 50,
     "metadata": {},
     "output_type": "execute_result"
    }
   ],
   "source": [
    "samples = pd.DataFrame(model(30_000))\n",
    "samples"
   ]
  },
  {
   "cell_type": "code",
   "execution_count": 55,
   "metadata": {},
   "outputs": [
    {
     "ename": "KeyError",
     "evalue": "'Match BC'",
     "output_type": "error",
     "traceback": [
      "\u001b[31m---------------------------------------------------------------------------\u001b[39m",
      "\u001b[31mKeyError\u001b[39m                                  Traceback (most recent call last)",
      "\u001b[36mFile \u001b[39m\u001b[32mc:\\Users\\tomma\\AppData\\Local\\Programs\\Python\\Python312\\Lib\\site-packages\\pandas\\core\\indexes\\base.py:3805\u001b[39m, in \u001b[36mIndex.get_loc\u001b[39m\u001b[34m(self, key)\u001b[39m\n\u001b[32m   3804\u001b[39m \u001b[38;5;28;01mtry\u001b[39;00m:\n\u001b[32m-> \u001b[39m\u001b[32m3805\u001b[39m     \u001b[38;5;28;01mreturn\u001b[39;00m \u001b[38;5;28;43mself\u001b[39;49m\u001b[43m.\u001b[49m\u001b[43m_engine\u001b[49m\u001b[43m.\u001b[49m\u001b[43mget_loc\u001b[49m\u001b[43m(\u001b[49m\u001b[43mcasted_key\u001b[49m\u001b[43m)\u001b[49m\n\u001b[32m   3806\u001b[39m \u001b[38;5;28;01mexcept\u001b[39;00m \u001b[38;5;167;01mKeyError\u001b[39;00m \u001b[38;5;28;01mas\u001b[39;00m err:\n",
      "\u001b[36mFile \u001b[39m\u001b[32mindex.pyx:167\u001b[39m, in \u001b[36mpandas._libs.index.IndexEngine.get_loc\u001b[39m\u001b[34m()\u001b[39m\n",
      "\u001b[36mFile \u001b[39m\u001b[32mindex.pyx:196\u001b[39m, in \u001b[36mpandas._libs.index.IndexEngine.get_loc\u001b[39m\u001b[34m()\u001b[39m\n",
      "\u001b[36mFile \u001b[39m\u001b[32mpandas\\\\_libs\\\\hashtable_class_helper.pxi:7081\u001b[39m, in \u001b[36mpandas._libs.hashtable.PyObjectHashTable.get_item\u001b[39m\u001b[34m()\u001b[39m\n",
      "\u001b[36mFile \u001b[39m\u001b[32mpandas\\\\_libs\\\\hashtable_class_helper.pxi:7089\u001b[39m, in \u001b[36mpandas._libs.hashtable.PyObjectHashTable.get_item\u001b[39m\u001b[34m()\u001b[39m\n",
      "\u001b[31mKeyError\u001b[39m: 'Match BC'",
      "\nThe above exception was the direct cause of the following exception:\n",
      "\u001b[31mKeyError\u001b[39m                                  Traceback (most recent call last)",
      "\u001b[36mCell\u001b[39m\u001b[36m \u001b[39m\u001b[32mIn[55]\u001b[39m\u001b[32m, line 1\u001b[39m\n\u001b[32m----> \u001b[39m\u001b[32m1\u001b[39m \u001b[38;5;28mprint\u001b[39m(\u001b[33mf\u001b[39m\u001b[33m\"\u001b[39m\u001b[33mP(Match_YA = 1 | Match_AB = 1 , Match_BC = 1) = \u001b[39m\u001b[38;5;132;01m{\u001b[39;00msamples[(samples[\u001b[33m'\u001b[39m\u001b[33mMatch AB\u001b[39m\u001b[33m'\u001b[39m]\u001b[38;5;250m \u001b[39m==\u001b[38;5;250m \u001b[39m\u001b[32m1\u001b[39m)\u001b[38;5;250m \u001b[39m&\u001b[38;5;250m \u001b[39m(\u001b[43msamples\u001b[49m\u001b[43m[\u001b[49m\u001b[33;43m'\u001b[39;49m\u001b[33;43mMatch BC\u001b[39;49m\u001b[33;43m'\u001b[39;49m\u001b[43m]\u001b[49m\u001b[38;5;250m \u001b[39m==\u001b[38;5;250m \u001b[39m\u001b[32m1\u001b[39m)][\u001b[33m'\u001b[39m\u001b[33mMatch YA\u001b[39m\u001b[33m'\u001b[39m].mean()\u001b[38;5;132;01m}\u001b[39;00m\u001b[33m\"\u001b[39m)\n",
      "\u001b[36mFile \u001b[39m\u001b[32mc:\\Users\\tomma\\AppData\\Local\\Programs\\Python\\Python312\\Lib\\site-packages\\pandas\\core\\frame.py:4102\u001b[39m, in \u001b[36mDataFrame.__getitem__\u001b[39m\u001b[34m(self, key)\u001b[39m\n\u001b[32m   4100\u001b[39m \u001b[38;5;28;01mif\u001b[39;00m \u001b[38;5;28mself\u001b[39m.columns.nlevels > \u001b[32m1\u001b[39m:\n\u001b[32m   4101\u001b[39m     \u001b[38;5;28;01mreturn\u001b[39;00m \u001b[38;5;28mself\u001b[39m._getitem_multilevel(key)\n\u001b[32m-> \u001b[39m\u001b[32m4102\u001b[39m indexer = \u001b[38;5;28;43mself\u001b[39;49m\u001b[43m.\u001b[49m\u001b[43mcolumns\u001b[49m\u001b[43m.\u001b[49m\u001b[43mget_loc\u001b[49m\u001b[43m(\u001b[49m\u001b[43mkey\u001b[49m\u001b[43m)\u001b[49m\n\u001b[32m   4103\u001b[39m \u001b[38;5;28;01mif\u001b[39;00m is_integer(indexer):\n\u001b[32m   4104\u001b[39m     indexer = [indexer]\n",
      "\u001b[36mFile \u001b[39m\u001b[32mc:\\Users\\tomma\\AppData\\Local\\Programs\\Python\\Python312\\Lib\\site-packages\\pandas\\core\\indexes\\base.py:3812\u001b[39m, in \u001b[36mIndex.get_loc\u001b[39m\u001b[34m(self, key)\u001b[39m\n\u001b[32m   3807\u001b[39m     \u001b[38;5;28;01mif\u001b[39;00m \u001b[38;5;28misinstance\u001b[39m(casted_key, \u001b[38;5;28mslice\u001b[39m) \u001b[38;5;129;01mor\u001b[39;00m (\n\u001b[32m   3808\u001b[39m         \u001b[38;5;28misinstance\u001b[39m(casted_key, abc.Iterable)\n\u001b[32m   3809\u001b[39m         \u001b[38;5;129;01mand\u001b[39;00m \u001b[38;5;28many\u001b[39m(\u001b[38;5;28misinstance\u001b[39m(x, \u001b[38;5;28mslice\u001b[39m) \u001b[38;5;28;01mfor\u001b[39;00m x \u001b[38;5;129;01min\u001b[39;00m casted_key)\n\u001b[32m   3810\u001b[39m     ):\n\u001b[32m   3811\u001b[39m         \u001b[38;5;28;01mraise\u001b[39;00m InvalidIndexError(key)\n\u001b[32m-> \u001b[39m\u001b[32m3812\u001b[39m     \u001b[38;5;28;01mraise\u001b[39;00m \u001b[38;5;167;01mKeyError\u001b[39;00m(key) \u001b[38;5;28;01mfrom\u001b[39;00m\u001b[38;5;250m \u001b[39m\u001b[34;01merr\u001b[39;00m\n\u001b[32m   3813\u001b[39m \u001b[38;5;28;01mexcept\u001b[39;00m \u001b[38;5;167;01mTypeError\u001b[39;00m:\n\u001b[32m   3814\u001b[39m     \u001b[38;5;66;03m# If we have a listlike key, _check_indexing_error will raise\u001b[39;00m\n\u001b[32m   3815\u001b[39m     \u001b[38;5;66;03m#  InvalidIndexError. Otherwise we fall through and re-raise\u001b[39;00m\n\u001b[32m   3816\u001b[39m     \u001b[38;5;66;03m#  the TypeError.\u001b[39;00m\n\u001b[32m   3817\u001b[39m     \u001b[38;5;28mself\u001b[39m._check_indexing_error(key)\n",
      "\u001b[31mKeyError\u001b[39m: 'Match BC'"
     ]
    }
   ],
   "source": [
    "print(f\"P(Match_YA = 1 | Match_AB = 1 , Match_BC = 1) = {samples[(samples['Match AB'] == 1) & (samples['Match BC'] == 1)]['Match YA'].mean()}\")\n"
   ]
  },
  {
   "cell_type": "markdown",
   "metadata": {},
   "source": [
    "### Exercise 4: Bayesian Inference on Carrier Status for Hemophilia\n",
    "\n",
    "Hemophilia is caused by a **recessive gene** located on the **X-chromosome**. If $X^*$ denotes an X-chromosome carrying the hemophilia gene, then:\n",
    "  - $X^*X^*$ represents a **female with the disease**.\n",
    "  - $X^*X$ represents a **female without the disease but carrying the gene**.\n",
    "  - $X^*Y$ represents a **male with the disease**.  \n",
    "\n",
    "Mary has:  \n",
    "- **An affected brother** ($X^*Y$),  \n",
    "- **An unaffected mother** ($XX$ or $X^*X$),  \n",
    "- **An unaffected father** ($XY$).  \n",
    "\n",
    "Since Mary’s **brother is affected**, he must have inherited an $X^*$ from the **mother**, implying that the **mother is a carrier** ($X^*X$).  \n",
    "\n",
    "Let $\\theta$ be an indicator variable where:  \n",
    "- $\\theta = 1$ if Mary is a **gene carrier** ($X^*X$),  \n",
    "- $\\theta = 0$ if Mary is **not a carrier** ($XX$).  \n",
    "\n",
    "Given the above information, before any additional observations, we assign the **prior probability**:\n",
    "\n",
    "$$\n",
    "P(\\theta = 1) = \\frac{1}{2}\n",
    "$$\n",
    "\n",
    "\n",
    "Mary has **two sons** (not identical twins, with unaffected father), both of whom are **not affected** by hemophilia.  \n",
    "\n",
    "Let $y_i$ be an indicator variable where:  \n",
    "- $y_i = 1$ if the $i$-th son is affected,  \n",
    "- $y_i = 0$ if the $i$-th son is unaffected.  \n",
    "\n",
    "Since males inherit their **X-chromosome from their mother**, if Mary is a carrier ($\\theta = 1$), each son has a **50% chance** of being affected.  \n",
    "\n",
    "The probability of both sons being unaffected (we denote this event, i.e. $y_1 = 0$ AND $y_2 = 0$, with $y=1$), given $\\theta$, is:\n",
    "\n",
    "$$\n",
    "P(y = 1 \\mid \\theta) =\n",
    "\\begin{cases}  \n",
    "0.25, & \\text{if } \\theta = 1 \\\\  \n",
    "1, & \\text{if } \\theta = 0 \n",
    "\\end{cases}\n",
    "$$\n",
    "\n",
    "1) Calculate $P(y)$\n",
    "\n",
    "2) Considering that both the sons are unaffected, calculate the posterior $P(\\theta = 1 | y)$\n",
    "\n",
    "3) What is the probability that a third son is affected? Calculate the predictive distribution\n",
    "\n",
    "4) Suppose a third son is born and he is not affected, update the posterior by computing $P(\\theta = 1 | y, y_3 = 0)$\n"
   ]
  },
  {
   "cell_type": "markdown",
   "metadata": {},
   "source": [
    "### Exercise 5: Hierarchical model in Pyro\n",
    "\n",
    "In this problem, we consider a hierarchical model that represents the distribution of test scores across multiple schools. Our goal is to define a generative model that captures both **global** and **school-specific** variations in scores.\n",
    "\n",
    "- There are **N** schools, each having **M** students and a different average performance.\n",
    "- The **global mean score** across all schools follows a normal prior.\n",
    " $$\n",
    "   \\mu_{\\text{global}} \\sim \\mathcal{N}(0, 5)\n",
    "   $$\n",
    "\n",
    "- Each **school-specific mean** is derived from the global mean with a random offset: each school $i$ has a deviation from the global mean:\n",
    "\n",
    "   $$\n",
    "   \\theta_i \\sim \\mathcal{N}(0, 1), \\quad i = 1, \\dots, N\n",
    "   $$\n",
    "\n",
    "   s.t.\n",
    "\n",
    "   $$\n",
    "   \\mu_i = \\mu_{\\text{global}} + \\theta_i\n",
    "   $$\n",
    "- **Individual student scores** are drawn from a normal distribution with their school's mean: each student $j$ in school $i$ receives a test score:\n",
    "\n",
    "   $$\n",
    "   y_{ij} \\sim \\mathcal{N}(\\mu_i, 1), \\quad j = 1, \\dots, M\n",
    "   $$\n",
    "\n",
    "Generative model:\n",
    "\n",
    "1) Sample the global mean\n",
    "2) For each school, sample its offset and compute its mean.\n",
    "3) For each student in each school, sample their test score\n",
    "4) Plot one histogram for each school, showing the distribution of the student scores.\n",
    "\n",
    "**NOTE: use the plate notation!**"
   ]
  },
  {
   "cell_type": "code",
   "execution_count": null,
   "metadata": {},
   "outputs": [],
   "source": [
    "import torch\n",
    "import seaborn as sns\n",
    "import matplotlib.pyplot as plt\n",
    "\n",
    "import pyro\n",
    "import pyro.distributions as dist"
   ]
  },
  {
   "cell_type": "code",
   "execution_count": null,
   "metadata": {},
   "outputs": [],
   "source": [
    "# 1: Write the corresponding model in pyro\n",
    "def model(n,m: int):\n",
    "\n",
    "    global_mean = pyro.sample(\"global mean\", dist.Normal(0, 5))\n",
    "    print(f\"Global mean: {global_mean}\")\n",
    "    \n",
    "    fig, axes = plt.subplots(n, 1, figsize=(8, 4*n))  # Crea una figura con `n` sottotrame\n",
    "\n",
    "    for i in range(n):\n",
    "      specific_deviation = pyro.sample(f\"specific deviation_{i}\", dist.Normal(0, 1))\n",
    "      specific_mean = global_mean + specific_deviation\n",
    "\n",
    "      with pyro.plate(f'M students_{i}', m):\n",
    "        individual_student_score = pyro.sample(f\"individual student scores_{i}\", dist.Normal(specific_mean, 1.))\n",
    "      \n",
    "      print(f\"Specific mean_{i}: {specific_mean}\")\n",
    "      print(f\"Specific deviation_{i}: {specific_deviation}\")\n",
    "      print(f\"Individual student score_{i}: {individual_student_score}\")\n",
    "\n",
    "      sns.histplot(individual_student_score.numpy(), kde=True, stat='density', ax=axes[i])\n",
    "      axes[i].set_title(f\"Student Scores for School {i+1}\")\n",
    "    \n",
    "        # with pyro.plate(\"M\", m):\n",
    "        #     # Broadcasting: mu[:, None] ha forma [N, 1] → broadcast su [N, M]\n",
    "        #     individual_student_score = pyro.sample(\"individual student scores\", dist.Normal(specific_mean[:, None], 1.))\n",
    "    \n",
    "    plt.tight_layout()  # Ottimizza la disposizione dei sottotitoli\n",
    "    plt.show()\n",
    "    \n",
    "    return {'global mean': global_mean, 'specific deviation': specific_deviation, 'specific mean': specific_mean, 'individual student score':individual_student_score}\n",
    "\n",
    "# 2: plot the corersponding graphical model\n",
    "pyro.render_model(model, model_args=(20, 500), render_distributions=True)\n"
   ]
  },
  {
   "cell_type": "markdown",
   "metadata": {},
   "source": [
    "### Exercise 6: Extending Belief Propagation to the Sum-Product Algorithm\n",
    "\n",
    "In the notebook *\"Exact Inference with Belief Propagation\"*, we previously computed the marginal distribution of a given variable using the message-passing method. Now, we aim to extend this implementation to the sum-product algorithm.\n",
    "\n",
    "1. **Extend the `Messages` class** by adding the following methods:  \n",
    "   - **`forward`**: Computes the forward pass.  \n",
    "   - **`backward`**: Computes the backward pass.  \n",
    "   - **`belief_propagation`**: Executes the forward and backward passes, then uses the computed messages to determine all marginal distributions. This method should return a dictionary mapping each variable name to its corresponding marginal distribution.  \n",
    "\n",
    "2. **Apply the `belief_propagation` method** to compute the marginal distributions of the variables in the factor graph described on page 43 of the course notes.  \n",
    "\n",
    "For this exercise, please submit the updated notebook **`04_exact_inference.ipynb`**, including your additional code.\n",
    "\n",
    "**NOTE: Make sure to add comments to all the code you write!**"
   ]
  }
 ],
 "metadata": {
  "kernelspec": {
   "display_name": "Python 3",
   "language": "python",
   "name": "python3"
  },
  "language_info": {
   "codemirror_mode": {
    "name": "ipython",
    "version": 3
   },
   "file_extension": ".py",
   "mimetype": "text/x-python",
   "name": "python",
   "nbconvert_exporter": "python",
   "pygments_lexer": "ipython3",
   "version": "3.12.6"
  }
 },
 "nbformat": 4,
 "nbformat_minor": 2
}
