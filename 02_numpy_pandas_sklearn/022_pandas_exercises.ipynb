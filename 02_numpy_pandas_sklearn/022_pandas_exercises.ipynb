{
 "cells": [
  {
   "cell_type": "markdown",
   "id": "37266d31",
   "metadata": {},
   "source": [
    "<a href=\"https://colab.research.google.com/github/r-doz/PML2025/blob/main/./02_numpy_pandas_sklearn/022_pandas_exercises.ipynb\" target=\"_parent\"><img src=\"https://colab.research.google.com/assets/colab-badge.svg\" alt=\"Open In Colab\"/></a>"
   ]
  },
  {
   "cell_type": "code",
   "execution_count": 2,
   "metadata": {},
   "outputs": [
    {
     "data": {
      "application/vnd.microsoft.datawrangler.viewer.v0+json": {
       "columns": [
        {
         "name": "index",
         "rawType": "int64",
         "type": "integer"
        },
        {
         "name": "score_phrase",
         "rawType": "object",
         "type": "string"
        },
        {
         "name": "title",
         "rawType": "object",
         "type": "string"
        },
        {
         "name": "url",
         "rawType": "object",
         "type": "string"
        },
        {
         "name": "platform",
         "rawType": "object",
         "type": "string"
        },
        {
         "name": "score",
         "rawType": "float64",
         "type": "float"
        },
        {
         "name": "genre",
         "rawType": "object",
         "type": "unknown"
        },
        {
         "name": "editors_choice",
         "rawType": "object",
         "type": "string"
        },
        {
         "name": "release_year",
         "rawType": "int64",
         "type": "integer"
        },
        {
         "name": "release_month",
         "rawType": "int64",
         "type": "integer"
        },
        {
         "name": "release_day",
         "rawType": "int64",
         "type": "integer"
        }
       ],
       "conversionMethod": "pd.DataFrame",
       "ref": "a2f8d8e5-bf67-49ce-8408-7407c8f8345a",
       "rows": [
        [
         "0",
         "Amazing",
         "LittleBigPlanet PS Vita",
         "/games/littlebigplanet-vita/vita-98907",
         "PlayStation Vita",
         "9.0",
         "Platformer",
         "Y",
         "2012",
         "9",
         "12"
        ],
        [
         "1",
         "Amazing",
         "LittleBigPlanet PS Vita -- Marvel Super Hero Edition",
         "/games/littlebigplanet-ps-vita-marvel-super-hero-edition/vita-20027059",
         "PlayStation Vita",
         "9.0",
         "Platformer",
         "Y",
         "2012",
         "9",
         "12"
        ],
        [
         "2",
         "Great",
         "Splice: Tree of Life",
         "/games/splice/ipad-141070",
         "iPad",
         "8.5",
         "Puzzle",
         "N",
         "2012",
         "9",
         "12"
        ],
        [
         "3",
         "Great",
         "NHL 13",
         "/games/nhl-13/xbox-360-128182",
         "Xbox 360",
         "8.5",
         "Sports",
         "N",
         "2012",
         "9",
         "11"
        ],
        [
         "4",
         "Great",
         "NHL 13",
         "/games/nhl-13/ps3-128181",
         "PlayStation 3",
         "8.5",
         "Sports",
         "N",
         "2012",
         "9",
         "11"
        ],
        [
         "5",
         "Good",
         "Total War Battles: Shogun",
         "/games/total-war-battles-shogun/mac-142565",
         "Macintosh",
         "7.0",
         "Strategy",
         "N",
         "2012",
         "9",
         "11"
        ],
        [
         "6",
         "Awful",
         "Double Dragon: Neon",
         "/games/double-dragon-neon/xbox-360-131320",
         "Xbox 360",
         "3.0",
         "Fighting",
         "N",
         "2012",
         "9",
         "11"
        ],
        [
         "7",
         "Amazing",
         "Guild Wars 2",
         "/games/guild-wars-2/pc-896298",
         "PC",
         "9.0",
         "RPG",
         "Y",
         "2012",
         "9",
         "11"
        ],
        [
         "8",
         "Awful",
         "Double Dragon: Neon",
         "/games/double-dragon-neon/ps3-131321",
         "PlayStation 3",
         "3.0",
         "Fighting",
         "N",
         "2012",
         "9",
         "11"
        ],
        [
         "9",
         "Good",
         "Total War Battles: Shogun",
         "/games/total-war-battles-shogun/pc-142564",
         "PC",
         "7.0",
         "Strategy",
         "N",
         "2012",
         "9",
         "11"
        ],
        [
         "10",
         "Good",
         "Tekken Tag Tournament 2",
         "/games/tekken-tag-tournament-2/ps3-124584",
         "PlayStation 3",
         "7.5",
         "Fighting",
         "N",
         "2012",
         "9",
         "11"
        ],
        [
         "11",
         "Good",
         "Tekken Tag Tournament 2",
         "/games/tekken-tag-tournament-2/xbox-360-124581",
         "Xbox 360",
         "7.5",
         "Fighting",
         "N",
         "2012",
         "9",
         "11"
        ],
        [
         "12",
         "Good",
         "Wild Blood",
         "/games/wild-blood/iphone-139363",
         "iPhone",
         "7.0",
         null,
         "N",
         "2012",
         "9",
         "10"
        ],
        [
         "13",
         "Amazing",
         "Mark of the Ninja",
         "/games/mark-of-the-ninja-135615/xbox-360-129276",
         "Xbox 360",
         "9.0",
         "Action, Adventure",
         "Y",
         "2012",
         "9",
         "7"
        ],
        [
         "14",
         "Amazing",
         "Mark of the Ninja",
         "/games/mark-of-the-ninja-135615/pc-143761",
         "PC",
         "9.0",
         "Action, Adventure",
         "Y",
         "2012",
         "9",
         "7"
        ],
        [
         "15",
         "Okay",
         "Home: A Unique Horror Adventure",
         "/games/home-a-unique-horror-adventure/mac-20014750",
         "Macintosh",
         "6.5",
         "Adventure",
         "N",
         "2012",
         "9",
         "6"
        ],
        [
         "16",
         "Okay",
         "Home: A Unique Horror Adventure",
         "/games/home-a-unique-horror-adventure/pc-137135",
         "PC",
         "6.5",
         "Adventure",
         "N",
         "2012",
         "9",
         "6"
        ],
        [
         "17",
         "Great",
         "Avengers Initiative",
         "/games/avengers-initiative/iphone-141579",
         "iPhone",
         "8.0",
         "Action",
         "N",
         "2012",
         "9",
         "5"
        ],
        [
         "18",
         "Mediocre",
         "Way of the Samurai 4",
         "/games/way-of-the-samurai-4/ps3-23516",
         "PlayStation 3",
         "5.5",
         "Action, Adventure",
         "N",
         "2012",
         "9",
         "3"
        ],
        [
         "19",
         "Good",
         "JoJo's Bizarre Adventure HD",
         "/games/jojos-bizarre-adventure/xbox-360-137717",
         "Xbox 360",
         "7.0",
         "Fighting",
         "N",
         "2012",
         "9",
         "3"
        ],
        [
         "20",
         "Good",
         "JoJo's Bizarre Adventure HD",
         "/games/jojos-bizarre-adventure/ps3-137896",
         "PlayStation 3",
         "7.0",
         "Fighting",
         "N",
         "2012",
         "9",
         "3"
        ],
        [
         "21",
         "Good",
         "Mass Effect 3: Leviathan",
         "/games/mass-effect-3-leviathan/xbox-360-138918",
         "Xbox 360",
         "7.5",
         "RPG",
         "N",
         "2012",
         "8",
         "31"
        ],
        [
         "22",
         "Good",
         "Mass Effect 3: Leviathan",
         "/games/mass-effect-3-leviathan/ps3-138915",
         "PlayStation 3",
         "7.5",
         "RPG",
         "N",
         "2012",
         "8",
         "31"
        ],
        [
         "23",
         "Good",
         "Mass Effect 3: Leviathan",
         "/games/mass-effect-3-leviathan/pc-138919",
         "PC",
         "7.5",
         "RPG",
         "N",
         "2012",
         "8",
         "31"
        ],
        [
         "24",
         "Amazing",
         "Dark Souls (Prepare to Die Edition)",
         "/games/dark-souls-prepare-to-die-edition/pc-131930",
         "PC",
         "9.0",
         "Action, RPG",
         "Y",
         "2012",
         "8",
         "31"
        ],
        [
         "25",
         "Good",
         "Symphony",
         "/games/symphony/pc-136470",
         "PC",
         "7.0",
         "Shooter",
         "N",
         "2012",
         "8",
         "30"
        ],
        [
         "26",
         "Amazing",
         "Bastion",
         "/games/bastion/ipad-140874",
         "iPad",
         "9.0",
         "Action, RPG",
         "Y",
         "2012",
         "8",
         "30"
        ],
        [
         "27",
         "Good",
         "Tom Clancy's Ghost Recon Phantoms",
         "/games/tom-clancys-ghost-recon-online/pc-109114",
         "PC",
         "7.5",
         "Shooter",
         "N",
         "2012",
         "8",
         "29"
        ],
        [
         "28",
         "Great",
         "Thirty Flights of Loving",
         "/games/thirty-flights-of-loving/pc-138374",
         "PC",
         "8.0",
         "Adventure",
         "N",
         "2012",
         "8",
         "29"
        ],
        [
         "29",
         "Okay",
         "Legasista",
         "/games/legasista/ps3-127147",
         "PlayStation 3",
         "6.5",
         "Action, RPG",
         "N",
         "2012",
         "8",
         "28"
        ],
        [
         "30",
         "Amazing",
         "The Walking Dead: The Game -- Episode 3: Long Road Ahead",
         "/games/the-walking-dead-season-1-episode-3/mac-135875",
         "Macintosh",
         "9.0",
         "Adventure",
         "Y",
         "2012",
         "8",
         "28"
        ],
        [
         "31",
         "Great",
         "World of Warcraft: Mists of Pandaria",
         "/games/world-of-warcraft-mists-of-pandaria/pc-114681",
         "PC",
         "8.7",
         "RPG",
         "Y",
         "2012",
         "10",
         "4"
        ],
        [
         "32",
         "Bad",
         "Hell Yeah! Wrath of the Dead Rabbit",
         "/games/hell-yeah-wrath-of-the-dead-rabbit/ps3-129409",
         "PlayStation 3",
         "4.9",
         "Platformer",
         "N",
         "2012",
         "10",
         "4"
        ],
        [
         "33",
         "Amazing",
         "Pokemon White Version 2",
         "/games/pokemon-white-version-2/nds-129228",
         "Nintendo DS",
         "9.6",
         "RPG",
         "Y",
         "2012",
         "10",
         "3"
        ],
        [
         "34",
         "Good",
         "War of the Roses",
         "/games/war-of-the-roses-140577/pc-115849",
         "PC",
         "7.3",
         "Action",
         "N",
         "2012",
         "10",
         "3"
        ],
        [
         "35",
         "Amazing",
         "Pokemon Black Version 2",
         "/games/pokemon-black-version-2/nds-129224",
         "Nintendo DS",
         "9.6",
         "RPG",
         "Y",
         "2012",
         "10",
         "3"
        ],
        [
         "36",
         "Okay",
         "Drakerider",
         "/games/drakerider/iphone-135745",
         "iPhone",
         "6.5",
         "RPG",
         "N",
         "2012",
         "10",
         "3"
        ],
        [
         "37",
         "Amazing",
         "The Walking Dead: The Game -- Episode 3: Long Road Ahead",
         "/games/the-walking-dead-season-1-episode-3/xbox-360-135872",
         "Xbox 360",
         "9.0",
         "Adventure",
         "Y",
         "2012",
         "8",
         "28"
        ],
        [
         "38",
         "Amazing",
         "The Walking Dead: The Game -- Episode 3: Long Road Ahead",
         "/games/the-walking-dead-season-1-episode-3/pc-135874",
         "PC",
         "9.0",
         "Adventure",
         "Y",
         "2012",
         "8",
         "28"
        ],
        [
         "39",
         "Amazing",
         "The Walking Dead: The Game -- Episode 3: Long Road Ahead",
         "/games/the-walking-dead-season-1-episode-3/ps3-135873",
         "PlayStation 3",
         "9.0",
         "Adventure",
         "Y",
         "2012",
         "8",
         "28"
        ],
        [
         "40",
         "Great",
         "Rock Band Blitz",
         "/games/rock-band-blitz/xbox-360-131273",
         "Xbox 360",
         "8.5",
         "Music",
         "Y",
         "2012",
         "8",
         "27"
        ],
        [
         "41",
         "Great",
         "Counter-Strike: Global Offensive",
         "/games/counter-strike-global-offensive/mac-116695",
         "Macintosh",
         "8.0",
         "Shooter",
         "N",
         "2012",
         "8",
         "27"
        ],
        [
         "42",
         "Great",
         "Worms Revolution",
         "/games/worms-revolution/ps3-131184",
         "PlayStation 3",
         "8.5",
         "Strategy",
         "N",
         "2012",
         "10",
         "2"
        ],
        [
         "43",
         "Great",
         "Worms Revolution",
         "/games/worms-revolution/pc-131183",
         "PC",
         "8.5",
         "Strategy",
         "N",
         "2012",
         "10",
         "2"
        ],
        [
         "44",
         "Great",
         "Worms Revolution",
         "/games/worms-revolution/xbox-360-131185",
         "Xbox 360",
         "8.5",
         "Strategy",
         "N",
         "2012",
         "10",
         "2"
        ],
        [
         "45",
         "Amazing",
         "Bad Piggies",
         "/games/bad-piggies/iphone-141455",
         "iPhone",
         "9.2",
         "Action",
         "Y",
         "2012",
         "10",
         "1"
        ],
        [
         "46",
         "Good",
         "Resident Evil 6",
         "/games/resident-evil-6/ps3-85710",
         "PlayStation 3",
         "7.9",
         "Action, Adventure",
         "N",
         "2012",
         "10",
         "1"
        ],
        [
         "47",
         "Good",
         "Resident Evil 6",
         "/games/resident-evil-6/xbox-360-117995",
         "Xbox 360",
         "7.9",
         "Action, Adventure",
         "N",
         "2012",
         "10",
         "1"
        ],
        [
         "48",
         "Good",
         "Shad'O",
         "/games/shado/pc-141293",
         "PC",
         "7.0",
         "Adventure",
         "N",
         "2012",
         "9",
         "28"
        ],
        [
         "49",
         "Okay",
         "Demon's Score",
         "/games/demons-score/iphone-118050",
         "iPhone",
         "6.9",
         "Action",
         "N",
         "2012",
         "9",
         "27"
        ]
       ],
       "shape": {
        "columns": 10,
        "rows": 18625
       }
      },
      "text/html": [
       "<div>\n",
       "<style scoped>\n",
       "    .dataframe tbody tr th:only-of-type {\n",
       "        vertical-align: middle;\n",
       "    }\n",
       "\n",
       "    .dataframe tbody tr th {\n",
       "        vertical-align: top;\n",
       "    }\n",
       "\n",
       "    .dataframe thead th {\n",
       "        text-align: right;\n",
       "    }\n",
       "</style>\n",
       "<table border=\"1\" class=\"dataframe\">\n",
       "  <thead>\n",
       "    <tr style=\"text-align: right;\">\n",
       "      <th></th>\n",
       "      <th>score_phrase</th>\n",
       "      <th>title</th>\n",
       "      <th>url</th>\n",
       "      <th>platform</th>\n",
       "      <th>score</th>\n",
       "      <th>genre</th>\n",
       "      <th>editors_choice</th>\n",
       "      <th>release_year</th>\n",
       "      <th>release_month</th>\n",
       "      <th>release_day</th>\n",
       "    </tr>\n",
       "  </thead>\n",
       "  <tbody>\n",
       "    <tr>\n",
       "      <th>0</th>\n",
       "      <td>Amazing</td>\n",
       "      <td>LittleBigPlanet PS Vita</td>\n",
       "      <td>/games/littlebigplanet-vita/vita-98907</td>\n",
       "      <td>PlayStation Vita</td>\n",
       "      <td>9.0</td>\n",
       "      <td>Platformer</td>\n",
       "      <td>Y</td>\n",
       "      <td>2012</td>\n",
       "      <td>9</td>\n",
       "      <td>12</td>\n",
       "    </tr>\n",
       "    <tr>\n",
       "      <th>1</th>\n",
       "      <td>Amazing</td>\n",
       "      <td>LittleBigPlanet PS Vita -- Marvel Super Hero E...</td>\n",
       "      <td>/games/littlebigplanet-ps-vita-marvel-super-he...</td>\n",
       "      <td>PlayStation Vita</td>\n",
       "      <td>9.0</td>\n",
       "      <td>Platformer</td>\n",
       "      <td>Y</td>\n",
       "      <td>2012</td>\n",
       "      <td>9</td>\n",
       "      <td>12</td>\n",
       "    </tr>\n",
       "    <tr>\n",
       "      <th>2</th>\n",
       "      <td>Great</td>\n",
       "      <td>Splice: Tree of Life</td>\n",
       "      <td>/games/splice/ipad-141070</td>\n",
       "      <td>iPad</td>\n",
       "      <td>8.5</td>\n",
       "      <td>Puzzle</td>\n",
       "      <td>N</td>\n",
       "      <td>2012</td>\n",
       "      <td>9</td>\n",
       "      <td>12</td>\n",
       "    </tr>\n",
       "    <tr>\n",
       "      <th>3</th>\n",
       "      <td>Great</td>\n",
       "      <td>NHL 13</td>\n",
       "      <td>/games/nhl-13/xbox-360-128182</td>\n",
       "      <td>Xbox 360</td>\n",
       "      <td>8.5</td>\n",
       "      <td>Sports</td>\n",
       "      <td>N</td>\n",
       "      <td>2012</td>\n",
       "      <td>9</td>\n",
       "      <td>11</td>\n",
       "    </tr>\n",
       "    <tr>\n",
       "      <th>4</th>\n",
       "      <td>Great</td>\n",
       "      <td>NHL 13</td>\n",
       "      <td>/games/nhl-13/ps3-128181</td>\n",
       "      <td>PlayStation 3</td>\n",
       "      <td>8.5</td>\n",
       "      <td>Sports</td>\n",
       "      <td>N</td>\n",
       "      <td>2012</td>\n",
       "      <td>9</td>\n",
       "      <td>11</td>\n",
       "    </tr>\n",
       "    <tr>\n",
       "      <th>...</th>\n",
       "      <td>...</td>\n",
       "      <td>...</td>\n",
       "      <td>...</td>\n",
       "      <td>...</td>\n",
       "      <td>...</td>\n",
       "      <td>...</td>\n",
       "      <td>...</td>\n",
       "      <td>...</td>\n",
       "      <td>...</td>\n",
       "      <td>...</td>\n",
       "    </tr>\n",
       "    <tr>\n",
       "      <th>18620</th>\n",
       "      <td>Good</td>\n",
       "      <td>Tokyo Mirage Sessions #FE</td>\n",
       "      <td>/games/fire-emblem-x-shin-megami-tensei/wii-u-...</td>\n",
       "      <td>Wii U</td>\n",
       "      <td>7.6</td>\n",
       "      <td>RPG</td>\n",
       "      <td>N</td>\n",
       "      <td>2016</td>\n",
       "      <td>6</td>\n",
       "      <td>29</td>\n",
       "    </tr>\n",
       "    <tr>\n",
       "      <th>18621</th>\n",
       "      <td>Amazing</td>\n",
       "      <td>LEGO Star Wars: The Force Awakens</td>\n",
       "      <td>/games/lego-star-wars-the-force-awakens/ps4-20...</td>\n",
       "      <td>PlayStation 4</td>\n",
       "      <td>9.0</td>\n",
       "      <td>Action, Adventure</td>\n",
       "      <td>Y</td>\n",
       "      <td>2016</td>\n",
       "      <td>6</td>\n",
       "      <td>29</td>\n",
       "    </tr>\n",
       "    <tr>\n",
       "      <th>18622</th>\n",
       "      <td>Mediocre</td>\n",
       "      <td>Star Ocean: Integrity and Faithlessness</td>\n",
       "      <td>/games/star-ocean-5/ps4-20035681</td>\n",
       "      <td>PlayStation 4</td>\n",
       "      <td>5.8</td>\n",
       "      <td>RPG</td>\n",
       "      <td>N</td>\n",
       "      <td>2016</td>\n",
       "      <td>6</td>\n",
       "      <td>28</td>\n",
       "    </tr>\n",
       "    <tr>\n",
       "      <th>18623</th>\n",
       "      <td>Masterpiece</td>\n",
       "      <td>Inside</td>\n",
       "      <td>/games/inside-playdead/xbox-one-121435</td>\n",
       "      <td>Xbox One</td>\n",
       "      <td>10.0</td>\n",
       "      <td>Adventure</td>\n",
       "      <td>Y</td>\n",
       "      <td>2016</td>\n",
       "      <td>6</td>\n",
       "      <td>28</td>\n",
       "    </tr>\n",
       "    <tr>\n",
       "      <th>18624</th>\n",
       "      <td>Masterpiece</td>\n",
       "      <td>Inside</td>\n",
       "      <td>/games/inside-playdead/pc-20055740</td>\n",
       "      <td>PC</td>\n",
       "      <td>10.0</td>\n",
       "      <td>Adventure</td>\n",
       "      <td>Y</td>\n",
       "      <td>2016</td>\n",
       "      <td>6</td>\n",
       "      <td>28</td>\n",
       "    </tr>\n",
       "  </tbody>\n",
       "</table>\n",
       "<p>18625 rows × 10 columns</p>\n",
       "</div>"
      ],
      "text/plain": [
       "      score_phrase                                              title  \\\n",
       "0          Amazing                            LittleBigPlanet PS Vita   \n",
       "1          Amazing  LittleBigPlanet PS Vita -- Marvel Super Hero E...   \n",
       "2            Great                               Splice: Tree of Life   \n",
       "3            Great                                             NHL 13   \n",
       "4            Great                                             NHL 13   \n",
       "...            ...                                                ...   \n",
       "18620         Good                          Tokyo Mirage Sessions #FE   \n",
       "18621      Amazing                  LEGO Star Wars: The Force Awakens   \n",
       "18622     Mediocre            Star Ocean: Integrity and Faithlessness   \n",
       "18623  Masterpiece                                             Inside   \n",
       "18624  Masterpiece                                             Inside   \n",
       "\n",
       "                                                     url          platform  \\\n",
       "0                 /games/littlebigplanet-vita/vita-98907  PlayStation Vita   \n",
       "1      /games/littlebigplanet-ps-vita-marvel-super-he...  PlayStation Vita   \n",
       "2                              /games/splice/ipad-141070              iPad   \n",
       "3                          /games/nhl-13/xbox-360-128182          Xbox 360   \n",
       "4                               /games/nhl-13/ps3-128181     PlayStation 3   \n",
       "...                                                  ...               ...   \n",
       "18620  /games/fire-emblem-x-shin-megami-tensei/wii-u-...             Wii U   \n",
       "18621  /games/lego-star-wars-the-force-awakens/ps4-20...     PlayStation 4   \n",
       "18622                   /games/star-ocean-5/ps4-20035681     PlayStation 4   \n",
       "18623             /games/inside-playdead/xbox-one-121435          Xbox One   \n",
       "18624                 /games/inside-playdead/pc-20055740                PC   \n",
       "\n",
       "       score              genre editors_choice  release_year  release_month  \\\n",
       "0        9.0         Platformer              Y          2012              9   \n",
       "1        9.0         Platformer              Y          2012              9   \n",
       "2        8.5             Puzzle              N          2012              9   \n",
       "3        8.5             Sports              N          2012              9   \n",
       "4        8.5             Sports              N          2012              9   \n",
       "...      ...                ...            ...           ...            ...   \n",
       "18620    7.6                RPG              N          2016              6   \n",
       "18621    9.0  Action, Adventure              Y          2016              6   \n",
       "18622    5.8                RPG              N          2016              6   \n",
       "18623   10.0          Adventure              Y          2016              6   \n",
       "18624   10.0          Adventure              Y          2016              6   \n",
       "\n",
       "       release_day  \n",
       "0               12  \n",
       "1               12  \n",
       "2               12  \n",
       "3               11  \n",
       "4               11  \n",
       "...            ...  \n",
       "18620           29  \n",
       "18621           29  \n",
       "18622           28  \n",
       "18623           28  \n",
       "18624           28  \n",
       "\n",
       "[18625 rows x 10 columns]"
      ]
     },
     "execution_count": 2,
     "metadata": {},
     "output_type": "execute_result"
    }
   ],
   "source": [
    "import pandas as pd\n",
    "import matplotlib.pyplot as plt\n",
    "path_csv = 'https://raw.githubusercontent.com/DavideScassola/data_analysis_laboratory/main/notebooks/dati/reviews.csv'\n",
    "reviews = pd.read_csv(path_csv)\n",
    "reviews"
   ]
  },
  {
   "cell_type": "markdown",
   "metadata": {},
   "source": [
    "1. Find the video game with the lowest score"
   ]
  },
  {
   "cell_type": "code",
   "execution_count": 15,
   "metadata": {},
   "outputs": [
    {
     "data": {
      "application/vnd.microsoft.datawrangler.viewer.v0+json": {
       "columns": [
        {
         "name": "index",
         "rawType": "int64",
         "type": "integer"
        },
        {
         "name": "title",
         "rawType": "object",
         "type": "string"
        },
        {
         "name": "score",
         "rawType": "float64",
         "type": "float"
        }
       ],
       "conversionMethod": "pd.DataFrame",
       "ref": "c8a9381f-63f6-4257-ad74-950141a5e568",
       "rows": [
        [
         "5242",
         "Looney Tunes: Back in Action: Zany Race",
         "0.5"
        ]
       ],
       "shape": {
        "columns": 2,
        "rows": 1
       }
      },
      "text/html": [
       "<div>\n",
       "<style scoped>\n",
       "    .dataframe tbody tr th:only-of-type {\n",
       "        vertical-align: middle;\n",
       "    }\n",
       "\n",
       "    .dataframe tbody tr th {\n",
       "        vertical-align: top;\n",
       "    }\n",
       "\n",
       "    .dataframe thead th {\n",
       "        text-align: right;\n",
       "    }\n",
       "</style>\n",
       "<table border=\"1\" class=\"dataframe\">\n",
       "  <thead>\n",
       "    <tr style=\"text-align: right;\">\n",
       "      <th></th>\n",
       "      <th>title</th>\n",
       "      <th>score</th>\n",
       "    </tr>\n",
       "  </thead>\n",
       "  <tbody>\n",
       "    <tr>\n",
       "      <th>5242</th>\n",
       "      <td>Looney Tunes: Back in Action: Zany Race</td>\n",
       "      <td>0.5</td>\n",
       "    </tr>\n",
       "  </tbody>\n",
       "</table>\n",
       "</div>"
      ],
      "text/plain": [
       "                                        title  score\n",
       "5242  Looney Tunes: Back in Action: Zany Race    0.5"
      ]
     },
     "execution_count": 15,
     "metadata": {},
     "output_type": "execute_result"
    }
   ],
   "source": [
    "lower = min(reviews[\"score\"])\n",
    "rev = reviews[reviews[\"score\"] == lower]\n",
    "rev[[\"title\", \"score\"]]"
   ]
  },
  {
   "cell_type": "markdown",
   "metadata": {},
   "source": [
    "2. Find the video game of genre 'Shooter' with the highest score"
   ]
  },
  {
   "cell_type": "code",
   "execution_count": 19,
   "metadata": {},
   "outputs": [
    {
     "data": {
      "application/vnd.microsoft.datawrangler.viewer.v0+json": {
       "columns": [
        {
         "name": "index",
         "rawType": "int64",
         "type": "integer"
        },
        {
         "name": "title",
         "rawType": "object",
         "type": "string"
        },
        {
         "name": "score",
         "rawType": "float64",
         "type": "float"
        }
       ],
       "conversionMethod": "pd.DataFrame",
       "ref": "1db94803-a257-4be7-a841-d3d065e87d69",
       "rows": [
        [
         "200",
         "Halo 4",
         "9.8"
        ],
        [
         "201",
         "Halo 4 (Limited Edition)",
         "9.8"
        ],
        [
         "2179",
         "Perfect Dark",
         "9.8"
        ],
        [
         "6295",
         "Halo 2 (Limited Collector's Edition)",
         "9.8"
        ],
        [
         "6298",
         "Halo 2",
         "9.8"
        ],
        [
         "6359",
         "Halo 4 (Game of the Year Edition)",
         "9.8"
        ]
       ],
       "shape": {
        "columns": 2,
        "rows": 6
       }
      },
      "text/html": [
       "<div>\n",
       "<style scoped>\n",
       "    .dataframe tbody tr th:only-of-type {\n",
       "        vertical-align: middle;\n",
       "    }\n",
       "\n",
       "    .dataframe tbody tr th {\n",
       "        vertical-align: top;\n",
       "    }\n",
       "\n",
       "    .dataframe thead th {\n",
       "        text-align: right;\n",
       "    }\n",
       "</style>\n",
       "<table border=\"1\" class=\"dataframe\">\n",
       "  <thead>\n",
       "    <tr style=\"text-align: right;\">\n",
       "      <th></th>\n",
       "      <th>title</th>\n",
       "      <th>score</th>\n",
       "    </tr>\n",
       "  </thead>\n",
       "  <tbody>\n",
       "    <tr>\n",
       "      <th>200</th>\n",
       "      <td>Halo 4</td>\n",
       "      <td>9.8</td>\n",
       "    </tr>\n",
       "    <tr>\n",
       "      <th>201</th>\n",
       "      <td>Halo 4 (Limited Edition)</td>\n",
       "      <td>9.8</td>\n",
       "    </tr>\n",
       "    <tr>\n",
       "      <th>2179</th>\n",
       "      <td>Perfect Dark</td>\n",
       "      <td>9.8</td>\n",
       "    </tr>\n",
       "    <tr>\n",
       "      <th>6295</th>\n",
       "      <td>Halo 2 (Limited Collector's Edition)</td>\n",
       "      <td>9.8</td>\n",
       "    </tr>\n",
       "    <tr>\n",
       "      <th>6298</th>\n",
       "      <td>Halo 2</td>\n",
       "      <td>9.8</td>\n",
       "    </tr>\n",
       "    <tr>\n",
       "      <th>6359</th>\n",
       "      <td>Halo 4 (Game of the Year Edition)</td>\n",
       "      <td>9.8</td>\n",
       "    </tr>\n",
       "  </tbody>\n",
       "</table>\n",
       "</div>"
      ],
      "text/plain": [
       "                                     title  score\n",
       "200                                 Halo 4    9.8\n",
       "201               Halo 4 (Limited Edition)    9.8\n",
       "2179                          Perfect Dark    9.8\n",
       "6295  Halo 2 (Limited Collector's Edition)    9.8\n",
       "6298                                Halo 2    9.8\n",
       "6359     Halo 4 (Game of the Year Edition)    9.8"
      ]
     },
     "execution_count": 19,
     "metadata": {},
     "output_type": "execute_result"
    }
   ],
   "source": [
    "gen_shooter = reviews[reviews[\"genre\"] == \"Shooter\"]\n",
    "max_score = max(gen_shooter[\"score\"])\n",
    "rev = gen_shooter[gen_shooter[\"score\"] == max_score]\n",
    "rev[[\"title\", \"score\"]]"
   ]
  },
  {
   "cell_type": "markdown",
   "metadata": {},
   "source": [
    "3. Find the oldest video game"
   ]
  },
  {
   "cell_type": "code",
   "execution_count": 24,
   "metadata": {},
   "outputs": [
    {
     "data": {
      "application/vnd.microsoft.datawrangler.viewer.v0+json": {
       "columns": [
        {
         "name": "index",
         "rawType": "int64",
         "type": "integer"
        },
        {
         "name": "title",
         "rawType": "object",
         "type": "string"
        },
        {
         "name": "release_year",
         "rawType": "int64",
         "type": "integer"
        }
       ],
       "conversionMethod": "pd.DataFrame",
       "ref": "ac3b79ed-1af7-4d67-a275-a82ce2fd5ff8",
       "rows": [
        [
         "516",
         "The Walking Dead: The Game -- Episode 1: A New Day",
         "1970"
        ]
       ],
       "shape": {
        "columns": 2,
        "rows": 1
       }
      },
      "text/html": [
       "<div>\n",
       "<style scoped>\n",
       "    .dataframe tbody tr th:only-of-type {\n",
       "        vertical-align: middle;\n",
       "    }\n",
       "\n",
       "    .dataframe tbody tr th {\n",
       "        vertical-align: top;\n",
       "    }\n",
       "\n",
       "    .dataframe thead th {\n",
       "        text-align: right;\n",
       "    }\n",
       "</style>\n",
       "<table border=\"1\" class=\"dataframe\">\n",
       "  <thead>\n",
       "    <tr style=\"text-align: right;\">\n",
       "      <th></th>\n",
       "      <th>title</th>\n",
       "      <th>release_year</th>\n",
       "    </tr>\n",
       "  </thead>\n",
       "  <tbody>\n",
       "    <tr>\n",
       "      <th>516</th>\n",
       "      <td>The Walking Dead: The Game -- Episode 1: A New...</td>\n",
       "      <td>1970</td>\n",
       "    </tr>\n",
       "  </tbody>\n",
       "</table>\n",
       "</div>"
      ],
      "text/plain": [
       "                                                 title  release_year\n",
       "516  The Walking Dead: The Game -- Episode 1: A New...          1970"
      ]
     },
     "execution_count": 24,
     "metadata": {},
     "output_type": "execute_result"
    }
   ],
   "source": [
    "min_yers = min(reviews[\"release_year\"])\n",
    "oldest_game = reviews[reviews[\"release_year\"] == min_yers]\n",
    "oldest_game[[\"title\", \"release_year\"]]"
   ]
  },
  {
   "cell_type": "markdown",
   "metadata": {},
   "source": [
    "4. How many PC video games were rated higher than 9 in 2005? Tip: apply the `len()` function to get the number of rows in a DataFrame"
   ]
  },
  {
   "cell_type": "code",
   "execution_count": 39,
   "metadata": {},
   "outputs": [
    {
     "data": {
      "application/vnd.microsoft.datawrangler.viewer.v0+json": {
       "columns": [
        {
         "name": "index",
         "rawType": "int64",
         "type": "integer"
        },
        {
         "name": "title",
         "rawType": "object",
         "type": "string"
        }
       ],
       "conversionMethod": "pd.DataFrame",
       "ref": "8feeae38-6486-44ac-b976-27096359b82d",
       "rows": [
        [
         "6567",
         "NASCAR SimRacing"
        ],
        [
         "6640",
         "Brothers in Arms: Road to Hill 30"
        ],
        [
         "6720",
         "Tom Clancy's Splinter Cell Chaos Theory"
        ],
        [
         "6860",
         "Grand Theft Auto: San Andreas"
        ],
        [
         "7213",
         "F.E.A.R."
        ],
        [
         "7304",
         "Sid Meier's Civilization IV"
        ]
       ],
       "shape": {
        "columns": 1,
        "rows": 6
       }
      },
      "text/html": [
       "<div>\n",
       "<style scoped>\n",
       "    .dataframe tbody tr th:only-of-type {\n",
       "        vertical-align: middle;\n",
       "    }\n",
       "\n",
       "    .dataframe tbody tr th {\n",
       "        vertical-align: top;\n",
       "    }\n",
       "\n",
       "    .dataframe thead th {\n",
       "        text-align: right;\n",
       "    }\n",
       "</style>\n",
       "<table border=\"1\" class=\"dataframe\">\n",
       "  <thead>\n",
       "    <tr style=\"text-align: right;\">\n",
       "      <th></th>\n",
       "      <th>title</th>\n",
       "    </tr>\n",
       "  </thead>\n",
       "  <tbody>\n",
       "    <tr>\n",
       "      <th>6567</th>\n",
       "      <td>NASCAR SimRacing</td>\n",
       "    </tr>\n",
       "    <tr>\n",
       "      <th>6640</th>\n",
       "      <td>Brothers in Arms: Road to Hill 30</td>\n",
       "    </tr>\n",
       "    <tr>\n",
       "      <th>6720</th>\n",
       "      <td>Tom Clancy's Splinter Cell Chaos Theory</td>\n",
       "    </tr>\n",
       "    <tr>\n",
       "      <th>6860</th>\n",
       "      <td>Grand Theft Auto: San Andreas</td>\n",
       "    </tr>\n",
       "    <tr>\n",
       "      <th>7213</th>\n",
       "      <td>F.E.A.R.</td>\n",
       "    </tr>\n",
       "    <tr>\n",
       "      <th>7304</th>\n",
       "      <td>Sid Meier's Civilization IV</td>\n",
       "    </tr>\n",
       "  </tbody>\n",
       "</table>\n",
       "</div>"
      ],
      "text/plain": [
       "                                        title\n",
       "6567                         NASCAR SimRacing\n",
       "6640        Brothers in Arms: Road to Hill 30\n",
       "6720  Tom Clancy's Splinter Cell Chaos Theory\n",
       "6860            Grand Theft Auto: San Andreas\n",
       "7213                                 F.E.A.R.\n",
       "7304              Sid Meier's Civilization IV"
      ]
     },
     "execution_count": 39,
     "metadata": {},
     "output_type": "execute_result"
    }
   ],
   "source": [
    "selezionati = reviews[(reviews[\"platform\"] == \"PC\") & (reviews[\"release_year\"] == 2005) & (reviews[\"score\"] > 9.0)]\n",
    "len(selezionati)\n",
    "selezionati[[\"title\"]]"
   ]
  },
  {
   "cell_type": "markdown",
   "metadata": {},
   "source": [
    "5. Find the newest video game. Tip: You can sort the rows of a DataFrame by the value of a column (or more) with the `.sort_values` method."
   ]
  },
  {
   "cell_type": "code",
   "execution_count": 57,
   "metadata": {},
   "outputs": [
    {
     "data": {
      "application/vnd.microsoft.datawrangler.viewer.v0+json": {
       "columns": [
        {
         "name": "index",
         "rawType": "int64",
         "type": "integer"
        },
        {
         "name": "title",
         "rawType": "object",
         "type": "string"
        },
        {
         "name": "release_year",
         "rawType": "int64",
         "type": "integer"
        },
        {
         "name": "release_month",
         "rawType": "int64",
         "type": "integer"
        },
        {
         "name": "release_day",
         "rawType": "int64",
         "type": "integer"
        }
       ],
       "conversionMethod": "pd.DataFrame",
       "ref": "f9092cba-b15c-4e8b-bffd-f87cf5fdf592",
       "rows": [
        [
         "18450",
         "Virginia",
         "2016",
         "9",
         "22"
        ],
        [
         "18451",
         "Mount & Blade: Warband",
         "2016",
         "9",
         "22"
        ],
        [
         "18452",
         "FIFA 17",
         "2016",
         "9",
         "22"
        ],
        [
         "18453",
         "FIFA 17",
         "2016",
         "9",
         "22"
        ],
        [
         "18454",
         "NBA 2K17",
         "2016",
         "9",
         "22"
        ]
       ],
       "shape": {
        "columns": 4,
        "rows": 5
       }
      },
      "text/html": [
       "<div>\n",
       "<style scoped>\n",
       "    .dataframe tbody tr th:only-of-type {\n",
       "        vertical-align: middle;\n",
       "    }\n",
       "\n",
       "    .dataframe tbody tr th {\n",
       "        vertical-align: top;\n",
       "    }\n",
       "\n",
       "    .dataframe thead th {\n",
       "        text-align: right;\n",
       "    }\n",
       "</style>\n",
       "<table border=\"1\" class=\"dataframe\">\n",
       "  <thead>\n",
       "    <tr style=\"text-align: right;\">\n",
       "      <th></th>\n",
       "      <th>title</th>\n",
       "      <th>release_year</th>\n",
       "      <th>release_month</th>\n",
       "      <th>release_day</th>\n",
       "    </tr>\n",
       "  </thead>\n",
       "  <tbody>\n",
       "    <tr>\n",
       "      <th>18450</th>\n",
       "      <td>Virginia</td>\n",
       "      <td>2016</td>\n",
       "      <td>9</td>\n",
       "      <td>22</td>\n",
       "    </tr>\n",
       "    <tr>\n",
       "      <th>18451</th>\n",
       "      <td>Mount &amp; Blade: Warband</td>\n",
       "      <td>2016</td>\n",
       "      <td>9</td>\n",
       "      <td>22</td>\n",
       "    </tr>\n",
       "    <tr>\n",
       "      <th>18452</th>\n",
       "      <td>FIFA 17</td>\n",
       "      <td>2016</td>\n",
       "      <td>9</td>\n",
       "      <td>22</td>\n",
       "    </tr>\n",
       "    <tr>\n",
       "      <th>18453</th>\n",
       "      <td>FIFA 17</td>\n",
       "      <td>2016</td>\n",
       "      <td>9</td>\n",
       "      <td>22</td>\n",
       "    </tr>\n",
       "    <tr>\n",
       "      <th>18454</th>\n",
       "      <td>NBA 2K17</td>\n",
       "      <td>2016</td>\n",
       "      <td>9</td>\n",
       "      <td>22</td>\n",
       "    </tr>\n",
       "  </tbody>\n",
       "</table>\n",
       "</div>"
      ],
      "text/plain": [
       "                        title  release_year  release_month  release_day\n",
       "18450                Virginia          2016              9           22\n",
       "18451  Mount & Blade: Warband          2016              9           22\n",
       "18452                 FIFA 17          2016              9           22\n",
       "18453                 FIFA 17          2016              9           22\n",
       "18454                NBA 2K17          2016              9           22"
      ]
     },
     "execution_count": 57,
     "metadata": {},
     "output_type": "execute_result"
    }
   ],
   "source": [
    "max_yers = max(reviews[\"release_year\"])\n",
    "newest_game = reviews[reviews[\"release_year\"] == max_yers]\n",
    "max_month = max(newest_game[\"release_month\"])\n",
    "newest_game = reviews[(reviews[\"release_year\"] == max_yers) & (reviews[\"release_month\"] == max_month)]\n",
    "max_day = max(newest_game[\"release_day\"])\n",
    "newest_game = reviews[(reviews[\"release_year\"] == max_yers) & (reviews[\"release_month\"] == max_month) & (reviews[\"release_day\"] == max_day)]\n",
    "newest_game[[\"title\", \"release_year\", \"release_month\", \"release_day\"]]\n",
    "\n",
    "\n",
    "#reviews[\"release_year\"].sort_values(ascending=False).head(10)\n",
    "# newest_data = max(reviews[\"release_year\"])\n",
    "# reviews[reviews[\"release_year\"] == newest_data]"
   ]
  },
  {
   "cell_type": "markdown",
   "metadata": {},
   "source": [
    "6. As you noticed the dataset has both a score column and a score_phrase column (the grade). Can you find what grade (score_phrase) each score corresponds to? In other words, what are the score thresholds for moving from one grade to the next? Tip: You can use the `.unique()` method to find the unique values of a set"
   ]
  },
  {
   "cell_type": "code",
   "execution_count": 63,
   "metadata": {},
   "outputs": [
    {
     "data": {
      "text/plain": [
       "12589"
      ]
     },
     "execution_count": 63,
     "metadata": {},
     "output_type": "execute_result"
    }
   ],
   "source": [
    "len(reviews[\"title\"].unique())"
   ]
  },
  {
   "cell_type": "markdown",
   "metadata": {},
   "source": [
    "7. Load the dataset from the .csv located at the following path (on colab): `sample_data/california_housing_train.csv`"
   ]
  },
  {
   "cell_type": "code",
   "execution_count": 64,
   "metadata": {},
   "outputs": [
    {
     "ename": "FileNotFoundError",
     "evalue": "[Errno 2] No such file or directory: 'sample_data/california_housing_train.csv'",
     "output_type": "error",
     "traceback": [
      "\u001b[1;31m---------------------------------------------------------------------------\u001b[0m",
      "\u001b[1;31mFileNotFoundError\u001b[0m                         Traceback (most recent call last)",
      "Cell \u001b[1;32mIn[64], line 2\u001b[0m\n\u001b[0;32m      1\u001b[0m path_csv \u001b[38;5;241m=\u001b[39m \u001b[38;5;124m\"\u001b[39m\u001b[38;5;124msample_data/california_housing_train.csv\u001b[39m\u001b[38;5;124m\"\u001b[39m\n\u001b[1;32m----> 2\u001b[0m reviews \u001b[38;5;241m=\u001b[39m pd\u001b[38;5;241m.\u001b[39mread_csv(path_csv)\n\u001b[0;32m      3\u001b[0m reviews\n",
      "File \u001b[1;32mc:\\Users\\tomma\\Nuova cartella\\Lib\\site-packages\\pandas\\io\\parsers\\readers.py:1026\u001b[0m, in \u001b[0;36mread_csv\u001b[1;34m(filepath_or_buffer, sep, delimiter, header, names, index_col, usecols, dtype, engine, converters, true_values, false_values, skipinitialspace, skiprows, skipfooter, nrows, na_values, keep_default_na, na_filter, verbose, skip_blank_lines, parse_dates, infer_datetime_format, keep_date_col, date_parser, date_format, dayfirst, cache_dates, iterator, chunksize, compression, thousands, decimal, lineterminator, quotechar, quoting, doublequote, escapechar, comment, encoding, encoding_errors, dialect, on_bad_lines, delim_whitespace, low_memory, memory_map, float_precision, storage_options, dtype_backend)\u001b[0m\n\u001b[0;32m   1013\u001b[0m kwds_defaults \u001b[38;5;241m=\u001b[39m _refine_defaults_read(\n\u001b[0;32m   1014\u001b[0m     dialect,\n\u001b[0;32m   1015\u001b[0m     delimiter,\n\u001b[1;32m   (...)\u001b[0m\n\u001b[0;32m   1022\u001b[0m     dtype_backend\u001b[38;5;241m=\u001b[39mdtype_backend,\n\u001b[0;32m   1023\u001b[0m )\n\u001b[0;32m   1024\u001b[0m kwds\u001b[38;5;241m.\u001b[39mupdate(kwds_defaults)\n\u001b[1;32m-> 1026\u001b[0m \u001b[38;5;28;01mreturn\u001b[39;00m _read(filepath_or_buffer, kwds)\n",
      "File \u001b[1;32mc:\\Users\\tomma\\Nuova cartella\\Lib\\site-packages\\pandas\\io\\parsers\\readers.py:620\u001b[0m, in \u001b[0;36m_read\u001b[1;34m(filepath_or_buffer, kwds)\u001b[0m\n\u001b[0;32m    617\u001b[0m _validate_names(kwds\u001b[38;5;241m.\u001b[39mget(\u001b[38;5;124m\"\u001b[39m\u001b[38;5;124mnames\u001b[39m\u001b[38;5;124m\"\u001b[39m, \u001b[38;5;28;01mNone\u001b[39;00m))\n\u001b[0;32m    619\u001b[0m \u001b[38;5;66;03m# Create the parser.\u001b[39;00m\n\u001b[1;32m--> 620\u001b[0m parser \u001b[38;5;241m=\u001b[39m TextFileReader(filepath_or_buffer, \u001b[38;5;241m*\u001b[39m\u001b[38;5;241m*\u001b[39mkwds)\n\u001b[0;32m    622\u001b[0m \u001b[38;5;28;01mif\u001b[39;00m chunksize \u001b[38;5;129;01mor\u001b[39;00m iterator:\n\u001b[0;32m    623\u001b[0m     \u001b[38;5;28;01mreturn\u001b[39;00m parser\n",
      "File \u001b[1;32mc:\\Users\\tomma\\Nuova cartella\\Lib\\site-packages\\pandas\\io\\parsers\\readers.py:1620\u001b[0m, in \u001b[0;36mTextFileReader.__init__\u001b[1;34m(self, f, engine, **kwds)\u001b[0m\n\u001b[0;32m   1617\u001b[0m     \u001b[38;5;28mself\u001b[39m\u001b[38;5;241m.\u001b[39moptions[\u001b[38;5;124m\"\u001b[39m\u001b[38;5;124mhas_index_names\u001b[39m\u001b[38;5;124m\"\u001b[39m] \u001b[38;5;241m=\u001b[39m kwds[\u001b[38;5;124m\"\u001b[39m\u001b[38;5;124mhas_index_names\u001b[39m\u001b[38;5;124m\"\u001b[39m]\n\u001b[0;32m   1619\u001b[0m \u001b[38;5;28mself\u001b[39m\u001b[38;5;241m.\u001b[39mhandles: IOHandles \u001b[38;5;241m|\u001b[39m \u001b[38;5;28;01mNone\u001b[39;00m \u001b[38;5;241m=\u001b[39m \u001b[38;5;28;01mNone\u001b[39;00m\n\u001b[1;32m-> 1620\u001b[0m \u001b[38;5;28mself\u001b[39m\u001b[38;5;241m.\u001b[39m_engine \u001b[38;5;241m=\u001b[39m \u001b[38;5;28mself\u001b[39m\u001b[38;5;241m.\u001b[39m_make_engine(f, \u001b[38;5;28mself\u001b[39m\u001b[38;5;241m.\u001b[39mengine)\n",
      "File \u001b[1;32mc:\\Users\\tomma\\Nuova cartella\\Lib\\site-packages\\pandas\\io\\parsers\\readers.py:1880\u001b[0m, in \u001b[0;36mTextFileReader._make_engine\u001b[1;34m(self, f, engine)\u001b[0m\n\u001b[0;32m   1878\u001b[0m     \u001b[38;5;28;01mif\u001b[39;00m \u001b[38;5;124m\"\u001b[39m\u001b[38;5;124mb\u001b[39m\u001b[38;5;124m\"\u001b[39m \u001b[38;5;129;01mnot\u001b[39;00m \u001b[38;5;129;01min\u001b[39;00m mode:\n\u001b[0;32m   1879\u001b[0m         mode \u001b[38;5;241m+\u001b[39m\u001b[38;5;241m=\u001b[39m \u001b[38;5;124m\"\u001b[39m\u001b[38;5;124mb\u001b[39m\u001b[38;5;124m\"\u001b[39m\n\u001b[1;32m-> 1880\u001b[0m \u001b[38;5;28mself\u001b[39m\u001b[38;5;241m.\u001b[39mhandles \u001b[38;5;241m=\u001b[39m get_handle(\n\u001b[0;32m   1881\u001b[0m     f,\n\u001b[0;32m   1882\u001b[0m     mode,\n\u001b[0;32m   1883\u001b[0m     encoding\u001b[38;5;241m=\u001b[39m\u001b[38;5;28mself\u001b[39m\u001b[38;5;241m.\u001b[39moptions\u001b[38;5;241m.\u001b[39mget(\u001b[38;5;124m\"\u001b[39m\u001b[38;5;124mencoding\u001b[39m\u001b[38;5;124m\"\u001b[39m, \u001b[38;5;28;01mNone\u001b[39;00m),\n\u001b[0;32m   1884\u001b[0m     compression\u001b[38;5;241m=\u001b[39m\u001b[38;5;28mself\u001b[39m\u001b[38;5;241m.\u001b[39moptions\u001b[38;5;241m.\u001b[39mget(\u001b[38;5;124m\"\u001b[39m\u001b[38;5;124mcompression\u001b[39m\u001b[38;5;124m\"\u001b[39m, \u001b[38;5;28;01mNone\u001b[39;00m),\n\u001b[0;32m   1885\u001b[0m     memory_map\u001b[38;5;241m=\u001b[39m\u001b[38;5;28mself\u001b[39m\u001b[38;5;241m.\u001b[39moptions\u001b[38;5;241m.\u001b[39mget(\u001b[38;5;124m\"\u001b[39m\u001b[38;5;124mmemory_map\u001b[39m\u001b[38;5;124m\"\u001b[39m, \u001b[38;5;28;01mFalse\u001b[39;00m),\n\u001b[0;32m   1886\u001b[0m     is_text\u001b[38;5;241m=\u001b[39mis_text,\n\u001b[0;32m   1887\u001b[0m     errors\u001b[38;5;241m=\u001b[39m\u001b[38;5;28mself\u001b[39m\u001b[38;5;241m.\u001b[39moptions\u001b[38;5;241m.\u001b[39mget(\u001b[38;5;124m\"\u001b[39m\u001b[38;5;124mencoding_errors\u001b[39m\u001b[38;5;124m\"\u001b[39m, \u001b[38;5;124m\"\u001b[39m\u001b[38;5;124mstrict\u001b[39m\u001b[38;5;124m\"\u001b[39m),\n\u001b[0;32m   1888\u001b[0m     storage_options\u001b[38;5;241m=\u001b[39m\u001b[38;5;28mself\u001b[39m\u001b[38;5;241m.\u001b[39moptions\u001b[38;5;241m.\u001b[39mget(\u001b[38;5;124m\"\u001b[39m\u001b[38;5;124mstorage_options\u001b[39m\u001b[38;5;124m\"\u001b[39m, \u001b[38;5;28;01mNone\u001b[39;00m),\n\u001b[0;32m   1889\u001b[0m )\n\u001b[0;32m   1890\u001b[0m \u001b[38;5;28;01massert\u001b[39;00m \u001b[38;5;28mself\u001b[39m\u001b[38;5;241m.\u001b[39mhandles \u001b[38;5;129;01mis\u001b[39;00m \u001b[38;5;129;01mnot\u001b[39;00m \u001b[38;5;28;01mNone\u001b[39;00m\n\u001b[0;32m   1891\u001b[0m f \u001b[38;5;241m=\u001b[39m \u001b[38;5;28mself\u001b[39m\u001b[38;5;241m.\u001b[39mhandles\u001b[38;5;241m.\u001b[39mhandle\n",
      "File \u001b[1;32mc:\\Users\\tomma\\Nuova cartella\\Lib\\site-packages\\pandas\\io\\common.py:873\u001b[0m, in \u001b[0;36mget_handle\u001b[1;34m(path_or_buf, mode, encoding, compression, memory_map, is_text, errors, storage_options)\u001b[0m\n\u001b[0;32m    868\u001b[0m \u001b[38;5;28;01melif\u001b[39;00m \u001b[38;5;28misinstance\u001b[39m(handle, \u001b[38;5;28mstr\u001b[39m):\n\u001b[0;32m    869\u001b[0m     \u001b[38;5;66;03m# Check whether the filename is to be opened in binary mode.\u001b[39;00m\n\u001b[0;32m    870\u001b[0m     \u001b[38;5;66;03m# Binary mode does not support 'encoding' and 'newline'.\u001b[39;00m\n\u001b[0;32m    871\u001b[0m     \u001b[38;5;28;01mif\u001b[39;00m ioargs\u001b[38;5;241m.\u001b[39mencoding \u001b[38;5;129;01mand\u001b[39;00m \u001b[38;5;124m\"\u001b[39m\u001b[38;5;124mb\u001b[39m\u001b[38;5;124m\"\u001b[39m \u001b[38;5;129;01mnot\u001b[39;00m \u001b[38;5;129;01min\u001b[39;00m ioargs\u001b[38;5;241m.\u001b[39mmode:\n\u001b[0;32m    872\u001b[0m         \u001b[38;5;66;03m# Encoding\u001b[39;00m\n\u001b[1;32m--> 873\u001b[0m         handle \u001b[38;5;241m=\u001b[39m \u001b[38;5;28mopen\u001b[39m(\n\u001b[0;32m    874\u001b[0m             handle,\n\u001b[0;32m    875\u001b[0m             ioargs\u001b[38;5;241m.\u001b[39mmode,\n\u001b[0;32m    876\u001b[0m             encoding\u001b[38;5;241m=\u001b[39mioargs\u001b[38;5;241m.\u001b[39mencoding,\n\u001b[0;32m    877\u001b[0m             errors\u001b[38;5;241m=\u001b[39merrors,\n\u001b[0;32m    878\u001b[0m             newline\u001b[38;5;241m=\u001b[39m\u001b[38;5;124m\"\u001b[39m\u001b[38;5;124m\"\u001b[39m,\n\u001b[0;32m    879\u001b[0m         )\n\u001b[0;32m    880\u001b[0m     \u001b[38;5;28;01melse\u001b[39;00m:\n\u001b[0;32m    881\u001b[0m         \u001b[38;5;66;03m# Binary mode\u001b[39;00m\n\u001b[0;32m    882\u001b[0m         handle \u001b[38;5;241m=\u001b[39m \u001b[38;5;28mopen\u001b[39m(handle, ioargs\u001b[38;5;241m.\u001b[39mmode)\n",
      "\u001b[1;31mFileNotFoundError\u001b[0m: [Errno 2] No such file or directory: 'sample_data/california_housing_train.csv'"
     ]
    }
   ],
   "source": [
    "path_csv = \"sample_data/california_housing_train.csv\"\n",
    "reviews = pd.read_csv(path_csv)\n",
    "reviews"
   ]
  },
  {
   "cell_type": "markdown",
   "metadata": {},
   "source": [
    "8. Show a histogram of the `median_house_value` variable."
   ]
  },
  {
   "cell_type": "code",
   "execution_count": null,
   "metadata": {},
   "outputs": [],
   "source": []
  },
  {
   "cell_type": "markdown",
   "metadata": {},
   "source": [
    "9. Show a plot (scatterplot) of the variable 'population' (x-axis) versus the variable 'total_rooms' (y-axis).\n",
    "Tip: You can use matplotlib's 'scatter' method: it works similarly to 'plot' but does not join the points with a line by default."
   ]
  },
  {
   "cell_type": "code",
   "execution_count": null,
   "metadata": {},
   "outputs": [],
   "source": []
  },
  {
   "cell_type": "markdown",
   "metadata": {},
   "source": [
    "10. How many inhabitants per house are there?"
   ]
  },
  {
   "cell_type": "code",
   "execution_count": null,
   "metadata": {},
   "outputs": [],
   "source": []
  },
  {
   "cell_type": "markdown",
   "metadata": {},
   "source": [
    "11. This dataset contains the geographic coordinates of each neighborhood, can you show in a graph the location of each neighborhood? (as if it were a map)"
   ]
  },
  {
   "cell_type": "code",
   "execution_count": null,
   "metadata": {},
   "outputs": [],
   "source": []
  },
  {
   "cell_type": "markdown",
   "metadata": {},
   "source": [
    "12. Show as before the location of each neighborhood, but this time neighborhoods with less than 5000 inhabitants should be rapresented in a different color than neighborhoods with more than 5000 inhabitants.\n",
    "Tip: If you call a matplotlib graphing function (such as ply.plot or plt.scatter) more than once, the two graphs will be overlapped"
   ]
  },
  {
   "cell_type": "code",
   "execution_count": null,
   "metadata": {},
   "outputs": [],
   "source": []
  },
  {
   "cell_type": "markdown",
   "metadata": {},
   "source": [
    "13. Color the points according to the value of the `median_house_value` variable.\n",
    "Tip: use the `c` parameter of the scatter function"
   ]
  },
  {
   "cell_type": "code",
   "execution_count": null,
   "metadata": {},
   "outputs": [],
   "source": []
  }
 ],
 "metadata": {
  "colab": {
   "include_colab_link": true,
   "provenance": []
  },
  "kernelspec": {
   "display_name": "base",
   "language": "python",
   "name": "python3"
  },
  "language_info": {
   "codemirror_mode": {
    "name": "ipython",
    "version": 3
   },
   "file_extension": ".py",
   "mimetype": "text/x-python",
   "name": "python",
   "nbconvert_exporter": "python",
   "pygments_lexer": "ipython3",
   "version": "3.12.4"
  }
 },
 "nbformat": 4,
 "nbformat_minor": 0
}
